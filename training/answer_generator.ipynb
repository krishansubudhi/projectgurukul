{
 "cells": [
  {
   "cell_type": "code",
   "execution_count": 1,
   "metadata": {},
   "outputs": [
    {
     "data": {
      "text/plain": [
       "<module 'projectgurukul.prompt_templates' from '/Users/krishansubudhi/repos/projectgurukul/projectgurukul/prompt_templates.py'>"
      ]
     },
     "execution_count": 1,
     "metadata": {},
     "output_type": "execute_result"
    }
   ],
   "source": [
    "from projectgurukul import scriptures, corelib, prompt_templates\n",
    "from llama_index import StorageContext, load_index_from_storage\n",
    "\n",
    "from llama_index.llms import ChatMessage, MessageRole\n",
    "from llama_index.prompts import ChatPromptTemplate\n",
    "from llama_index.schema import MetadataMode\n",
    "from llama_index.query_engine import RetrieverQueryEngine\n",
    "from llama_index.response.notebook_utils import display_response\n",
    "# apply nested async to run in a notebook\n",
    "import nest_asyncio\n",
    "import llama_index\n",
    "from llama_index import ServiceContext\n",
    "from llama_index.llms import OpenAI\n",
    "import pandas as pd\n",
    "import numpy as np\n",
    "from llama_index import QueryBundle\n",
    "import re\n",
    "import json\n",
    "from tqdm import tqdm\n",
    "tqdm.pandas()\n",
    "\n",
    "\n",
    "nest_asyncio.apply()\n",
    "\n",
    "import importlib\n",
    "importlib.reload(prompt_templates)"
   ]
  },
  {
   "cell_type": "code",
   "execution_count": 2,
   "metadata": {},
   "outputs": [
    {
     "data": {
      "text/html": [
       "<div>\n",
       "<style scoped>\n",
       "    .dataframe tbody tr th:only-of-type {\n",
       "        vertical-align: middle;\n",
       "    }\n",
       "\n",
       "    .dataframe tbody tr th {\n",
       "        vertical-align: top;\n",
       "    }\n",
       "\n",
       "    .dataframe thead th {\n",
       "        text-align: right;\n",
       "    }\n",
       "</style>\n",
       "<table border=\"1\" class=\"dataframe\">\n",
       "  <thead>\n",
       "    <tr style=\"text-align: right;\">\n",
       "      <th></th>\n",
       "      <th>ID</th>\n",
       "      <th>Split</th>\n",
       "      <th>Scripture</th>\n",
       "      <th>Category</th>\n",
       "      <th>Question</th>\n",
       "      <th>Question Context</th>\n",
       "    </tr>\n",
       "  </thead>\n",
       "  <tbody>\n",
       "    <tr>\n",
       "      <th>0</th>\n",
       "      <td>1</td>\n",
       "      <td>Train</td>\n",
       "      <td>Ramayana</td>\n",
       "      <td>From Context</td>\n",
       "      <td>Why does Vasishta refuse to give Sabala to Vis...</td>\n",
       "      <td>Context 1\\nहैरण्यानां रथानां च श्वेताश्वानां च...</td>\n",
       "    </tr>\n",
       "    <tr>\n",
       "      <th>1</th>\n",
       "      <td>2</td>\n",
       "      <td>Train</td>\n",
       "      <td>Ramayana</td>\n",
       "      <td>From Context</td>\n",
       "      <td>Did Hanuman's devotion to Rama ever waver, eve...</td>\n",
       "      <td></td>\n",
       "    </tr>\n",
       "    <tr>\n",
       "      <th>2</th>\n",
       "      <td>3</td>\n",
       "      <td>Train</td>\n",
       "      <td>Ramayana</td>\n",
       "      <td>From Context</td>\n",
       "      <td>What drove Ravana to kidnap Sita, and was it s...</td>\n",
       "      <td></td>\n",
       "    </tr>\n",
       "    <tr>\n",
       "      <th>3</th>\n",
       "      <td>4</td>\n",
       "      <td>Train</td>\n",
       "      <td>Ramayana</td>\n",
       "      <td>From Context</td>\n",
       "      <td>Describe Bharata's character and his approach ...</td>\n",
       "      <td>Context 1\\nश्वस्तु गन्तासि तं देशं वसाद्य सह म...</td>\n",
       "    </tr>\n",
       "    <tr>\n",
       "      <th>4</th>\n",
       "      <td>5</td>\n",
       "      <td>Train</td>\n",
       "      <td>Ramayana</td>\n",
       "      <td>From Context</td>\n",
       "      <td>How did Ravana react upon learning about Dhumr...</td>\n",
       "      <td>Context 1\\n[Ravana comes to know that Rama and...</td>\n",
       "    </tr>\n",
       "  </tbody>\n",
       "</table>\n",
       "</div>"
      ],
      "text/plain": [
       "   ID  Split Scripture      Category  \\\n",
       "0   1  Train  Ramayana  From Context   \n",
       "1   2  Train  Ramayana  From Context   \n",
       "2   3  Train  Ramayana  From Context   \n",
       "3   4  Train  Ramayana  From Context   \n",
       "4   5  Train  Ramayana  From Context   \n",
       "\n",
       "                                            Question  \\\n",
       "0  Why does Vasishta refuse to give Sabala to Vis...   \n",
       "1  Did Hanuman's devotion to Rama ever waver, eve...   \n",
       "2  What drove Ravana to kidnap Sita, and was it s...   \n",
       "3  Describe Bharata's character and his approach ...   \n",
       "4  How did Ravana react upon learning about Dhumr...   \n",
       "\n",
       "                                    Question Context  \n",
       "0  Context 1\\nहैरण्यानां रथानां च श्वेताश्वानां च...  \n",
       "1                                                     \n",
       "2                                                     \n",
       "3  Context 1\\nश्वस्तु गन्तासि तं देशं वसाद्य सह म...  \n",
       "4  Context 1\\n[Ravana comes to know that Rama and...  "
      ]
     },
     "execution_count": 2,
     "metadata": {},
     "output_type": "execute_result"
    }
   ],
   "source": [
    "data= pd.read_csv(\"~/Downloads/Gurukul Data - data_train.csv\").dropna(how = \"all\", axis = 1).fillna(\"\")\n",
    "data.head()"
   ]
  },
  {
   "cell_type": "code",
   "execution_count": 3,
   "metadata": {},
   "outputs": [
    {
     "name": "stdout",
     "output_type": "stream",
     "text": [
      "Using openAI models\n"
     ]
    }
   ],
   "source": [
    "retriever = corelib.get_fusion_retriever(['gita','ramayana'], is_offline=False, data_dir=\"../data/\")\n",
    "query_engine = RetrieverQueryEngine.from_args(\n",
    "    retriever,\n",
    "    text_qa_template = prompt_templates.custom_text_qa_template)"
   ]
  },
  {
   "cell_type": "code",
   "execution_count": 4,
   "metadata": {},
   "outputs": [],
   "source": [
    "gpt4_service_context = ServiceContext.from_defaults(\n",
    "    llm = OpenAI(model = \"gpt-4-1106-preview\")\n",
    ")\n",
    "\n",
    "trained_model_service_context = ServiceContext.from_defaults(\n",
    "    llm = OpenAI(model = \"ft:gpt-3.5-turbo-1106:macro-mate::8jTl73oZ\")\n",
    ")\n",
    "\n",
    "query_engine_gpt_4 = RetrieverQueryEngine.from_args(\n",
    "    retriever,\n",
    "    text_qa_template = prompt_templates.custom_text_qa_template,\n",
    "    service_context=gpt4_service_context\n",
    ")\n",
    "\n",
    "query_engine_trained_model = RetrieverQueryEngine.from_args(\n",
    "    retriever,\n",
    "    text_qa_template = prompt_templates.training_text_qa_template,\n",
    "    service_context=trained_model_service_context\n",
    ")\n",
    "\n"
   ]
  },
  {
   "cell_type": "code",
   "execution_count": 5,
   "metadata": {},
   "outputs": [],
   "source": [
    "# import logging\n",
    "# import sys\n",
    "# logging.basicConfig(stream=sys.stdout, level=logging.DEBUG)\n",
    "# logging.getLogger().addHandler(logging.StreamHandler(stream=sys.stdout))"
   ]
  },
  {
   "cell_type": "code",
   "execution_count": 6,
   "metadata": {},
   "outputs": [],
   "source": [
    "def get_prompt(query_str, context_str):\n",
    "    prompt = prompt_templates.custom_text_qa_template.format_messages(\n",
    "        query_str = query_str,context_str= context_str)\n",
    "    return (llama_index.llms.openai_utils.to_openai_message_dicts(prompt))\n",
    "\n",
    "def get_prompt_str(query_str, context_str):\n",
    "    prompt = prompt_templates.custom_text_qa_template.format(\n",
    "        query_str = query_str,context_str= context_str)\n",
    "    return prompt\n",
    "\n",
    "def get_contexts(context_str):\n",
    "    # Define a regex pattern to match lines with \"Context\" labels\n",
    "    pattern = re.compile(r'Context \\d+')\n",
    "\n",
    "    # Use re.sub to replace matched lines with an empty string\n",
    "    cleaned_text = re.sub(pattern, '', context_str)\n",
    "\n",
    "    # Split the text into contexts using '---' as a separator\n",
    "    contexts = [context.strip() for context in cleaned_text.split('---')]\n",
    "    return contexts\n",
    "\n",
    "def get_response(query, contexts ):\n",
    "    response = query_engine._response_synthesizer.get_response(\n",
    "        query,\n",
    "        contexts\n",
    "    )\n",
    "    #query_engine.query(query)\n",
    "    return response\n",
    "\n",
    "def get_response_from_row(row):\n",
    "    query_str = row.Question\n",
    "    contexts = json.loads(row.used_context)\n",
    "    return get_response(query_str, contexts)\n",
    "\n",
    "def get_gpt4_response(query, contexts ):\n",
    "    response = query_engine_gpt_4._response_synthesizer.get_response(\n",
    "        query,\n",
    "        contexts\n",
    "    )\n",
    "    #query_engine.query(query)\n",
    "    return response\n",
    "\n",
    "def get_trained_model_response(query, contexts ):\n",
    "    response = query_engine_trained_model._response_synthesizer.get_response(\n",
    "        query,\n",
    "        contexts\n",
    "    )\n",
    "    #query_engine.query(query)\n",
    "    return response\n",
    "\n",
    "def process_row(row):\n",
    "    new_row = pd.Series(row)\n",
    "    try:\n",
    "        query_str = row.Question\n",
    "        if row.Category == \"Outside Context\":\n",
    "            contexts = get_contexts(row[\"Question Context\"])\n",
    "        else:\n",
    "            contexts = [result.get_content(metadata_mode=MetadataMode.LLM) for result in retriever.retrieve(query_str)]\n",
    "        context_str = \"\\n\\n\".join(contexts)\n",
    "        new_row[\"used_context\"] = json.dumps(contexts, ensure_ascii=False)\n",
    "        new_row[\"prompt_str\"] = get_prompt_str(query_str, context_str)\n",
    "        new_row[\"prompt_openai\"] = json.dumps(get_prompt(query_str, context_str), ensure_ascii=False)\n",
    "        # new_row[\"answer_gpt3\"] = get_response(query_str, contexts)\n",
    "        return new_row\n",
    "    except:\n",
    "        return new_row\n"
   ]
  },
  {
   "cell_type": "code",
   "execution_count": 15,
   "metadata": {},
   "outputs": [
    {
     "name": "stdout",
     "output_type": "stream",
     "text": [
      "Generated queries:\n",
      "1. What is the significance of Sita wanting a pyre?\n",
      "2. What is the story behind Sita's desire for a pyre?\n",
      "3. How does the desire for a pyre relate to Sita's character?\n",
      "4. What are the cultural or religious reasons behind Sita's wish for a pyre?\n",
      "5. How does Sita's desire for a pyre impact the overall narrative?\n",
      "6. Are there any symbolic meanings associated with Sita's request for a pyre?\n",
      "7. How does Sita's desire for a pyre reflect her emotions or state of mind?\n",
      "8. What are the consequences of Sita's wish for a pyre in the story?\n",
      "9. How does Sita's desire for a pyre connect to the theme of sacrifice?\n",
      "10. Are there any alternative interpretations of Sita's desire for a pyre?\n",
      "['1. What is the significance of Sita wanting a pyre?', \"2. What is the story behind Sita's desire for a pyre?\", \"3. How does the desire for a pyre relate to Sita's character?\", \"4. What are the cultural or religious reasons behind Sita's wish for a pyre?\", \"5. How does Sita's desire for a pyre impact the overall narrative?\", \"6. Are there any symbolic meanings associated with Sita's request for a pyre?\", \"7. How does Sita's desire for a pyre reflect her emotions or state of mind?\", \"8. What are the consequences of Sita's wish for a pyre in the story?\", \"9. How does Sita's desire for a pyre connect to the theme of sacrifice?\", \"10. Are there any alternative interpretations of Sita's desire for a pyre?\"]\n"
     ]
    }
   ],
   "source": [
    "query = \"Why did Sita want pyre?\"\n",
    "\n",
    "print(retriever._get_queries(query))\n"
   ]
  },
  {
   "cell_type": "code",
   "execution_count": 16,
   "metadata": {},
   "outputs": [
    {
     "name": "stdout",
     "output_type": "stream",
     "text": [
      "Generated queries:\n",
      "1. What is the significance of Sita's desire for a pyre?\n",
      "2. How does the story of Sita wanting a pyre relate to Hindu mythology?\n",
      "3. What are the cultural and religious reasons behind Sita's request for a pyre?\n",
      "4. Did Sita's desire for a pyre have any symbolic meaning?\n",
      "5. How did the other characters in the Ramayana react to Sita's wish for a pyre?\n",
      "6. Are there any alternative interpretations or explanations for Sita's desire for a pyre?\n",
      "7. What are the different versions or retellings of the story that explain Sita's desire for a pyre?\n",
      "8. How does Sita's request for a pyre reflect her character development throughout the Ramayana?\n",
      "9. What lessons or messages can be derived from Sita's desire for a pyre?\n",
      "10. How does Sita's desire for a pyre contribute to the overall themes and motifs of the Ramayana?\n",
      "sarga: 59\n",
      "file_path: data/ramayana/data/sundarakanda.csv\n",
      "kanda: sundara kanda\n",
      "\n",
      "[Hanuman gives an account of the plight of Sita in Lanka -- incites the vanaras to be ready for the next course of action]  एतदाख्याय तत्सर्वं हनुमान्मारुतात्मजः।भूयस्समुपचक्राम वचनं वक्तुमुत्तरम्।।5.59.1।।\n",
      " Hanuman, son of the Windgod having narrated in detail all that had happened again started disclosing further details৷৷\n",
      "\n",
      "सफलो राघवोद्योग स्सुग्रीवस्य च सम्भ्रमः।शीलमासाद्य सीताया मम च प्रवणं मनः।।5.59.2।।\n",
      " \"It is due to Rama's exertions, Sugriva's endeavour and Sita's conduct that I have been successful. My devotion to Sita has further deepened. \n",
      "\n",
      "तपसा निर्दहेल्लोकान्क्रुद्धो वा निर्दहेदपि।\n",
      "\n",
      "सर्वधातिप्रवृद्धोऽसौ रावणो राक्षसाधिपः ॥ 5.59.3 ॥\n",
      " \n",
      " \n",
      "\"The demon king is rich in asceticism. He can burn the whole world with the power of his penance. In spite of Sita's anger he was not burnt(Hanuman gives the reason for Ravana's survival).\n",
      "\n",
      "तस्य तां स्पृशतो गात्रं तपसा न विनाशितम्।न तदग्निशिखा कुर्यात्संस्पृष्टा पाणिना सती।।5.59.4।।जनकस्यात्मजा कुर्याद्यत्क्रोधकलुषीकृता।\n",
      " \"Sita can burn Ravana with the mere touch of her body but because of the power of his penance, he was not burnt even though he touched her hand. If enraged, Janaki can burn the whole world (by virtue of her chastity) in a way that even the flame of fire can not do. (But she desired that her husband should kill him.)\n",
      "\n",
      "---\n",
      "\n",
      "sarga: 48\n",
      "file_path: data/ramayana/data/yuddhakanda.csv\n",
      "kanda: yuddha kanda\n",
      "\n",
      "[Sita gets immersed in grief. Trijata reassures her and takes her back to Ashoka grove.]भर्तारंनिहतंदृष्टवालक्ष्मणंचमहाबलम् ।विललापभृशंसीताकरुणंशोककर्शिता ।।6.48.1।।\n",
      " On seeing her husband killed and also mighty Lakshmana, Sita became emotional in intense sorrow and cried piteously.\n",
      "\n",
      "ऊचुर्लक्षणिकायेमांपुत्रिण्यविधवेतिच ।तेऽद्यसर्वेहतेरामेज्ञानिनोऽनृतवादिनः ।।6.48.2।।\n",
      " \"Whoever was capable of predicting the future have said that I will be the mother of sons and not become a widow. Now if Rama is dead, they become liars.\"\n",
      "\n",
      "यज्वनोमहिषींयेमामूचुःपत्नींचसत्त्रिणः ।तेऽद्यसर्वेहतेरामेज्ञानिनोऽनृतवादिनः ।।6.48.3।।\n",
      " \"Whoever conducted sacrificial ceremonies and are knowledgeable of sastras have told me that I would be consort. They are all liars now as Rama is killed.\"\n",
      "\n",
      "ऊचुस्संश्रवणेयेमांद्विजाःकार्तान्तिकाश्शुभाम् ।तेऽद्यसर्वेहतेरामेज्ञानिनोऽनृतवादिनः ।।6.48.4।।\n",
      " \"The astrologers, brahmins who have promised me to be auspicious and all the wise who have spoken are liars if Rama is killed.\"\n",
      "\n",
      "वीरपार्थिवपत्नीत्वांयेविदुर्भर्तृपूजिताम् ।तेऽद्यसर्वेहतेरामेज्ञानिनोऽनृतवादिनः ।।6.48.5।।\n",
      " \"Whoever has told me that I will be the wife of a man of great prowess, worshipped by husband, and all wise men are liars if Rama is killed.\"\n",
      "\n",
      "इमानिखलुपद्मानिपादयोर्यैःकुलस्त्रियः ।अधिराज्येऽभिषिच्यन्तेनरेन्द्रैःपतिभिःसह ।।6.48.6।।\n",
      " \"Those virtuous lotus marks that a woman has on their feet to become crowned queen of a kingdom are seen in my feet.\"\n",
      "\n",
      "वैधव्यंयान्तियैर्नार्योऽलक्षणैर्भाग्यदुर्लभाः ।नात्मनन्तानिपश्यामिपश्यन्तीहतलक्षणा ।।6.48.7।।\n",
      " \"Those inauspicious signs found in unlucky and widowed women are difficult to find in me. I do not see any such signs in me.\"\n",
      "\n",
      "---\n",
      "\n",
      "sarga: 114\n",
      "file_path: data/ramayana/data/yuddhakanda.csv\n",
      "kanda: yuddha kanda\n",
      "\n",
      "To the destruction of your wealth, life and your own people you suddenly developed passion for Sita.\"\n",
      "\n",
      "अरुन्धत्याविशिष्टांतांरोहिण्याश्चापिदुर्मते ।सीतांधर्षयतामान्यांत्वयाह्यसदृशंकृतम् ।।6.114.23।।\n",
      " \"O evil minded king! Sita is to be respected even more than Arundathi or Rohini. Your arrogant action to her is unworthy.\"\n",
      "\n",
      "वसुधायाहिवसुधांश्रियःश्रींभर्तृवत्सलाम् ।सीतांसर्वानवद्याङ्गीमरण्येविजनेशुभाम् ।।6.114.24।।आनयित्वातुतांदीनांछद्मनात्मस्वदूषण ।अप्राप्यतंचैवकामंमैथिलीसङ्गमेकृतम् ।।6.114.25।।पतिव्रतायास्तपसानूनंदग्धोऽसिमेप्रभो ।\n",
      " \"O king! You dishonoured your wives and me. Sita, who is tolerant as the goddess of earth, prosperous, goddess of fortune, who is fond of her husband, charming in all respects, living alone in the forest, an auspicious one, desperate, was brought in disguise by you. Before you cherished your desire to be in union with Mythili, surely you got burnt by her austerity.\"\n",
      "\n",
      "तदैवयन्नदग्धगद्धस्त्वंधर्षयंस्तनुममध्यमाम् ।देवाभिभ्यतेतेसर्वेसेन्द्राःसानाग्नीपुरोगमाः ।।6.114.26।।\n",
      " \"When you touched Sita of slender waist, at that time itself you were not burnt. All gods including Indra headed by fire god are approaching you with hostile intention.\"\n",
      "\n",
      "अवश्यमेवलभतेफलंपापस्यकर्मणः ।घोरंपर्यागतेकालेकर्तानास्त्यत्रसंशयः ।।6.114.27।।\n",
      " \"When time comes surely one who does sinful action will reap the result. There is no doubt that the doer of a terrible action will be destroyed.\"\n",
      "\n",
      "न कुलेन न रूपेण न दाक्षिण्येनमैथिली ।मयाधिकावातुल्यावातत्त्वंमोहान्नबुध्यसे ।।6.114.28।।\n",
      " \"Mythili by race is not superior to me even a little, not in civility. Out of infatuation you did not perceive this.\"\n"
     ]
    }
   ],
   "source": [
    "contexts = [result.get_content(metadata_mode=MetadataMode.EMBED) for result in retriever.retrieve(query)]\n",
    "print(\"\\n\\n---\\n\\n\".join(contexts))\n"
   ]
  },
  {
   "cell_type": "code",
   "execution_count": 17,
   "metadata": {},
   "outputs": [
    {
     "name": "stdout",
     "output_type": "stream",
     "text": [
      "The provided context does not contain the specific information about Sita wanting a pyre. The verses from the Yuddha Kanda, Sarga 114, do not mention Sita's desire for a pyre. Therefore, based on the given context, it is not possible to answer the question about Sita wanting a pyre.\n",
      "\n",
      "---\n",
      "\n",
      "*Disclaimer: The answer is based on the provided context, and the specific information about Sita wanting a pyre is not found within the given verses. It is advisable to refer to the complete scripture or other sources for a comprehensive understanding.*\n"
     ]
    }
   ],
   "source": [
    "\n",
    "response = get_trained_model_response(query, contexts)\n",
    "print(response)"
   ]
  },
  {
   "cell_type": "code",
   "execution_count": 39,
   "metadata": {},
   "outputs": [],
   "source": [
    "# processed = data.progress_apply(process_row, axis = 1)\n",
    "# processed.to_csv(\"data_inferred.csv\", index=False, encoding = 'utf-8')\n",
    "# processed"
   ]
  },
  {
   "cell_type": "code",
   "execution_count": null,
   "metadata": {},
   "outputs": [],
   "source": [
    "processed_data = pd.read_csv(\"~/Downloads/Gurukul Data - data_labelled.csv\")\n",
    "# gpt3_responses = processed_data.iloc[10:].progress_apply(get_response_from_row, axis = 1)\n",
    "# gpt3_responses.to_frame(name='gpt3_responses').to_csv(\"gpt3_responses.csv\",encoding = 'utf-8')"
   ]
  },
  {
   "cell_type": "code",
   "execution_count": null,
   "metadata": {},
   "outputs": [],
   "source": [
    "def process_for_response_gpt4(row):\n",
    "    query_str = row.Question\n",
    "    contexts = json.loads(row.used_context)\n",
    "    return get_gpt4_response(query_str, contexts)\n",
    "\n",
    "def process_for_response_trained_model(row):\n",
    "    query_str = row.Question\n",
    "    contexts = json.loads(row.used_context)\n",
    "    return get_trained_model_response(query_str, contexts)\n",
    "\n",
    "row = processed_data.iloc[54]\n",
    "# response = process_for_response_gpt4(row)\n",
    "response = process_for_response_trained_model(row)\n",
    "print(response)"
   ]
  },
  {
   "cell_type": "code",
   "execution_count": null,
   "metadata": {},
   "outputs": [],
   "source": []
  }
 ],
 "metadata": {
  "kernelspec": {
   "display_name": "gurukul",
   "language": "python",
   "name": "python3"
  },
  "language_info": {
   "codemirror_mode": {
    "name": "ipython",
    "version": 3
   },
   "file_extension": ".py",
   "mimetype": "text/x-python",
   "name": "python",
   "nbconvert_exporter": "python",
   "pygments_lexer": "ipython3",
   "version": "3.11.7"
  }
 },
 "nbformat": 4,
 "nbformat_minor": 2
}
