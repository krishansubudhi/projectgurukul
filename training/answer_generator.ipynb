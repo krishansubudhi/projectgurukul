{
 "cells": [
  {
   "cell_type": "code",
   "execution_count": 1,
   "metadata": {},
   "outputs": [
    {
     "data": {
      "text/plain": [
       "<module 'projectgurukul.prompt_templates' from '/Users/krishansubudhi/repos/projectgurukul/projectgurukul/prompt_templates.py'>"
      ]
     },
     "execution_count": 1,
     "metadata": {},
     "output_type": "execute_result"
    }
   ],
   "source": [
    "from projectgurukul import scriptures, corelib, prompt_templates\n",
    "from llama_index import StorageContext, load_index_from_storage\n",
    "\n",
    "from llama_index.llms import ChatMessage, MessageRole\n",
    "from llama_index.prompts import ChatPromptTemplate\n",
    "from llama_index.schema import MetadataMode\n",
    "from llama_index.query_engine import RetrieverQueryEngine\n",
    "from llama_index.response.notebook_utils import display_response\n",
    "# apply nested async to run in a notebook\n",
    "import nest_asyncio\n",
    "import llama_index\n",
    "from llama_index import ServiceContext\n",
    "from llama_index.llms import OpenAI\n",
    "import pandas as pd\n",
    "import numpy as np\n",
    "from llama_index import QueryBundle\n",
    "import re\n",
    "import json\n",
    "from tqdm import tqdm\n",
    "tqdm.pandas()\n",
    "\n",
    "\n",
    "nest_asyncio.apply()\n",
    "\n",
    "import importlib\n",
    "importlib.reload(prompt_templates)"
   ]
  },
  {
   "cell_type": "code",
   "execution_count": 2,
   "metadata": {},
   "outputs": [
    {
     "data": {
      "text/html": [
       "<div>\n",
       "<style scoped>\n",
       "    .dataframe tbody tr th:only-of-type {\n",
       "        vertical-align: middle;\n",
       "    }\n",
       "\n",
       "    .dataframe tbody tr th {\n",
       "        vertical-align: top;\n",
       "    }\n",
       "\n",
       "    .dataframe thead th {\n",
       "        text-align: right;\n",
       "    }\n",
       "</style>\n",
       "<table border=\"1\" class=\"dataframe\">\n",
       "  <thead>\n",
       "    <tr style=\"text-align: right;\">\n",
       "      <th></th>\n",
       "      <th>ID</th>\n",
       "      <th>Split</th>\n",
       "      <th>Scripture</th>\n",
       "      <th>Category</th>\n",
       "      <th>Question</th>\n",
       "      <th>Question Context</th>\n",
       "    </tr>\n",
       "  </thead>\n",
       "  <tbody>\n",
       "    <tr>\n",
       "      <th>0</th>\n",
       "      <td>1</td>\n",
       "      <td>Train</td>\n",
       "      <td>Ramayana</td>\n",
       "      <td>From Context</td>\n",
       "      <td>Why does Vasishta refuse to give Sabala to Vis...</td>\n",
       "      <td>Context 1\\nहैरण्यानां रथानां च श्वेताश्वानां च...</td>\n",
       "    </tr>\n",
       "    <tr>\n",
       "      <th>1</th>\n",
       "      <td>2</td>\n",
       "      <td>Train</td>\n",
       "      <td>Ramayana</td>\n",
       "      <td>From Context</td>\n",
       "      <td>Did Hanuman's devotion to Rama ever waver, eve...</td>\n",
       "      <td></td>\n",
       "    </tr>\n",
       "    <tr>\n",
       "      <th>2</th>\n",
       "      <td>3</td>\n",
       "      <td>Train</td>\n",
       "      <td>Ramayana</td>\n",
       "      <td>From Context</td>\n",
       "      <td>What drove Ravana to kidnap Sita, and was it s...</td>\n",
       "      <td></td>\n",
       "    </tr>\n",
       "    <tr>\n",
       "      <th>3</th>\n",
       "      <td>4</td>\n",
       "      <td>Train</td>\n",
       "      <td>Ramayana</td>\n",
       "      <td>From Context</td>\n",
       "      <td>Describe Bharata's character and his approach ...</td>\n",
       "      <td>Context 1\\nश्वस्तु गन्तासि तं देशं वसाद्य सह म...</td>\n",
       "    </tr>\n",
       "    <tr>\n",
       "      <th>4</th>\n",
       "      <td>5</td>\n",
       "      <td>Train</td>\n",
       "      <td>Ramayana</td>\n",
       "      <td>From Context</td>\n",
       "      <td>How did Ravana react upon learning about Dhumr...</td>\n",
       "      <td>Context 1\\n[Ravana comes to know that Rama and...</td>\n",
       "    </tr>\n",
       "  </tbody>\n",
       "</table>\n",
       "</div>"
      ],
      "text/plain": [
       "   ID  Split Scripture      Category  \\\n",
       "0   1  Train  Ramayana  From Context   \n",
       "1   2  Train  Ramayana  From Context   \n",
       "2   3  Train  Ramayana  From Context   \n",
       "3   4  Train  Ramayana  From Context   \n",
       "4   5  Train  Ramayana  From Context   \n",
       "\n",
       "                                            Question  \\\n",
       "0  Why does Vasishta refuse to give Sabala to Vis...   \n",
       "1  Did Hanuman's devotion to Rama ever waver, eve...   \n",
       "2  What drove Ravana to kidnap Sita, and was it s...   \n",
       "3  Describe Bharata's character and his approach ...   \n",
       "4  How did Ravana react upon learning about Dhumr...   \n",
       "\n",
       "                                    Question Context  \n",
       "0  Context 1\\nहैरण्यानां रथानां च श्वेताश्वानां च...  \n",
       "1                                                     \n",
       "2                                                     \n",
       "3  Context 1\\nश्वस्तु गन्तासि तं देशं वसाद्य सह म...  \n",
       "4  Context 1\\n[Ravana comes to know that Rama and...  "
      ]
     },
     "execution_count": 2,
     "metadata": {},
     "output_type": "execute_result"
    }
   ],
   "source": [
    "data= pd.read_csv(\"~/Downloads/Gurukul Data - data_train.csv\").dropna(how = \"all\", axis = 1).fillna(\"\")\n",
    "data.head()"
   ]
  },
  {
   "cell_type": "code",
   "execution_count": 3,
   "metadata": {},
   "outputs": [
    {
     "name": "stdout",
     "output_type": "stream",
     "text": [
      "Using openAI models\n"
     ]
    }
   ],
   "source": [
    "retriever = corelib.get_fusion_retriever(['gita','ramayana'], is_offline=False, data_dir=\"../data/\")\n",
    "query_engine = RetrieverQueryEngine.from_args(\n",
    "    retriever,\n",
    "    text_qa_template = prompt_templates.custom_text_qa_template)"
   ]
  },
  {
   "cell_type": "code",
   "execution_count": 12,
   "metadata": {},
   "outputs": [],
   "source": [
    "gpt4_service_context = ServiceContext.from_defaults(\n",
    "    llm = OpenAI(model = \"gpt-4-1106-preview\")\n",
    ")\n",
    "\n",
    "trained_model_service_context = ServiceContext.from_defaults(\n",
    "    llm = OpenAI(model = \"ft:gpt-3.5-turbo-1106:macro-mate::8jTl73oZ\")\n",
    ")\n",
    "\n",
    "query_engine_gpt_4 = RetrieverQueryEngine.from_args(\n",
    "    retriever,\n",
    "    text_qa_template = prompt_templates.custom_text_qa_template,\n",
    "    service_context=gpt4_service_context\n",
    ")\n",
    "\n",
    "query_engine_trained_model = RetrieverQueryEngine.from_args(\n",
    "    retriever,\n",
    "    text_qa_template = prompt_templates.training_text_qa_template,\n",
    "    service_context=trained_model_service_context\n",
    ")\n",
    "\n"
   ]
  },
  {
   "cell_type": "code",
   "execution_count": 13,
   "metadata": {},
   "outputs": [],
   "source": [
    "# import logging\n",
    "# import sys\n",
    "# logging.basicConfig(stream=sys.stdout, level=logging.DEBUG)\n",
    "# logging.getLogger().addHandler(logging.StreamHandler(stream=sys.stdout))"
   ]
  },
  {
   "cell_type": "code",
   "execution_count": 14,
   "metadata": {},
   "outputs": [],
   "source": [
    "def get_prompt(query_str, context_str):\n",
    "    prompt = prompt_templates.custom_text_qa_template.format_messages(\n",
    "        query_str = query_str,context_str= context_str)\n",
    "    return (llama_index.llms.openai_utils.to_openai_message_dicts(prompt))\n",
    "\n",
    "def get_prompt_str(query_str, context_str):\n",
    "    prompt = prompt_templates.custom_text_qa_template.format(\n",
    "        query_str = query_str,context_str= context_str)\n",
    "    return prompt\n",
    "\n",
    "def get_contexts(context_str):\n",
    "    # Define a regex pattern to match lines with \"Context\" labels\n",
    "    pattern = re.compile(r'Context \\d+')\n",
    "\n",
    "    # Use re.sub to replace matched lines with an empty string\n",
    "    cleaned_text = re.sub(pattern, '', context_str)\n",
    "\n",
    "    # Split the text into contexts using '---' as a separator\n",
    "    contexts = [context.strip() for context in cleaned_text.split('---')]\n",
    "    return contexts\n",
    "\n",
    "def get_response(query, contexts ):\n",
    "    response = query_engine._response_synthesizer.get_response(\n",
    "        query,\n",
    "        contexts\n",
    "    )\n",
    "    #query_engine.query(query)\n",
    "    return response\n",
    "\n",
    "def get_response_from_row(row):\n",
    "    query_str = row.Question\n",
    "    contexts = json.loads(row.used_context)\n",
    "    return get_response(query_str, contexts)\n",
    "\n",
    "def get_gpt4_response(query, contexts ):\n",
    "    response = query_engine_gpt_4._response_synthesizer.get_response(\n",
    "        query,\n",
    "        contexts\n",
    "    )\n",
    "    #query_engine.query(query)\n",
    "    return response\n",
    "\n",
    "def get_trained_model_response(query, contexts ):\n",
    "    response = query_engine_trained_model._response_synthesizer.get_response(\n",
    "        query,\n",
    "        contexts\n",
    "    )\n",
    "    #query_engine.query(query)\n",
    "    return response\n",
    "\n",
    "def process_row(row):\n",
    "    new_row = pd.Series(row)\n",
    "    try:\n",
    "        query_str = row.Question\n",
    "        if row.Category == \"Outside Context\":\n",
    "            contexts = get_contexts(row[\"Question Context\"])\n",
    "        else:\n",
    "            contexts = [result.get_content(metadata_mode=MetadataMode.LLM) for result in retriever.retrieve(query_str)]\n",
    "        context_str = \"\\n\\n\".join(contexts)\n",
    "        new_row[\"used_context\"] = json.dumps(contexts, ensure_ascii=False)\n",
    "        new_row[\"prompt_str\"] = get_prompt_str(query_str, context_str)\n",
    "        new_row[\"prompt_openai\"] = json.dumps(get_prompt(query_str, context_str), ensure_ascii=False)\n",
    "        # new_row[\"answer_gpt3\"] = get_response(query_str, contexts)\n",
    "        return new_row\n",
    "    except:\n",
    "        return new_row\n"
   ]
  },
  {
   "cell_type": "code",
   "execution_count": 19,
   "metadata": {},
   "outputs": [
    {
     "name": "stdout",
     "output_type": "stream",
     "text": [
      "sarga: 97\n",
      "file_path: data/ramayana/data/ayodhyakanda.csv\n",
      "kanda: ayodhya kanda\n",
      "\n",
      "[Rama's correction of Lakshmana's judgement -- Bharata's army encamped round Chitrakuta.]सुसंरब्धं तु सौमित्रिं लक्ष्मणं क्रोधमूर्छितम्।रामस्तु परिसान्त्व्याथ वचनं चेदमब्रवीत्।।2.97.1।।\n",
      " Thereafter, Rama pacified Lakshmana, son of Sumitra who was violently agitated. He said to him who had swooned with rage:\n",
      "\n",
      "किमत्र धनुषा कार्यमसिना वा सचर्मणा।महेष्वासे महाप्राज्ञे भरते स्वयमागते।।2.97.2।।\n",
      " When sagacious Bharata of great strength has come here, where is the need for a bow or a sword or a shield.\n",
      "\n",
      "पितुस्सत्यं प्रतिश्रुत्य हत्वा भरतमागतम्।किं करिष्यामि राज्येन सापवादेन लक्ष्मण।।2.97.3।।\n",
      " O Lakshmana, having sworn that I would make father's word true, what shall I do with the kingdom earned slanderously by slaying Bharata who has come (to see me)?\n",
      "\n",
      "यद्द्रव्यं बान्धवानां वा मित्राणां वा क्षये भवेत्।नाहं तत्प्रतिगृह्णीयां भक्षान्विषकृतानिव।।2.97.4।।\n",
      " I shall never accept any wealth obtained by destroying kith and kin or friends which is akin to taking food prepared with poison.\n",
      "\n",
      "धर्ममर्थं च कामं च पृथिवीं चापि लक्ष्मण।इच्छामि भवतामर्थे एतत् प्रतिशृणोमि ते।।2.97.5।।\n",
      " O Lakshmana, on the oath of righteousness, I wish wealth and pleasure as well as this kingdom for the sake of you all. \n",
      "\n",
      "भ्रात्रूणां संग्रहार्थं च सुखार्थं चापि लक्ष्मण।राज्यमप्यहमिच्छामि सत्येनाऽयुधमालभे।।2.97.6।।\n",
      " O Lakshmana, I desire this kingdom only for the unity and happiness of my brothers. I swear on the weapon I hold.\n",
      "\n",
      "नेयं मम मही सौम्य दुर्लभा सागराम्बरा।न हीच्छेयमधर्मेण शक्रत्वमपि लक्ष्मण।।2.97.7।।\n",
      "  O gentle Lakshmana, lordship of this earth with the sea as its garment is not difficult to obtain (for me). But I do not desire even Indrahood by unrighteous means.\n",
      "\n",
      "---\n",
      "\n",
      "sarga: 97\n",
      "file_path: data/ramayana/data/ayodhyakanda.csv\n",
      "kanda: ayodhya kanda\n",
      "\n",
      "प्राप्तकालं यदेषोऽस्मान्भरतो द्रष्टुमिच्छति।अस्मासु मनसाऽप्येष नाप्रियं किञ्चिदाचरेत्।।2.97.13।।\n",
      " Finding the time appropriate, Bharata has come to see us. Even in his mind he would have never thought of causing any harm to us in any way.\n",
      "\n",
      "विप्रियं कृतपूर्वं ते भरतेन कदा नु किम्।ईदृशं वा भयं तेऽद्य भरतं योऽत्र शङ्कसे।।2.97.14।।\n",
      " Why are you suspicious of Bharata? Has he done anything disagreeable to you any time in the past?\n",
      "\n",
      "न हि ते निष्ठुरं वाच्यो भरतो नाप्रियं वचः।अहं ह्यप्रियमुक्त स्स्यां भरतस्याप्रिये कृते।।2.97.15।।\n",
      " You must not speak any harsh or unpleasant words against Bharata. If you do, they will be deemed to be directed against me.\n",
      "\n",
      "कथं नु पुत्राः पितरं हन्युः कस्यां चिदापदि।भ्राता वा भ्रातरं हन्यात्सौमित्रे प्राणमात्मनः।।2.97.16।।\n",
      " Whatever be the calamity, O Lakshmana, how will sons slay their father, or a brother kill his own brother who is as dear to him as his own life?\n",
      "\n",
      "यदि राज्यस्य हेतोस्त्वमिमां वाचं प्रभाषसे।वक्ष्यामि भरतं दृष्ट्वा राज्यमस्मै प्रदीयताम्।।2.97.17।।\n",
      "  If you are saying all these words only for the sake of the kingdom, then I shall ask Bharata when I see him to offer this kingdom to you.\n",
      "\n",
      "उच्यमानोऽपि भरतो मया लक्ष्मण तद्वचः।राज्यमस्मै प्रयच्छेति बाढमित्येव वक्ष्यति।।2.97.18।।\n",
      " O Lakshmana if I earnestly exhort Bharata to offer this kingdom to you, then on hearing those words, he would say, 'Certainly so'.\n",
      "\n",
      "तथोक्तो धर्मशीलेन भ्रात्रा तस्य हिते रतः।लक्ष्मणः प्रविवेशेव स्वानि गात्राणि लज्जया।।2.97.19।।\n",
      " Having heard the words uttered by his brother, Rama of virtuous disposition, Lakshmana who was devoted to his brother's welfare, shrank.\n",
      "\n",
      "---\n",
      "\n",
      "sarga: 91\n",
      "file_path: data/ramayana/data/yuddhakanda.csv\n",
      "kanda: yuddha kanda\n",
      "\n",
      "तस्तान् राक्षसान् सर्वांस्त्रिभिरेकैकमाहवे ।।6.91.25।।अविध्यत्परमक्रुद्धश्शीघ्रास्त्रंसम्प्रदर्शयन् ।राक्षसेन्द्रसुतंचापिबाणौघैस्समताडयत् ।।6.91.26।।\n",
      " Then extremely angry Lakshmana pierced all the Rakshasas quickly, each one with three arrows and struck them and even the son of Rakshasa king, exhibiting his skills.\n",
      "\n",
      "सोऽतिविद्धोबलवताशत्रुणाशत्रुघातिना ।असक्तंप्रेषयामासलक्ष्मणायबहून् शरान् ।।6.91.27।।\n",
      " Indrajith, who was grievously wounded by his hostile enemy, Lakshmana, the destroyer of hostile enemies, continuously discharged arrows at him.\n",
      "\n",
      "तानप्राप्तान् शितैर्भाणैश्चिच्छेदपरवीरहा ।सारथेरस्य च रणेरथिवोरघुसत्तमः ।।6.91.28।।शिरोजहारधर्मात्माभल्लेनानतपर्वणा ।\n",
      " Heroic enemy, the righteous Lakshmana, tore the head of the carwarrior as well as the charioteer in the battle with bhala (spear), even before Indrajith discharged pointed arrows at him.\n",
      "\n",
      "सूतास्तेहयास्तत्ररथमूहुरविक्लबाः ।।6.91.29।।मण्डलान्यभिधावन्तस्तदद्भुतमिवाभवत् ।\n",
      " There, though there was no charioteer, the horses went round in circles and as they went forward it was wonderful.\n",
      "\n",
      "अमर्षवशमापन्नःसौमित्रिर्दृढविक्रमः ।।6.91.30।।प्रत्यविद्ध्यद्धयांस्तस्यशरैर्वित्रासयन् रणे ।\n",
      " Saumithri of untiring valour, overcome with fury in the battle, struck the horses to scare them and destroyed them.\n",
      "\n",
      "अमर्षमाणस्तत्कर्मरावणस्यसुतोबली ।।6.91.31।।विव्याथदशभिर्बाणैस्सौमित्रिंतममर्षणम् ।\n",
      " Indrajith, unable to tolerate the action of Saumithri, was angry and struck him with ten arrows.\n"
     ]
    }
   ],
   "source": [
    "query = \"As per Ayodhya Kanda, Sarga 97, Why did Lakshmana get angry with bharata?\"\n",
    "contexts = [result.get_content(metadata_mode=MetadataMode.EMBED) for result in retriever.retrieve(query)]\n",
    "print(\"\\n\\n---\\n\\n\".join(contexts))\n",
    "\n",
    "# print(json.dumps(contexts, ensure_ascii=False))\n",
    "\n",
    "# response = get_trained_model_response(query, contexts)\n",
    "# print(response)"
   ]
  },
  {
   "cell_type": "code",
   "execution_count": 49,
   "metadata": {},
   "outputs": [],
   "source": [
    "better_contexts = [\"\"\"\n",
    "sarga: 97\n",
    "file_path: data/ramayana/data/ayodhyakanda.csv\n",
    "kanda: ayodhya kanda\n",
    "\n",
    "Rama hears the sounds of the army approaching the hermitage -- alerts Lakshmana to make sure -- recognition of the army as that of Bharata's -- Lakshmana mistakes Bharata's intentions.]तां तथा दर्शयित्वा तु मैथिलीं गिरिनिम्नगाम्।निषसाद गिरिप्रस्थे सीतां मांसेन छन्दयन्।।2.96.1।।,\"Rama showed Sita, the princess of Mithila the river Mandakini flowing in the mountain, gratified her by offering meat (to eat) and sat on the mountain slope.\"\n",
    "इदं मेध्यमिदं स्वादु निष्टप्तमिदमग्निना।एवमास्ते स धर्मात्मा सीतया सह राघवः।।2.96.2।।,\"Offering Sita several kinds of preparations to eat, righteous Rama, seated in her company remarked, This meat is savoury, this meat roasted on fire is sacred.\"\n",
    "तथा तत्राऽसतस्तस्य भरतस्यौपयायिनः।सैन्यरेणुश्च शब्दश्च प्रादुरास्तां नभस्पृशौ।।2.96.3।।,\"Now as Rama was sitting there, the tumult and the dust raised by the approaching army of Bharata reached the sky.\"\n",
    "एतस्मिन्नन्तरे त्रस्ता श्शब्देन महता ततः।अर्दिता यूथपा मत्ता स्सयूथा दुद्रुवुर्दिशः।।2.96.4।।,\"Meanwhile, the mighty leaders of the elephantherds were agitated, and frightened by the loud noise, fled away from there in different directions.\"\n",
    "स तं सैन्यसमुद्धूतं शब्दं शुश्राव राघवः।तां श्च विप्रद्रुतान्सर्वान्यूथपानन्ववैक्षत।।2.96.5।।,Rama heard the sound generated by the army and saw those leaders of herds fleeing away.\n",
    "तांश्च विद्रुवतो दृष्ट्वा तं च श्रुत्वा च निस्वनम्।उवाच राम स्सौमित्रिं लक्ष्मणं दीप्ततेजसम्।।2.96.6।।,\"Seeing those animals fleeing and hearing the clamour, Rama addressed Lakshmana,  son of Sumitra, who was blazing with energy.\"\n",
    "हन्त लक्ष्मण पश्येह सुमित्रासुप्रजास्त्वया।भीमस्तनितगम्भीरस्तुमुलः श्रूयते स्वनः।।2.96.7।।,\"O Lakshmana, the worthy son of Sumitra, fearful and tumultuous clamour like rumbling sound of clouds is heard. What a wonder Go and see.\"\n",
    "गजयूथानि वाऽरण्ये महिषा वा महावने।वित्रासिता मृगा स्सिंहै स्सहसा प्रद्रुता दिशः।।2.96.8।।,Herds of elephants and buffaloes in the great woods and wild beasts frightened by lions are running in different directions.\"\"\",\n",
    "\"\"\"\n",
    "राजा वा राजपुत्रो वा मृगयामटते वने।अन्यद्वा श्वापदं किञ्चित्सौमित्रे ज्ञातुमर्हसि।।2.96.9।।,\"O Lakshmana, do ascertain if any king or prince has come for hunting or whether any ferocious animal has entered this forest, shouldn't you?\"\n",
    "सुदुश्चरो गिरिश्चायं पक्षिणामपि लक्ष्मण।सर्वमेतद्यथातत्त्वमचिरात् ज्ञातुमर्हसि।।2.96.10।।,\"O Lakshmana, this mountain is highly inaccessible even to birds. Find out exactly and quickly what this is all about.\"\n",
    "स लक्ष्मण स्सन्त्वरित स्सालमारुह्य पुष्पितम्।प्रेक्षमाणो दिश स्सर्वाः पूर्वां दिशमुदैक्षत।।2.96.11।।,\"Lakshmana hurriedly climbed a flowering sala tree, surveyed in all directions and fixed his gaze on the east.\"\n",
    "उदङ्मुखः प्रेक्षमाणो ददर्श महतीं चमूम्।रथाश्वगजसम्बाधां यत्तैर्युक्तां पदातिभिः।।2.96.12।।,\"Turning his face to the north, he beheld a vast army consisting of chariots, elephants and horses and a wellequipped infantry.\n",
    "तामश्वगजसम्पूर्णां रथध्वजविभूषिताम्।शशंस सेनां रामाय वचनं चेदमब्रवीत्।।2.96.13।।,He (Lakshmana) informed Rama about the army full of horses and elephants and decorated with chariotbanners and said these words:\n",
    "अग्निं संशमयत्वार्य स्सीता च भजतां गुहाम्।सज्यं कुरुष्व चापं च शरांश्च कवचं तथा।।2.96.14।।,\"O noble one, put out the sacred fire (Agnihotra) and let Sita take refuge in the cave. String your bow and keep the arrows ready. Put on your armour.\"\n",
    "तं रामः पुरुषव्याघ्रो लक्ष्मणं प्रत्युवाच ह।अङ्गावेक्षस्व सौमित्रे कस्येमां मन्यसे चमूम्।।2.96.15।।,\"Rama the best among men replied to Lakshamana, Oh, Lakshmana, look properly and tell me to whom do you think this army might belong  \"\n",
    "एवमुक्तस्तु रामेण लक्ष्मणो वाक्यमब्रवीत्।दिधक्षन्निव तां सेनां रुषितः पावको यथा।।2.96.16।।,\"Hearing the words of Rama, enraged Lakshmana, like a flaming fire as if he would reduce the army to ashes, replied: \"\n",
    "\"\"\",\"\"\"\n",
    "\n",
    "सम्पन्नं राज्यमिच्छंस्तु व्यक्तं प्राप्याभिषेचनम्।आवां हन्तुं समभ्येति कैकेय्या भरतस्सुतः।।2.96.17।।,\"It is evident that Kaikeyi's son Bharata, who has been consecrated, is coming to slay both of us desiring the prosperous kingdom (to be without obstacles).\"\n",
    "एष वै सुमहाञ्छ्रीमान्विटपी सम्प्रकाशते।विराजत्युद्गतस्कन्धं कोविदारध्वजो रथे।।2.96.18।।,\"There on that chariot, is a banner shining brilliantly with the emblem of a lofty majestic Kovidara tree with a large trunk.\"\n",
    "असौ हि सुमहास्कन्धो विटपी च महाद्रुमः।विराजते महासैन्ये कोविदारध्वजो रथे।।2.96.19।।,There the emblem of the great Kovidara tree of very large trunk spread with many branches shines brilliantly atop the chariot.\n",
    "भजन्त्येते यथाकाममश्वानारुह्य शीघ्रगान्।एते भ्राजन्ति संहृष्टा गजानारुह्य सादिनः।।2.96.20।।,These men mounted on swiftlymoving horses are following the post. The riders of elephants  mounted on the elephants look cheerful.\n",
    "गृहीतधनुषौ चावां गिरिं वीर श्रयावहै।अथवेहैव तिष्ठाव स्सन्नद्धावुद्यतायुधौ।।2.96.21।।,\"O mighty warrior, let both of us take up the bows and station ourselves on this mountain or we shall stay here itself armed with weapons fully prepared for the battle.\"\n",
    "अपि नौ वशमागच्छेत्कोविदारध्वजो रणे।अपि द्रक्ष्यामि भरतं यत्कृते व्यसनं महत्।।2.96.22।।त्वया राघव सम्प्राप्तं सीतया च मया तथा।,\"O Rama, will this Kovidara emblem come into our possession in the battle? Can I see Bharata, the cause of the calamity that has befallen you, Sita and me?\"\n",
    "यन्निमित्तं भवान्राज्याच्छ्युतो राघव शाश्वतात्।।2.96.23।।सम्प्राप्तोऽयमरिर्वीर भरतो वध्य एव मे।,\"O that mighty warrior Bharata, on whose account you have been banished from the perpetual kingdom, comes here as a foe and as for me, he deserves to be slain.\"\n",
    "भरतस्य वधे दोषं नाहं पश्यामि राघव।पूर्वापकारिणं हत्वा न ह्यधर्मेण युज्यते।।2.96.24।।,\"O Rama, I do not see anything  wrong in slaying Bharata. In killing one who had done harm is not an act of unrighteousness.\"\n",
    "\"\"\",\n",
    "\"\"\"\n",
    "पूर्वापकारी भरतस्त्यक्तधर्मश्च राघव।एतस्मिन्निहते कृत्स्नामनुशाधि वसुन्धराम्।।2.96.25।।,\"O Rama, Bharata has abandoned righteousness and has harmed you. When he is slain, you shall rule over the whole earth.\"\n",
    "अद्य पुत्रं हतं संख्ये कैकेयी राज्यकामुका।मया पश्येत्सुदुःखार्ता हस्तिभग्नमिव द्रुमम्।।2.96.26।।,\"Let that Kaikeyi, greedy for the kingdom, see in great anguish her son who shall be slain by me today in a battle like a tree felled by an elephant.\"\n",
    "कैकेयीं च वधिष्यामि सानुबन्धां सबान्धवाम्।कलुषेणाद्य महता मेदिनी परिमुच्यताम्।।2.96.27।।,I shall also slay Kaikeyi with her attendants and relations. Let the earth be cleansed of the great sin today.\n",
    "अद्येमं संयतं क्रोधमसत्कारं च मानद।मोक्ष्यामि शत्रुसैन्येषु कक्षेष्विव हुताशनम्।।2.96.28।।,\"O protector of honour, today I shall vent my suppressed anger and dishonour on the enemy's army like a fire on the thicket.\"\n",
    "अद्यैतच्छित्रकूटस्य काननं निशितै श्शरैः।छिन्दञ्चत्रुशरीराणि करिष्ये शोणितोक्षितम्।।2.96.29।।,Today I shall rend the bodies of enemies with my sharpened arrows and spatter the forest of Chitrakuta mountain with their blood.\"\"\"]"
   ]
  },
  {
   "cell_type": "code",
   "execution_count": 50,
   "metadata": {},
   "outputs": [
    {
     "data": {
      "text/plain": [
       "4"
      ]
     },
     "execution_count": 50,
     "metadata": {},
     "output_type": "execute_result"
    }
   ],
   "source": [
    "len(better_contexts)"
   ]
  },
  {
   "cell_type": "code",
   "execution_count": 53,
   "metadata": {},
   "outputs": [
    {
     "ename": "AttributeError",
     "evalue": "'RetrieverQueryEngine' object has no attribute 'llm'",
     "output_type": "error",
     "traceback": [
      "\u001b[0;31m---------------------------------------------------------------------------\u001b[0m",
      "\u001b[0;31mAttributeError\u001b[0m                            Traceback (most recent call last)",
      "Cell \u001b[0;32mIn[53], line 1\u001b[0m\n\u001b[0;32m----> 1\u001b[0m \u001b[43mquery_engine_trained_model\u001b[49m\u001b[38;5;241;43m.\u001b[39;49m\u001b[43mllm\u001b[49m\n",
      "\u001b[0;31mAttributeError\u001b[0m: 'RetrieverQueryEngine' object has no attribute 'llm'"
     ]
    }
   ],
   "source": [
    "query_engine_trained_model"
   ]
  },
  {
   "cell_type": "code",
   "execution_count": 52,
   "metadata": {},
   "outputs": [
    {
     "name": "stdout",
     "output_type": "stream",
     "text": [
      "Refine called.\n",
      "I'm sorry, I cannot provide a relevant answer based on the new context provided.\n"
     ]
    }
   ],
   "source": [
    "response = get_trained_model_response(\n",
    "    query,\n",
    "    better_contexts\n",
    ")\n",
    "print(response)"
   ]
  },
  {
   "cell_type": "code",
   "execution_count": 39,
   "metadata": {},
   "outputs": [],
   "source": [
    "# processed = data.progress_apply(process_row, axis = 1)\n",
    "# processed.to_csv(\"data_inferred.csv\", index=False, encoding = 'utf-8')\n",
    "# processed"
   ]
  },
  {
   "cell_type": "code",
   "execution_count": null,
   "metadata": {},
   "outputs": [],
   "source": [
    "processed_data = pd.read_csv(\"~/Downloads/Gurukul Data - data_labelled.csv\")\n",
    "# gpt3_responses = processed_data.iloc[10:].progress_apply(get_response_from_row, axis = 1)\n",
    "# gpt3_responses.to_frame(name='gpt3_responses').to_csv(\"gpt3_responses.csv\",encoding = 'utf-8')"
   ]
  },
  {
   "cell_type": "code",
   "execution_count": 15,
   "metadata": {},
   "outputs": [
    {
     "name": "stdout",
     "output_type": "stream",
     "text": [
      "Rama and Sugriva, along with their army of Vanaras, crossed the ocean to reach Lanka by building a bridge with the help of the Vanara army.\n",
      "\n",
      "In the Yuddha Kanda, Sarga 22 of the Valmiki Ramayana, it is described how the Vanaras, under the leadership of Nala, constructed the bridge:\n",
      "\n",
      "> तानि कोटि सहस्राणि वानराणां महौजसाम् ।  \n",
      "> बध्नन्तः सागरे सेतुं जुग्मुः पारं महोदधेः ।। 6.22.77 ।।  \n",
      "> \"The glorious Vanaras in thousands of crores reached the other side of the sea from the bridge constructed in the great sea.\"\n",
      "\n",
      "The bridge was described as:\n",
      "\n",
      "> विशालः सुकृतश्रशीमान् सुभूमिः सुसमाहितः ।  \n",
      "> अशोभत महान् सेतुः सीमन्त इव सागरे ।। 6.22.78 ।।  \n",
      "> \"That huge bridge was well built, magnificent, evenly built, and extensive and looked charming like the partition in a woman's hair.\"\n",
      "\n",
      "After the bridge was completed, Rama, Lakshmana, and the Vanaras, including Sugriva, crossed the ocean:\n",
      "\n",
      "> अग्रतः तस्य सैन्यस्य श्रीमान् रामः स लक्ष्मणः ।  \n",
      "> जगाम धन्वी धर्मात्मा सुग्रीवेण समन्वितः ।। 6.22.82 ।।  \n",
      "> \"Accompanied by Lakshmana and joined together with Sugriva, glorious and righteous Rama walked in front of the army.\"\n",
      "\n",
      "The Vanaras, including Hanuman, played a crucial role in this endeavor:\n",
      "\n",
      "> अयं हि विपुलो वीरः सागरो मकरालयः ।  \n",
      "> वैहायिकौ युवामेतौ वानरौ तारयिष्यतः ।। 6.22.81 ।।  \n",
      "> \"This mighty and terrific ocean, which is difficult to cross, will be crossed by you two youthful Vanaras.\"\n",
      "\n",
      "In summary, Rama and Sugriva, along with the Vanara army, crossed the ocean to reach Lanka by building a bridge, which was a remarkable feat of engineering, and then traversing it to reach the other side.\n",
      "\n",
      "---\n",
      "\n",
      "*Disclaimer: The interpretation of the scriptures may vary, and it is advisable to consult multiple sources for a comprehensive understanding.*\n"
     ]
    }
   ],
   "source": [
    "def process_for_response_gpt4(row):\n",
    "    query_str = row.Question\n",
    "    contexts = json.loads(row.used_context)\n",
    "    return get_gpt4_response(query_str, contexts)\n",
    "\n",
    "def process_for_response_trained_model(row):\n",
    "    query_str = row.Question\n",
    "    contexts = json.loads(row.used_context)\n",
    "    return get_trained_model_response(query_str, contexts)\n",
    "\n",
    "row = processed_data.iloc[54]\n",
    "# response = process_for_response_gpt4(row)\n",
    "response = process_for_response_trained_model(row)\n",
    "print(response)"
   ]
  },
  {
   "cell_type": "code",
   "execution_count": null,
   "metadata": {},
   "outputs": [],
   "source": []
  }
 ],
 "metadata": {
  "kernelspec": {
   "display_name": "gurukul",
   "language": "python",
   "name": "python3"
  },
  "language_info": {
   "codemirror_mode": {
    "name": "ipython",
    "version": 3
   },
   "file_extension": ".py",
   "mimetype": "text/x-python",
   "name": "python",
   "nbconvert_exporter": "python",
   "pygments_lexer": "ipython3",
   "version": "3.11.7"
  }
 },
 "nbformat": 4,
 "nbformat_minor": 2
}
