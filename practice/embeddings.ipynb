{
 "cells": [
  {
   "cell_type": "code",
   "execution_count": 5,
   "metadata": {},
   "outputs": [],
   "source": [
    "import openai\n",
    "from llama_index.embeddings.openai import OpenAIEmbedding\n",
    "import numpy as np\n",
    "from sklearn.metrics.pairwise import cosine_similarity"
   ]
  },
  {
   "cell_type": "code",
   "execution_count": 2,
   "metadata": {},
   "outputs": [],
   "source": [
    "openai_embedding = OpenAIEmbedding(model = \"text-embedding-3-small\")\n",
    "embed1 = openai_embedding.get_query_embedding(\"Who is India's prime minister?\")\n",
    "embed2 = openai_embedding.get_text_embedding(\"Narendra modi sworn in 2nd time\")\n",
    "\n",
    "embed3 = openai_embedding.get_text_embedding(\"A cow is an domestic animal\")"
   ]
  },
  {
   "cell_type": "code",
   "execution_count": 3,
   "metadata": {},
   "outputs": [
    {
     "data": {
      "text/plain": [
       "array([[ 0.01605923, -0.00779056,  0.02656852, ...,  0.01264677,\n",
       "         0.03179972, -0.03159348]])"
      ]
     },
     "execution_count": 3,
     "metadata": {},
     "output_type": "execute_result"
    }
   ],
   "source": [
    "np.expand_dims(embed1, axis = 0)"
   ]
  },
  {
   "cell_type": "code",
   "execution_count": 11,
   "metadata": {},
   "outputs": [
    {
     "data": {
      "text/plain": [
       "array([[0.49639595, 0.08184773]])"
      ]
     },
     "execution_count": 11,
     "metadata": {},
     "output_type": "execute_result"
    }
   ],
   "source": [
    "cosine_similarity(np.expand_dims(embed1, axis = 0), np.array([embed2, embed3]))"
   ]
  },
  {
   "cell_type": "markdown",
   "metadata": {},
   "source": [
    "# Custom Embedding"
   ]
  },
  {
   "cell_type": "code",
   "execution_count": 2,
   "metadata": {},
   "outputs": [
    {
     "name": "stderr",
     "output_type": "stream",
     "text": [
      "/Users/krishansubudhi/miniconda3/envs/gurukul/lib/python3.11/site-packages/InstructorEmbedding/instructor.py:7: TqdmExperimentalWarning: Using `tqdm.autonotebook.tqdm` in notebook mode. Use `tqdm.tqdm` instead to force console mode (e.g. in jupyter console)\n",
      "  from tqdm.autonotebook import trange\n"
     ]
    },
    {
     "name": "stdout",
     "output_type": "stream",
     "text": [
      "load INSTRUCTOR_Transformer\n",
      "max_seq_length  512\n"
     ]
    }
   ],
   "source": [
    "from InstructorEmbedding import INSTRUCTOR\n",
    "model = INSTRUCTOR('hkunlp/instructor-large')"
   ]
  },
  {
   "cell_type": "code",
   "execution_count": 3,
   "metadata": {},
   "outputs": [],
   "source": [
    "embed = model.encode([\n",
    "    [\"Represent the hindu spiritual question for retrieving supporting documents:\", \"Who built the Ram Temple?\"],\n",
    "    [\"Represent the hindu spiritual facts for retrieval:\", \"Modi built the Ram temple in 2024\"],\n",
    "    [\"Represent the hindu spiritual facts for retrieval:\", \"Ram was born in Ayodhya\"]\n",
    "    ])"
   ]
  },
  {
   "cell_type": "code",
   "execution_count": 5,
   "metadata": {},
   "outputs": [
    {
     "data": {
      "text/plain": [
       "array([[0.8875513 , 0.83584654]], dtype=float32)"
      ]
     },
     "execution_count": 5,
     "metadata": {},
     "output_type": "execute_result"
    }
   ],
   "source": [
    "\n",
    "cosine_similarity(embed[:1], embed[1:])"
   ]
  },
  {
   "cell_type": "markdown",
   "metadata": {},
   "source": [
    "### UAE-Large\n"
   ]
  },
  {
   "cell_type": "code",
   "execution_count": 34,
   "metadata": {},
   "outputs": [
    {
     "data": {
      "text/plain": [
       "('mps', torch.float16)"
      ]
     },
     "execution_count": 34,
     "metadata": {},
     "output_type": "execute_result"
    }
   ],
   "source": [
    "# pip install angle_emb\n",
    "from projectgurukul.custom_models import model_utils\n",
    "device, dtype = model_utils.get_device_and_dtype()\n",
    "device, dtype"
   ]
  },
  {
   "cell_type": "code",
   "execution_count": 26,
   "metadata": {},
   "outputs": [
    {
     "name": "stdout",
     "output_type": "stream",
     "text": [
      "[[ 0.17912504 -0.20322275  0.08699015 ... -0.32702887  0.41425884\n",
      "   0.3184755 ]]\n",
      "[[-0.01500864  0.6413412  -0.1157291  ... -0.6342321   0.11338729\n",
      "   0.6810994 ]\n",
      " [ 0.47675014 -0.22714251 -0.4033532  ... -0.4373022   0.55058277\n",
      "   0.5439574 ]\n",
      " [ 0.58175224 -0.23857433  0.02746337 ... -0.08629739  0.49211296\n",
      "   0.78977615]]\n"
     ]
    }
   ],
   "source": [
    "from angle_emb import AnglE, Prompts\n",
    "\n",
    "angle = AnglE.from_pretrained('WhereIsAI/UAE-Large-V1', pooling_strategy='cls').cuda()\n",
    "vec = angle.encode({'text': 'Ram went to forest?'}, to_numpy=True, prompt=Prompts.C)\n",
    "print(vec)\n",
    "vecs = angle.encode(['Laxman and his  started his vanbaas.', 'ChatGPT is amazing.',  'Went to school'], to_numpy=True)\n",
    "print(vecs)"
   ]
  },
  {
   "cell_type": "code",
   "execution_count": 27,
   "metadata": {},
   "outputs": [
    {
     "data": {
      "text/plain": [
       "'mps'"
      ]
     },
     "execution_count": 27,
     "metadata": {},
     "output_type": "execute_result"
    }
   ],
   "source": [
    "angle.device"
   ]
  },
  {
   "cell_type": "code",
   "execution_count": 28,
   "metadata": {},
   "outputs": [
    {
     "data": {
      "text/plain": [
       "array([[0.49789697, 0.36466   , 0.4161421 ]], dtype=float32)"
      ]
     },
     "execution_count": 28,
     "metadata": {},
     "output_type": "execute_result"
    }
   ],
   "source": [
    "cosine_similarity(vec, np.array(vecs))"
   ]
  },
  {
   "cell_type": "code",
   "execution_count": 29,
   "metadata": {},
   "outputs": [
    {
     "data": {
      "text/plain": [
       "'Represent this sentence for searching relevant passages: {text}'"
      ]
     },
     "execution_count": 29,
     "metadata": {},
     "output_type": "execute_result"
    }
   ],
   "source": [
    "Prompts.C"
   ]
  },
  {
   "cell_type": "code",
   "execution_count": null,
   "metadata": {},
   "outputs": [],
   "source": []
  }
 ],
 "metadata": {
  "kernelspec": {
   "display_name": "projectgurukul",
   "language": "python",
   "name": "python3"
  },
  "language_info": {
   "codemirror_mode": {
    "name": "ipython",
    "version": 3
   },
   "file_extension": ".py",
   "mimetype": "text/x-python",
   "name": "python",
   "nbconvert_exporter": "python",
   "pygments_lexer": "ipython3",
   "version": "3.10.16"
  }
 },
 "nbformat": 4,
 "nbformat_minor": 2
}
