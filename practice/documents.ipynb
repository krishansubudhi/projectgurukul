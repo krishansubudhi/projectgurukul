{
 "cells": [
  {
   "cell_type": "code",
   "execution_count": 1,
   "metadata": {},
   "outputs": [],
   "source": [
    "from llama_index.readers import SimpleDirectoryReader, WikipediaReader, SimpleWebPageReader\n",
    "from llama_index import download_loader\n",
    "from llama_index.schema import MetadataMode\n",
    "import dotenv\n",
    "dotenv.load_dotenv('../.env')\n",
    "from projectgurukul.readers import CSVReader,RamayanaCSVReader\n",
    "import pandas as pd\n",
    "import re"
   ]
  },
  {
   "cell_type": "markdown",
   "metadata": {},
   "source": [
    "# Gita"
   ]
  },
  {
   "cell_type": "code",
   "execution_count": 3,
   "metadata": {},
   "outputs": [],
   "source": [
    "def preprocess(row):\n",
    "    row['chapter'], row['verse'] = row.verse_number.split(', ')\n",
    "    return row\n",
    "\n",
    "\n",
    "reader = CSVReader(text_columns=['verse','verse_in_sanskrit','translation_in_english','meaning_in_english'], metadata_columns=['chapter'], preprocess = preprocess)\n",
    "\n",
    "documents = reader.load_data('../data/gita/data/bhagavad_gita.csv', extra_info={'souce': 'Bhagavad Gita'})"
   ]
  },
  {
   "cell_type": "code",
   "execution_count": 4,
   "metadata": {},
   "outputs": [
    {
     "data": {
      "text/plain": [
       "701"
      ]
     },
     "execution_count": 4,
     "metadata": {},
     "output_type": "execute_result"
    }
   ],
   "source": [
    "len(documents)"
   ]
  },
  {
   "cell_type": "code",
   "execution_count": 5,
   "metadata": {},
   "outputs": [
    {
     "name": "stdout",
     "output_type": "stream",
     "text": [
      "> chapter: Chapter 1\n",
      "> souce: Bhagavad Gita\n",
      "\n",
      "Verse 1\n",
      "\n",
      "धृतराष्ट्र उवाच |धर्मक्षेत्रे कुरुक्षेत्रे समवेता युयुत्सवः |मामकाः पाण्डवाश्चैव किमकुर्वत सञ्जय ||1||\n",
      "\n",
      "Dhritarashtra said: O Sanjay, after gathering on the holy field of Kurukshetra, and desiring to fight, what did my sons and the sons of Pandu do?\n",
      "\n",
      "The two armies had gathered on the battlefield of Kurukshetra, well prepared to fight a war that was inevitable. Still, in this verse, King Dhritarashtra asked Sanjay, what his sons and his brother Pandu’s sons were doing on the battlefield? It was apparent that they would fight, then why did he ask such a question?The blind King Dhritarashtra’s fondness for his own sons had clouded his spiritual wisdom and deviated him from the path of virtue. He had usurped the kingdom of Hastinapur from the rightful heirs; the Pandavas, sons of his brother Pandu. Feeling guilty of the injustice he had done towards his nephews, his conscience worried him about the outcome of this battle.The words dharma kṣhetre, the land of dharma (virtuous conduct) used by Dhritarashtra depict the dilemma he was experiencing. Kurukshetra is described as kurukṣhetraṁ deva yajanam in the Shatapath Brahman, the Vedic textbook detailing rituals. It means “Kurukshetra is the sacrificial arena of the celestial gods.”Hence, it was regarded as the sacred land that nourished dharma.Dhritarashtra feared that the holy land might influence the minds of his sons. If it aroused the faculty of discrimination, they might turn away from killing their cousins and negotiate a truce. A peaceful settlement meant that the Pandavas would continue being a hindrance for them.He felt great displeasure at these possibilities, instead preferred that this war transpires.He was uncertain of the consequences of the war, yet desired to determine the fate of his sons. Therefore, he asked Sanjay about the activities of the two armies on the battleground.\n"
     ]
    }
   ],
   "source": [
    "documents[0].metadata_template = \"> {key}: {value}\"\n",
    "print(documents[0].get_content(metadata_mode = MetadataMode.ALL))"
   ]
  },
  {
   "cell_type": "code",
   "execution_count": 4,
   "metadata": {},
   "outputs": [
    {
     "data": {
      "text/plain": [
       "'chapter: Chapter 1\\nsouce: Bhagavad Gita'"
      ]
     },
     "execution_count": 4,
     "metadata": {},
     "output_type": "execute_result"
    }
   ],
   "source": [
    "documents[1].get_metadata_str()"
   ]
  },
  {
   "cell_type": "code",
   "execution_count": 21,
   "metadata": {},
   "outputs": [],
   "source": [
    "wikireader = WikipediaReader()\n",
    "wikidocs = wikireader.load_data(['ayodhya ram temple'])\n"
   ]
  },
  {
   "cell_type": "code",
   "execution_count": 23,
   "metadata": {},
   "outputs": [
    {
     "name": "stdout",
     "output_type": "stream",
     "text": [
      "The Ram Mandir is a Hindu temple that is under construction in Ayodhya, Uttar Pradesh, India. It is located at the site of Ram Janmabhoomi, the hypothesized birthplace of Rama, a principal deity of Hinduism. The site is the former location of the Babri Masjid which was built after the demolition an existing non-Islamic structure. The worship of Hindu god Ram and Sita at the disputed site started when their idols were installed in 1949. In 2019, the Supreme Court of India delivered the verdict to give the disputed land to Hindus for a temple of Ram, while Muslims would be given land elsewhere to construct a mosque. The court referenced a report from the Archaeological Survey of India (ASI) as evidence suggesting the presence of a structure beneath the demolished Babri Masjid, that was found to be non-Islamic.The bhumi pujan (transl. ground breaking ceremony) for the commencement of the construction of Ram Mandir was performed on 5 August 2020, by Prime Minister Narendra Modi. The temple, currently under construction, is being supervised by the Shri Ram Janmabhoomi Teerth Kshetra Trust. The inauguration of the temple is scheduled for 22 January 2024.The temple has attracted a number of controversies due to alleged misuse of donation, sidelining of its major activists and politicisation of the temple by the BJP.\n",
      "\n",
      "\n",
      "== History ==\n",
      "\n",
      "\n",
      "=== Ancient and Medieval ===\n",
      "Rama, an incarnation of Vishnu, is a Hindu deity. According to the ancient Indian epic, Ramayana, Rama was born in Ayodhya\n"
     ]
    }
   ],
   "source": [
    "print( wikidocs[0].get_content()[:1500])"
   ]
  },
  {
   "cell_type": "markdown",
   "metadata": {},
   "source": [
    "# Ramayana"
   ]
  },
  {
   "cell_type": "code",
   "execution_count": 2,
   "metadata": {},
   "outputs": [
    {
     "data": {
      "text/html": [
       "<div>\n",
       "<style scoped>\n",
       "    .dataframe tbody tr th:only-of-type {\n",
       "        vertical-align: middle;\n",
       "    }\n",
       "\n",
       "    .dataframe tbody tr th {\n",
       "        vertical-align: top;\n",
       "    }\n",
       "\n",
       "    .dataframe thead th {\n",
       "        text-align: right;\n",
       "    }\n",
       "</style>\n",
       "<table border=\"1\" class=\"dataframe\">\n",
       "  <thead>\n",
       "    <tr style=\"text-align: right;\">\n",
       "      <th></th>\n",
       "      <th>content</th>\n",
       "      <th>explanation</th>\n",
       "    </tr>\n",
       "  </thead>\n",
       "  <tbody>\n",
       "    <tr>\n",
       "      <th>5204</th>\n",
       "      <td>एवमेतत्पुरावृत्तमाख्यानंभद्रमस्तुवः ।।6.131.12...</td>\n",
       "      <td>This way Ramayana is the ancient narration. Re...</td>\n",
       "    </tr>\n",
       "    <tr>\n",
       "      <th>5205</th>\n",
       "      <td>देवाश्चसर्वेतुष्यन्तिग्रहणाच्छ्रवणात्तथा ।।6.1...</td>\n",
       "      <td>By grasping and listening to Ramayana, all god...</td>\n",
       "    </tr>\n",
       "    <tr>\n",
       "      <th>5206</th>\n",
       "      <td>भक्त्यारामस्ययेचेमांसंसितामृषिणाकृताम् ।।6.131...</td>\n",
       "      <td>Residence in heaven is assured for those who t...</td>\n",
       "    </tr>\n",
       "    <tr>\n",
       "      <th>5207</th>\n",
       "      <td>कुटुम्बवृद्धिंधनधान्यवृद्धिंस्त्रियश्चमुख्यास्...</td>\n",
       "      <td>Listening to this great auspicious epic will r...</td>\n",
       "    </tr>\n",
       "    <tr>\n",
       "      <th>5208</th>\n",
       "      <td>आयुष्यमारोग्यकरंयशस्यंसौभ्रातृकंबुद्धिकरंशुभं ...</td>\n",
       "      <td>If the narrative of Ramayana is regularly hear...</td>\n",
       "    </tr>\n",
       "  </tbody>\n",
       "</table>\n",
       "</div>"
      ],
      "text/plain": [
       "                                                content  \\\n",
       "5204  एवमेतत्पुरावृत्तमाख्यानंभद्रमस्तुवः ।।6.131.12...   \n",
       "5205  देवाश्चसर्वेतुष्यन्तिग्रहणाच्छ्रवणात्तथा ।।6.1...   \n",
       "5206  भक्त्यारामस्ययेचेमांसंसितामृषिणाकृताम् ।।6.131...   \n",
       "5207  कुटुम्बवृद्धिंधनधान्यवृद्धिंस्त्रियश्चमुख्यास्...   \n",
       "5208  आयुष्यमारोग्यकरंयशस्यंसौभ्रातृकंबुद्धिकरंशुभं ...   \n",
       "\n",
       "                                            explanation  \n",
       "5204  This way Ramayana is the ancient narration. Re...  \n",
       "5205  By grasping and listening to Ramayana, all god...  \n",
       "5206  Residence in heaven is assured for those who t...  \n",
       "5207  Listening to this great auspicious epic will r...  \n",
       "5208  If the narrative of Ramayana is regularly hear...  "
      ]
     },
     "execution_count": 2,
     "metadata": {},
     "output_type": "execute_result"
    }
   ],
   "source": [
    "df = pd.read_csv(\"../data/ramayana/data/yuddhakanda.csv\").dropna(how = 'all')\n",
    "df.tail()"
   ]
  },
  {
   "cell_type": "code",
   "execution_count": 3,
   "metadata": {},
   "outputs": [
    {
     "name": "stdout",
     "output_type": "stream",
     "text": [
      "[  1   2   3   4   5   6   7   8   9  10  11  12  13  14  15  16  17  18\n",
      "  19  20  21  22  23  24  25  26  27  28  29  30  31  32  33  34  35  36\n",
      "  37  38  39  40  41  42  43  44  45  46  47  48  49  50  51  52  53  54\n",
      "  55  56  57  58  59  60  61  62  63  64  65  66  67  68  69  70  71  72\n",
      "  73  74  75  76  77  78  79  80  81  82  83  84  85  86  87  88  89  90\n",
      "  91  92  93  94  95  96  97  98  99 100 101 102 103 104 105 106 107 108\n",
      " 109 110 111 112 113 114 115 116 117 118 119 120 121 122 123 124 125 126\n",
      " 127 128 129 130 131]\n"
     ]
    }
   ],
   "source": [
    "docs = RamayanaCSVReader().load_data(\"../data/ramayana/data/yuddhakanda.csv\")"
   ]
  },
  {
   "cell_type": "code",
   "execution_count": 4,
   "metadata": {},
   "outputs": [
    {
     "name": "stdout",
     "output_type": "stream",
     "text": [
      "{'sarga': 130, 'summary': ' Arrangements at Ayodhya to receive Sri Rama. Bharata goes to receive him.'}\n"
     ]
    }
   ],
   "source": [
    "print(docs[-2].metadata)"
   ]
  },
  {
   "cell_type": "code",
   "execution_count": 6,
   "metadata": {},
   "outputs": [
    {
     "name": "stdout",
     "output_type": "stream",
     "text": [
      "Hearing the delightful news, Bharata of truthful prowess, the destroyer of enemies, was very happy and ordered Shatrughna. ।।6.130.1।।\n",
      "\n",
      "\"Let all gods in the temples of the capital be worshiped by people purifying themselves, duly adorned with fragrance and garlands.\" ।।6.130.2।।\n",
      "\n",
      "\"Let the bards well versed in singing praises, charioteers, all courtesans, in groups, artists who can play musical instruments, similarly ministers, army men, traders, service providers, Kshatriyas, brahmins so also top people, troops proceed to see the moon like face of Rama.\" ।।6.130.4।।\n",
      "\n",
      "Shatrughna, a destroyer of enemies, hearing the words of Bharata, ordered for many divisions of labour and the courageous ones to come. ।।6.130.5।।\n",
      "\n",
      "From here (Nandigrama to Ayodhya) low lying areas are to be made even and uneven areas to be levelled. ।।6.130.6।।\n",
      "\n",
      "Let the ground be sprinkled with cold water and then parched grain and flowers to be sprinkled. ।।6.130.7।।\n",
      "\n",
      "Let the streets of the foremost of the best cities (Ayodhya), be decorated with flags till the sun rises and houses be decorated. ।।6.130.8।।\n",
      "\n",
      "Let hundreds of people decorate with fragrant garlands of five colours closely tied and decorate the royal paths. ।।6.130.9।।\n",
      "\n",
      "On hearing Shatrughna's command, all the eight ministers, Dhristi, Jayanta, Vijaya, Siddhartha, Arthasadhaka, Ashoka, and Mantrapala issued forth with great joy. ।।6.130.11।।\n",
      "\n",
      "Seated on top of thousands of well decorated elephants in rut, and on the best of horses, people went (to receive Rama). Female elephants had golden girths on their waist. Best charioteers on best chariots proceeded. ।।6.130.12।।\n",
      "\n",
      "Chiefs on horses, champions in thousands went surrounded by thousands of foot soldiers carrying javelins, spears, and nooses. ।।6.130.14।।\n",
      "\n",
      "Then all the consorts of Dasharatha, keeping Kausalya and Sumitra in front, seated in palanquin accompanied by Kaikeyi, started from Nandigram. ।।6.130.15।।\n",
      "\n",
      "Then the foremost of brahmins, leaders with garlands and Modaka sweets in hand, surrounded by ministers went with righteous Bharata, accompanied by bards praising, accompanied by sounds of blowing conches and drums and greeting. Bharata was emaciated due to fastings, was desperate, wearing bark fabric and skin of antelope. The great soul Bharata, knower of righteous responsibilities, greeting, experienced great joy, on hearing about the returning of the brother. Decorated with white garlands, he carried Rama's sandals on his head. His friends accompanied him and took with him a yellow umbrella adorned with gold, worthy of kings and white whisks. Bharata went to receive Sri Rama. ।।6.130.20।।\n",
      "\n",
      "The earth shook by the sounds of hooves of the horses, sounds of conches and drums, and the rattling of the chariot wheels. ।।6.130.21।।\n",
      "\n",
      "Reviewing the arrangements, Bharata spoke these words to wind god's son, Hanuman. ।।6.130.22।।\n",
      "\n",
      "\"O monkey! Indeed, you monkey being fickle minded, hope you have not resorted to your nature. I am not seeing noble Rama, the tormentor of enemies.\" ।।6.130.23।।\n",
      "\n",
      "And then Bharata having spoken that way, Hanuman understood the meaning of his words and spoke thus. ।।6.130.24।।\n",
      "\n",
      "\"By the grace of Bharadwaja, all the trees have fruits shedding sweet juice, and in bloom, the Vanaras are very delighted. The forest rangers are making terrific sounds. The tormentor of enemies, endowed with all virtues, by virtue of the boon given by Indra extended hospitality to the Vanara army. I think they are crossing the river Gomathi now.\" ।।6.130.27।।\n",
      "\n",
      "\"See the rain of dust started at Sala Forest. Vanaras are shaking the beautiful Sala grove, I think.\" ।।6.130.28।।\n",
      "\n",
      "Pushpaka is seen at a distance, resembling the moon. This wonderful Pushpaka has been created through Brahma's mind. ।।6.130.29।।\n",
      "\n",
      "\"Rama's vehicle is amazing, and he got it by killing Ravana and his relatives. It shines brightly like the rising sun, and it speeds at the thought of mind. Kubera got this aerial car by Brahma's grace.\" ।।6.130.30।।\n",
      "\n",
      "\"Heroic Raghava brothers are there with Vaidehi, that highly energetic Sugriva and Rakshasa Vibheeshana also.\" ।।6.130.31।।\n",
      "\n",
      "Then when \"Sri Rama is here\" was uttered a fantastic expression of joy of the women, young, youth and aged was heard, which reached the heaven. ।।6.130.32।।\n",
      "\n",
      "Those people on the chariots, elephants and horses got down and saw them on the moon like Pushpaka. ।।6.130.33।।\n",
      "\n",
      "Highly rejoiced, Bharata offered salutations standing as he ought to within himself and worshiped Sri Rama from a distance. ।।6.130.34।।\n",
      "\n",
      "Sri Rama, elder brother of Bharata shone in the aerial car created by Brahma like another Indra. ।।6.130.35।।\n",
      "\n",
      "Then Bharata offered salutations with joined palms to Sri Rama seated in the peak of Pushpaka like saluting Sun from the mountain Meru. ।।6.130.36।।\n",
      "\n",
      "Then that excellent Pushpaka which had pictures of swans on it came down to the ground with Rama's permission. ।।6.130.37।।\n",
      "\n",
      "Bharata of unfailing valour duly permitted to ascend Pushpaka by Sri Rama, reached Rama and once again offered salutations to Rama. ।।6.130.38।।\n",
      "\n",
      "Kakuthsa Rama happily lifting up Bharata, who came into his sight after long, on to his thigh embraced him. ।।6.130.39।।\n",
      "\n",
      "Then the tormentor of enemies, Bharata approached Lakshmana and then greeted Vaidehi and announced his name. ।।6.130.40।।\n",
      "\n",
      "Bharata, the son of Kaikeyi thereafter embraced Sugriva, Jambavantha, Angada, Mainda, Dwivivida, Nila and Rshaba. ।।6.130.41।।\n",
      "\n",
      "He embraced Sushena, Nala, Gavaksha, Gandhamadana, Sarabha, Panasa who were around. ।।6.130.42।।\n",
      "\n",
      "Then he inquired about the welfare of those Vanaras who can take any form at will, who were in human form and was delighted. ।।6.130.43।।\n",
      "\n",
      "And thereafter highly brilliant, foremost among the righteous, prince Bharata embraced Sugriva, the bull among Vanaras and spoke. ।।6.130.44।।\n",
      "\n",
      "\"Sugriva, you are the fifth brother to four of us and should have been born like that\" said Bharata. One who helps becomes friend and maleficence is a sign of an enemy. ।।6.130.45।।\n",
      "\n",
      "And then Bharata spoke this good word. \"Luckily with your help, the very difficult task was done.\" ।।6.130.46।।\n",
      "\n",
      "Then hero Shatrughna and Lakshmana also greeted Rama and then worshipped Sita also. ।।6.130.47।।\n",
      "\n",
      "Rama reached his mother who was pale and emaciated in grief and offered salutations clasping her feet in obedience and was delighted in his mind. ।।6.130.48।।\n",
      "\n",
      "Then he greeted Sumitra, and illustrious Kaikeyi also and then all the mothers and the priests who had come. ।।6.130.49।।\n",
      "\n",
      "\"Welcome to you mighty armed Rama, enhancer of Kausalya's joy\" saying so citizens of the city spoke with folded hand s greeting Rama. ।।6.130.50।।\n",
      "\n",
      "The citizens in thousands greeting Rama, elder brother of Bharata lifting up their hand s with folded palms seemed like lotus buds. ।।6.130.51।।\n",
      "\n",
      "Taking the sandals given to Bharata, the knower of dharma put on the sandals on Rama's feet by himself. ।।6.130.52।।\n",
      "\n",
      "Bharata then greeted Rama with folded palms, spoke saying, \"this kingdom and everything held in trust by me is returned to you.\" ।।6.130.53।।\n",
      "\n",
      "Today my life is fulfilled, my wish is completed. I am seeing you returned to Ayodhya again as king of this kingdom. ।।6.130.54।।\n",
      "\n",
      "You may review your treasury, granary, palaces, army. Everything has increased tenfold by me by virtue of your brilliance. ।।6.130.55।।\n",
      "\n",
      "Seeing Bharata, the lover of his brother, who spoke like that, the Vanaras, Rakshasas, and Vibheeshana shed tears. ।।6.130.56।।\n",
      "\n",
      "Then rejoiced Raghava took Bharata on his lap and flew to Bharata's hermitage with the army. ।।6.130.57।।\n",
      "\n",
      "Raghava alighted from the top of the Pushpaka on reaching the hermitage of Bharata and stood on ground. ।।6.130.58।।\n",
      "\n",
      "Then Rama told Pushpaka that he was permitted to go to God Vysravana. ।।6.130.59।।\n",
      "\n",
      "That aerial car duly permitted by Rama rose up to go to Kubera and set out in the northern direction and flew. ।।6.130.60।।\n",
      "\n",
      "That wonderful Pushpaka received from Rakshasa impelled by Rama's order speedily went to Kubera. ।।6.130.61।।\n",
      "\n",
      "Accompanied by his army, valiant Sri Rama greeted the family priest (Vasishta) who was his own form, sitting on the splendid seat by the side, by holding his feet, just as Lord of heaven Indra would hold the feet of Brhaspati.।। इत्यार्षेवाल्मीकीयेश्रीमद्रामायणेआदिकाव्येयुद्धकाण्डेत्रिंशत्युत्तरशततमस्सर्गः ।।This is the end of one hundred and thirtieth sarga of Yuddha Kanda of the first epic the holy Ramayana composed by sage Valmiki. ।।6.130.62।।\n"
     ]
    }
   ],
   "source": [
    "print(docs[-2].get_content())"
   ]
  },
  {
   "cell_type": "code",
   "execution_count": null,
   "metadata": {},
   "outputs": [],
   "source": []
  }
 ],
 "metadata": {
  "kernelspec": {
   "display_name": "gurukul",
   "language": "python",
   "name": "python3"
  },
  "language_info": {
   "codemirror_mode": {
    "name": "ipython",
    "version": 3
   },
   "file_extension": ".py",
   "mimetype": "text/x-python",
   "name": "python",
   "nbconvert_exporter": "python",
   "pygments_lexer": "ipython3",
   "version": "3.11.7"
  }
 },
 "nbformat": 4,
 "nbformat_minor": 2
}
