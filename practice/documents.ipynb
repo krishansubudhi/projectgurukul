{
 "cells": [
  {
   "cell_type": "code",
   "execution_count": 1,
   "metadata": {},
   "outputs": [],
   "source": [
    "import dotenv\n",
    "dotenv.load_dotenv('../.env')\n",
    "\n",
    "from llama_index.core.readers.base import BaseReader\n",
    "from llama_index.core.schema import MetadataMode\n",
    "\n",
    "from projectgurukul.readers import CSVReader,RamayanaCSVReader, MahabharataCSVReader\n",
    "import pandas as pd\n",
    "import re"
   ]
  },
  {
   "cell_type": "markdown",
   "metadata": {},
   "source": [
    "# Gita"
   ]
  },
  {
   "cell_type": "code",
   "execution_count": null,
   "metadata": {},
   "outputs": [],
   "source": [
    "def preprocess(row):\n",
    "    row['chapter'], row['verse'] = row.verse_number.split(', ')\n",
    "    return row\n",
    "\n",
    "\n",
    "reader = CSVReader(text_columns=['verse','verse_in_sanskrit','translation_in_english','meaning_in_english'], metadata_columns=['chapter'], preprocess = preprocess)\n",
    "\n",
    "documents = reader.load_data('../data/gita/data/bhagavad_gita.csv', extra_info={'souce': 'Bhagavad Gita'})"
   ]
  },
  {
   "cell_type": "code",
   "execution_count": null,
   "metadata": {},
   "outputs": [
    {
     "data": {
      "text/plain": [
       "701"
      ]
     },
     "execution_count": 4,
     "metadata": {},
     "output_type": "execute_result"
    }
   ],
   "source": [
    "len(documents)"
   ]
  },
  {
   "cell_type": "code",
   "execution_count": null,
   "metadata": {},
   "outputs": [
    {
     "name": "stdout",
     "output_type": "stream",
     "text": [
      "> chapter: Chapter 1\n",
      "> souce: Bhagavad Gita\n",
      "\n",
      "Verse 1\n",
      "\n",
      "धृतराष्ट्र उवाच |धर्मक्षेत्रे कुरुक्षेत्रे समवेता युयुत्सवः |मामकाः पाण्डवाश्चैव किमकुर्वत सञ्जय ||1||\n",
      "\n",
      "Dhritarashtra said: O Sanjay, after gathering on the holy field of Kurukshetra, and desiring to fight, what did my sons and the sons of Pandu do?\n",
      "\n",
      "The two armies had gathered on the battlefield of Kurukshetra, well prepared to fight a war that was inevitable. Still, in this verse, King Dhritarashtra asked Sanjay, what his sons and his brother Pandu’s sons were doing on the battlefield? It was apparent that they would fight, then why did he ask such a question?The blind King Dhritarashtra’s fondness for his own sons had clouded his spiritual wisdom and deviated him from the path of virtue. He had usurped the kingdom of Hastinapur from the rightful heirs; the Pandavas, sons of his brother Pandu. Feeling guilty of the injustice he had done towards his nephews, his conscience worried him about the outcome of this battle.The words dharma kṣhetre, the land of dharma (virtuous conduct) used by Dhritarashtra depict the dilemma he was experiencing. Kurukshetra is described as kurukṣhetraṁ deva yajanam in the Shatapath Brahman, the Vedic textbook detailing rituals. It means “Kurukshetra is the sacrificial arena of the celestial gods.”Hence, it was regarded as the sacred land that nourished dharma.Dhritarashtra feared that the holy land might influence the minds of his sons. If it aroused the faculty of discrimination, they might turn away from killing their cousins and negotiate a truce. A peaceful settlement meant that the Pandavas would continue being a hindrance for them.He felt great displeasure at these possibilities, instead preferred that this war transpires.He was uncertain of the consequences of the war, yet desired to determine the fate of his sons. Therefore, he asked Sanjay about the activities of the two armies on the battleground.\n"
     ]
    }
   ],
   "source": [
    "documents[0].metadata_template = \"> {key}: {value}\"\n",
    "print(documents[0].get_content(metadata_mode = MetadataMode.ALL))"
   ]
  },
  {
   "cell_type": "code",
   "execution_count": null,
   "metadata": {},
   "outputs": [
    {
     "data": {
      "text/plain": [
       "'chapter: Chapter 1\\nsouce: Bhagavad Gita'"
      ]
     },
     "execution_count": 4,
     "metadata": {},
     "output_type": "execute_result"
    }
   ],
   "source": [
    "documents[1].get_metadata_str()"
   ]
  },
  {
   "cell_type": "code",
   "execution_count": null,
   "metadata": {},
   "outputs": [],
   "source": [
    "wikireader = WikipediaReader()\n",
    "wikidocs = wikireader.load_data(['ayodhya ram temple'])\n"
   ]
  },
  {
   "cell_type": "code",
   "execution_count": null,
   "metadata": {},
   "outputs": [
    {
     "name": "stdout",
     "output_type": "stream",
     "text": [
      "The Ram Mandir is a Hindu temple that is under construction in Ayodhya, Uttar Pradesh, India. It is located at the site of Ram Janmabhoomi, the hypothesized birthplace of Rama, a principal deity of Hinduism. The site is the former location of the Babri Masjid which was built after the demolition an existing non-Islamic structure. The worship of Hindu god Ram and Sita at the disputed site started when their idols were installed in 1949. In 2019, the Supreme Court of India delivered the verdict to give the disputed land to Hindus for a temple of Ram, while Muslims would be given land elsewhere to construct a mosque. The court referenced a report from the Archaeological Survey of India (ASI) as evidence suggesting the presence of a structure beneath the demolished Babri Masjid, that was found to be non-Islamic.The bhumi pujan (transl. ground breaking ceremony) for the commencement of the construction of Ram Mandir was performed on 5 August 2020, by Prime Minister Narendra Modi. The temple, currently under construction, is being supervised by the Shri Ram Janmabhoomi Teerth Kshetra Trust. The inauguration of the temple is scheduled for 22 January 2024.The temple has attracted a number of controversies due to alleged misuse of donation, sidelining of its major activists and politicisation of the temple by the BJP.\n",
      "\n",
      "\n",
      "== History ==\n",
      "\n",
      "\n",
      "=== Ancient and Medieval ===\n",
      "Rama, an incarnation of Vishnu, is a Hindu deity. According to the ancient Indian epic, Ramayana, Rama was born in Ayodhya\n"
     ]
    }
   ],
   "source": [
    "print( wikidocs[0].get_content()[:1500])"
   ]
  },
  {
   "cell_type": "markdown",
   "metadata": {},
   "source": [
    "# Ramayana"
   ]
  },
  {
   "cell_type": "code",
   "execution_count": null,
   "metadata": {},
   "outputs": [
    {
     "data": {
      "text/html": [
       "<div>\n",
       "<style scoped>\n",
       "    .dataframe tbody tr th:only-of-type {\n",
       "        vertical-align: middle;\n",
       "    }\n",
       "\n",
       "    .dataframe tbody tr th {\n",
       "        vertical-align: top;\n",
       "    }\n",
       "\n",
       "    .dataframe thead th {\n",
       "        text-align: right;\n",
       "    }\n",
       "</style>\n",
       "<table border=\"1\" class=\"dataframe\">\n",
       "  <thead>\n",
       "    <tr style=\"text-align: right;\">\n",
       "      <th></th>\n",
       "      <th>content</th>\n",
       "      <th>explanation</th>\n",
       "    </tr>\n",
       "  </thead>\n",
       "  <tbody>\n",
       "    <tr>\n",
       "      <th>5204</th>\n",
       "      <td>एवमेतत्पुरावृत्तमाख्यानंभद्रमस्तुवः ।।6.131.12...</td>\n",
       "      <td>This way Ramayana is the ancient narration. Re...</td>\n",
       "    </tr>\n",
       "    <tr>\n",
       "      <th>5205</th>\n",
       "      <td>देवाश्चसर्वेतुष्यन्तिग्रहणाच्छ्रवणात्तथा ।।6.1...</td>\n",
       "      <td>By grasping and listening to Ramayana, all god...</td>\n",
       "    </tr>\n",
       "    <tr>\n",
       "      <th>5206</th>\n",
       "      <td>भक्त्यारामस्ययेचेमांसंसितामृषिणाकृताम् ।।6.131...</td>\n",
       "      <td>Residence in heaven is assured for those who t...</td>\n",
       "    </tr>\n",
       "    <tr>\n",
       "      <th>5207</th>\n",
       "      <td>कुटुम्बवृद्धिंधनधान्यवृद्धिंस्त्रियश्चमुख्यास्...</td>\n",
       "      <td>Listening to this great auspicious epic will r...</td>\n",
       "    </tr>\n",
       "    <tr>\n",
       "      <th>5208</th>\n",
       "      <td>आयुष्यमारोग्यकरंयशस्यंसौभ्रातृकंबुद्धिकरंशुभं ...</td>\n",
       "      <td>If the narrative of Ramayana is regularly hear...</td>\n",
       "    </tr>\n",
       "  </tbody>\n",
       "</table>\n",
       "</div>"
      ],
      "text/plain": [
       "                                                content  \\\n",
       "5204  एवमेतत्पुरावृत्तमाख्यानंभद्रमस्तुवः ।।6.131.12...   \n",
       "5205  देवाश्चसर्वेतुष्यन्तिग्रहणाच्छ्रवणात्तथा ।।6.1...   \n",
       "5206  भक्त्यारामस्ययेचेमांसंसितामृषिणाकृताम् ।।6.131...   \n",
       "5207  कुटुम्बवृद्धिंधनधान्यवृद्धिंस्त्रियश्चमुख्यास्...   \n",
       "5208  आयुष्यमारोग्यकरंयशस्यंसौभ्रातृकंबुद्धिकरंशुभं ...   \n",
       "\n",
       "                                            explanation  \n",
       "5204  This way Ramayana is the ancient narration. Re...  \n",
       "5205  By grasping and listening to Ramayana, all god...  \n",
       "5206  Residence in heaven is assured for those who t...  \n",
       "5207  Listening to this great auspicious epic will r...  \n",
       "5208  If the narrative of Ramayana is regularly hear...  "
      ]
     },
     "execution_count": 2,
     "metadata": {},
     "output_type": "execute_result"
    }
   ],
   "source": [
    "df = pd.read_csv(\"../data/ramayana/data/yuddhakanda.csv\").dropna(how = 'all')\n",
    "df.tail()"
   ]
  },
  {
   "cell_type": "code",
   "execution_count": null,
   "metadata": {},
   "outputs": [
    {
     "name": "stdout",
     "output_type": "stream",
     "text": [
      "[ 1  2  3  4  5  6  7  8  9 10 11 12 13 14 15 16 17 18 19 20 21 22 23 24\n",
      " 25 26 27 28 29 30 31 32 33 34 35 36 37 38 39 40 41 42 43 44 45 46 47 48\n",
      " 49 50 51 52 53 54 55 56 57 58 59 60 61 62 63 64 65 66 67 68 69 70 71 72\n",
      " 73 74 75 76 77]\n"
     ]
    }
   ],
   "source": [
    "docs = RamayanaCSVReader().load_data(\"../data/ramayana/data/balakanda.csv\")"
   ]
  },
  {
   "cell_type": "code",
   "execution_count": null,
   "metadata": {},
   "outputs": [
    {
     "name": "stdout",
     "output_type": "stream",
     "text": [
      "sarga: 76\n",
      "summary: Rama bends the bow of Visnu--Parasurama returns to Mahendra mountain.\n",
      "\n",
      "Hearing the words of the son of Jamadagni (Parasurama), Rama, the son of Dasaratha, avoiding further conversation out of respect for his father intercepted Parasurama saying:  ।।1.76.1।।\n",
      "\n",
      " \"O Descendant of Bhrigu I have listened to the (marvellous) acts you have performed. O Brahman I commend you for discharging your duty in repaying the debt to your father. ।।1.76.2।।\n",
      "\n",
      "You underrate me O Bhargava as though I am devoid of valour and incompetent to perform the duties of a Kshatriya. Now witness my energy and valour. ।।1.76.3।।\n",
      "\n",
      " Having spoken thus, the enraged Rama, gifted with quick vigour, seized the bow and arrow from Parasurama's hands. ।।1.76.4।।\n",
      "\n",
      "Infuriated Rama bent the bow stretched it, fixed the arrow and addressed Parasurama, the son of Jamadagni: ।।1.76.5।।\n",
      "\n",
      "\"You are a brahmin, O Parasurama. You are also related to Viswamitra. Hence you are worthy of homage. I cannot, therefore, release this against you to take your life.   ।।1.76.6।।\n",
      "\n",
      "I shall destroy your mobility, O Parasurama or the higher worlds earned through your matchless asceteic energy. Tell me which one you choose. ।।1.76.7।।\n",
      "\n",
      "On conquering the hostile cities and destroying the pride and strength of the enemy by its prowess, this celestial arrow of Visnu shall not go in vain\". ।।1.76.8।।\n",
      "\n",
      "The gods with the Grandsire, Brahma in the forefront, accompanied by sages in groups assembled there to see Rama holding that mighty bow. Gandharvas, apsaras, siddhas, charanas, kinnaras, yakshas, rakshsas and nagas also came there to witness that great wonder. ।।1.76.10।।\n",
      "\n",
      "Then when Rama stretched the great bow, the world became motionless. The son of Jamadagni, Parasurama, bereft of prowess gazed at him with astonishment. ।।1.76.11।।\n",
      "\n",
      "His energy subdued by Rama's prowess, the paralysed, Parasurama, son of Jamadagni spoke in gentle words to him whose eyes resembled the lotus petals: ।।1.76.12।।\n",
      "\n",
      "\"When I gave this entire earth to Kasyapa, he said to me, 'you shall not live in my country'.  ।।1.76.13।।\n",
      "\n",
      "O Descendant of Kakustha having gifted this earth to Kasyapa, I promised him that I would not live here, during night time. For the earth belongs to him. ।।1.76.14।।\n",
      "\n",
      "For this, you should not destroy my mobility, O valiant son of the Raghus. I shall go to Mahendra, the best of mountains, with the speed of mind. ।।1.76.15।।\n",
      "\n",
      "Strike with the, principal arrow the unrivalled worlds conquered by my asceticism. Do not delay, O Rama ।।1.76.16।।\n",
      "\n",
      "By the fact that you have stretched this bow, I have come to know that you are Visnu, Lord of the gods, slayer of Madhu, O Imperishable one O Tormentor of enemies Fare well. ।।1.76.17।।\n",
      "\n",
      "All your deeds are incomparable. You are unassailable in combat. All these hosts of gods have assembled here and are looking at you.  ।।1.76.18।।\n",
      "\n",
      "I have been defeated by you, O Descendant of Kakustha lord of the three worlds. Therefore, it is not right for me to feel ashamed.  ।।1.76.19।।\n",
      "\n",
      "You are faithful to vows O Rama This arrow has no equal in prowess. It behoves of you to release it against me. After its release I shall go to the excellent Mahendra  mountain\".  ।।1.76.20।।\n",
      "\n",
      "Thus spoke  Parasurama, son of Jamadagni to Rama, the valiant son of Dasaratha who (then) discharged the principal arrow.  ।।1.76.21।।\n",
      "\n",
      "Having witnessed the destruction of those regions earned by him through asceticism, the son of Jamadagni left for the best of mountains Mahendra. ।।1.76.22।।\n",
      "\n",
      "Thereafter all the quarters including the intermediaries were cleared of darkness. Hosts of sages and gods extolled Rama when he wielded the bow. ।।1.76.23।।\n",
      "\n",
      "Parasurama, the competent son of Jamadagni, having praised Rama, the son of Dasaratha circumbulated him and left for his abode.इत्यार्षे श्रीमद्रामायणे वाल्मीकीय आदिकाव्ये बालकाण्डे षट्सप्ततितमस्सर्ग:।।Thus ends the seventysixth sarga of Balakanda of the holy Ramayana the first epic composed by sage Valmiki. ।।1.76.24।।\n"
     ]
    }
   ],
   "source": [
    "print(docs[-2].get_content(MetadataMode.LLM))"
   ]
  },
  {
   "cell_type": "markdown",
   "metadata": {},
   "source": [
    "# Mahabharata"
   ]
  },
  {
   "cell_type": "code",
   "execution_count": 38,
   "metadata": {},
   "outputs": [],
   "source": [
    "import csv\n",
    "import re\n",
    "import pandas as pd\n",
    "from text_to_num import text2num\n",
    "import random\n",
    "MAHABHARATA_OUT_FILE = \"../data/mahabharata/data/mahabharata_parsed.csv\""
   ]
  },
  {
   "cell_type": "code",
   "execution_count": 7,
   "metadata": {},
   "outputs": [],
   "source": [
    "all_lines = [] \n",
    "with open('../data/mahabharata/raw/1-18 books combined.txt', 'r') as reader:\n",
    "    all_lines = reader.readlines()\n",
    "    "
   ]
  },
  {
   "cell_type": "code",
   "execution_count": 8,
   "metadata": {},
   "outputs": [],
   "source": [
    "\n",
    "with open(MAHABHARATA_OUT_FILE, \"w\") as file:\n",
    "    wr = csv.writer(file)\n",
    "    wr.writerow([\"parva\", \"chapter\",  \"chapter title\" , \"content\"])\n",
    "    current_parva = 0\n",
    "    current_chapter = 0\n",
    "    capture_current_chapter_title = False\n",
    "    for line in all_lines:\n",
    "        if line == '\\n' or len(line.strip()) == 0:\n",
    "            continue\n",
    "        if capture_current_chapter_title:\n",
    "            current_chapter_title = line.strip()\n",
    "            capture_current_chapter_title = False\n",
    "            continue\n",
    "        if re.match('^\\w+ Parva$\\n', line):\n",
    "            current_parva = line.strip()\n",
    "            continue\n",
    "        if line.startswith('Chapter') and line != 'Chapter Commentary\\n':\n",
    "            current_chapter = line.strip()\n",
    "            capture_current_chapter_title = True\n",
    "            continue\n",
    "        wr.writerow([current_parva, current_chapter,  current_chapter_title , line.strip()])\n"
   ]
  },
  {
   "cell_type": "code",
   "execution_count": 5,
   "metadata": {},
   "outputs": [
    {
     "name": "stdout",
     "output_type": "stream",
     "text": [
      "{'Adi Parva': 1, 'Sabha Parva': 2, 'Vana Parva': 3, 'Virata Parva': 4, 'Udyoga Parva': 5, 'Bhisma Parva': 6, 'Drona Parva': 7, 'Karna Parva': 8, 'Salya Parva': 9, 'Sauptika Parva': 10, 'Stree Parva': 11, 'Shanti Parva': 12, 'Anushasana Parva': 13, 'Ashvamedha Parva': 14, 'Ashramvasika Parva': 15, 'Mausala Parva': 16, 'Mahaprasthanika Parva': 17}\n"
     ]
    }
   ],
   "source": [
    "\n",
    "with open(MAHABHARATA_OUT_FILE, 'r') as file:\n",
    "    df = pd.read_csv(file).dropna(how=\"all\").fillna(\"\")\n",
    "    print(dict(zip(*[iter(df['parva'].unique()), iter(range(1,df.size + 1))])))\n",
    "    "
   ]
  },
  {
   "cell_type": "code",
   "execution_count": 31,
   "metadata": {},
   "outputs": [
    {
     "data": {
      "text/html": [
       "<div>\n",
       "<style scoped>\n",
       "    .dataframe tbody tr th:only-of-type {\n",
       "        vertical-align: middle;\n",
       "    }\n",
       "\n",
       "    .dataframe tbody tr th {\n",
       "        vertical-align: top;\n",
       "    }\n",
       "\n",
       "    .dataframe thead th {\n",
       "        text-align: right;\n",
       "    }\n",
       "</style>\n",
       "<table border=\"1\" class=\"dataframe\">\n",
       "  <thead>\n",
       "    <tr style=\"text-align: right;\">\n",
       "      <th></th>\n",
       "      <th>parva</th>\n",
       "      <th>chapter</th>\n",
       "      <th>chapter title</th>\n",
       "      <th>content</th>\n",
       "    </tr>\n",
       "  </thead>\n",
       "  <tbody>\n",
       "    <tr>\n",
       "      <th>0</th>\n",
       "      <td>Adi Parva</td>\n",
       "      <td>Chapter One</td>\n",
       "      <td>Maharaja Shantanu Marries the Celestial Ganga</td>\n",
       "      <td>According to the historical records of this ea...</td>\n",
       "    </tr>\n",
       "    <tr>\n",
       "      <th>1</th>\n",
       "      <td>Adi Parva</td>\n",
       "      <td>Chapter One</td>\n",
       "      <td>Maharaja Shantanu Marries the Celestial Ganga</td>\n",
       "      <td>Once when Maharaja Shantanu, that bull among m...</td>\n",
       "    </tr>\n",
       "    <tr>\n",
       "      <th>2</th>\n",
       "      <td>Adi Parva</td>\n",
       "      <td>Chapter One</td>\n",
       "      <td>Maharaja Shantanu Marries the Celestial Ganga</td>\n",
       "      <td>The beautiful apsara (celestial maiden) then s...</td>\n",
       "    </tr>\n",
       "  </tbody>\n",
       "</table>\n",
       "</div>"
      ],
      "text/plain": [
       "       parva      chapter                                  chapter title  \\\n",
       "0  Adi Parva  Chapter One  Maharaja Shantanu Marries the Celestial Ganga   \n",
       "1  Adi Parva  Chapter One  Maharaja Shantanu Marries the Celestial Ganga   \n",
       "2  Adi Parva  Chapter One  Maharaja Shantanu Marries the Celestial Ganga   \n",
       "\n",
       "                                             content  \n",
       "0  According to the historical records of this ea...  \n",
       "1  Once when Maharaja Shantanu, that bull among m...  \n",
       "2  The beautiful apsara (celestial maiden) then s...  "
      ]
     },
     "execution_count": 31,
     "metadata": {},
     "output_type": "execute_result"
    }
   ],
   "source": [
    "df.head(3)"
   ]
  },
  {
   "cell_type": "code",
   "execution_count": 32,
   "metadata": {},
   "outputs": [
    {
     "data": {
      "text/html": [
       "<div>\n",
       "<style scoped>\n",
       "    .dataframe tbody tr th:only-of-type {\n",
       "        vertical-align: middle;\n",
       "    }\n",
       "\n",
       "    .dataframe tbody tr th {\n",
       "        vertical-align: top;\n",
       "    }\n",
       "\n",
       "    .dataframe thead th {\n",
       "        text-align: right;\n",
       "    }\n",
       "</style>\n",
       "<table border=\"1\" class=\"dataframe\">\n",
       "  <thead>\n",
       "    <tr style=\"text-align: right;\">\n",
       "      <th></th>\n",
       "      <th>parva</th>\n",
       "      <th>chapter</th>\n",
       "      <th>chapter title</th>\n",
       "      <th>content</th>\n",
       "    </tr>\n",
       "  </thead>\n",
       "  <tbody>\n",
       "    <tr>\n",
       "      <th>0</th>\n",
       "      <td>Adi Parva</td>\n",
       "      <td>Chapter Eight</td>\n",
       "      <td>The Preceptor Drona</td>\n",
       "      <td>Seeing the princes enter adolescence, Maharaja...</td>\n",
       "    </tr>\n",
       "    <tr>\n",
       "      <th>1</th>\n",
       "      <td>Adi Parva</td>\n",
       "      <td>Chapter Eighteen</td>\n",
       "      <td>Arjuna Goes on Pilgrimage</td>\n",
       "      <td>After leaving Indraprastha in the dress of a m...</td>\n",
       "    </tr>\n",
       "    <tr>\n",
       "      <th>2</th>\n",
       "      <td>Adi Parva</td>\n",
       "      <td>Chapter Eleven</td>\n",
       "      <td>Tuition for Drona</td>\n",
       "      <td>Drona saw that all his students were now adept...</td>\n",
       "    </tr>\n",
       "  </tbody>\n",
       "</table>\n",
       "</div>"
      ],
      "text/plain": [
       "       parva           chapter              chapter title  \\\n",
       "0  Adi Parva     Chapter Eight        The Preceptor Drona   \n",
       "1  Adi Parva  Chapter Eighteen  Arjuna Goes on Pilgrimage   \n",
       "2  Adi Parva    Chapter Eleven          Tuition for Drona   \n",
       "\n",
       "                                             content  \n",
       "0  Seeing the princes enter adolescence, Maharaja...  \n",
       "1  After leaving Indraprastha in the dress of a m...  \n",
       "2  Drona saw that all his students were now adept...  "
      ]
     },
     "execution_count": 32,
     "metadata": {},
     "output_type": "execute_result"
    }
   ],
   "source": [
    "df_grouped = df.groupby(['parva', 'chapter', 'chapter title'],as_index=True).agg(lambda lst: \"\\n\\n\".join(lst)).reset_index()\n",
    "df_grouped.head(3)"
   ]
  },
  {
   "cell_type": "code",
   "execution_count": 34,
   "metadata": {},
   "outputs": [
    {
     "name": "stdout",
     "output_type": "stream",
     "text": [
      "{'Adi Parva': 1, 'Sabha Parva': 2, 'Vana Parva': 3, 'Virata Parva': 4, 'Udyoga Parva': 5, 'Bhisma Parva': 6, 'Drona Parva': 7, 'Karna Parva': 8, 'Salya Parva': 9, 'Sauptika Parva': 10, 'Stree Parva': 11, 'Shanti Parva': 12, 'Anushasana Parva': 13, 'Ashvamedha Parva': 14, 'Ashramvasika Parva': 15, 'Mausala Parva': 16, 'Mahaprasthanika Parva': 17}\n"
     ]
    }
   ],
   "source": [
    "parva_id_map = dict(zip(*[iter(df['parva'].unique()), iter(range(1,df.size + 1))]))\n",
    "print(parva_id_map)"
   ]
  },
  {
   "cell_type": "code",
   "execution_count": 44,
   "metadata": {},
   "outputs": [
    {
     "name": "stdout",
     "output_type": "stream",
     "text": [
      "({'parva_id': 1, 'parva': 'Adi Parva', 'chapter_id': 'Chapter One', 'chapter_title': 'Maharaja Shantanu Marries the Celestial Ganga', 'page_link': 118367}, 'According to the historical records of this earth, there once lived a King named Maharaja Shantanu, the son of Pratipa, who took his birth in the solar dynasty and was considered naradeva, the manifest representative of the Supreme Lord on earth. His fame and rule extended to all parts of the world. The qualities of self-control, liberality, forgiveness, intelligence, modesty, patience and power always resided this exalted emperor. His neck was marked with three lines like a conchshell, and his shoulders were broad. In prowess He resembled a maddened elephant. Above all these qualities, he was a devoted servant of Lord Vishnu, and therefore he was given the title, \"King of kings\".')\n"
     ]
    }
   ],
   "source": [
    "\n",
    "documents = []\n",
    "for i, row in df.iterrows():\n",
    "            parva = row['parva']\n",
    "            parva_id = parva_id_map[parva]\n",
    "            chapter_id = row['chapter']\n",
    "            chapter_title = row['chapter title']\n",
    "            content = row['content']\n",
    "            page_link = 118367 + i\n",
    "\n",
    "            metadata = {\n",
    "                'parva_id' : parva_id,\n",
    "                'parva': parva,\n",
    "                'chapter_id':chapter_id,\n",
    "                'chapter_title':chapter_title,\n",
    "                'page_link':page_link\n",
    "            }\n",
    "\n",
    "            documents.append((metadata, content))\n",
    "print(documents[0])"
   ]
  },
  {
   "cell_type": "code",
   "execution_count": 45,
   "metadata": {},
   "outputs": [
    {
     "name": "stdout",
     "output_type": "stream",
     "text": [
      "{'parva_id': 2, 'parva': 'Sabha Parva', 'chapter_id': 'Chapter Nine', 'chapter_title': 'The Gambling Match', 'page_link': 119076}\n"
     ]
    }
   ],
   "source": [
    "\n",
    "metadata = documents[random.randint(0,len(documents))][0]\n",
    "print(metadata)"
   ]
  },
  {
   "cell_type": "code",
   "execution_count": 48,
   "metadata": {},
   "outputs": [
    {
     "name": "stdout",
     "output_type": "stream",
     "text": [
      "https://en.wikisource.org/wiki/The_Mahabharata/Book_17:_Mahaprasthanika_Parva\n"
     ]
    }
   ],
   "source": [
    "print(f\"https://en.wikisource.org/wiki/The_Mahabharata/Book_{parva_id}:_{parva.replace(' ','_')}\")"
   ]
  },
  {
   "cell_type": "code",
   "execution_count": 10,
   "metadata": {},
   "outputs": [
    {
     "ename": "NameError",
     "evalue": "name 'MahabharataCSVReader' is not defined",
     "output_type": "error",
     "traceback": [
      "\u001b[0;31m---------------------------------------------------------------------------\u001b[0m",
      "\u001b[0;31mNameError\u001b[0m                                 Traceback (most recent call last)",
      "Cell \u001b[0;32mIn[10], line 1\u001b[0m\n\u001b[0;32m----> 1\u001b[0m documents \u001b[38;5;241m=\u001b[39m \u001b[43mMahabharataCSVReader\u001b[49m()\u001b[38;5;241m.\u001b[39mload_data(MAHABHARATA_OUT_FILE)\n\u001b[1;32m      2\u001b[0m documents[\u001b[38;5;241m0\u001b[39m]\n",
      "\u001b[0;31mNameError\u001b[0m: name 'MahabharataCSVReader' is not defined"
     ]
    }
   ],
   "source": [
    "documents = MahabharataCSVReader().load_data(MAHABHARATA_OUT_FILE)\n",
    "documents[0]"
   ]
  },
  {
   "cell_type": "code",
   "execution_count": 9,
   "metadata": {},
   "outputs": [
    {
     "ename": "NameError",
     "evalue": "name 'documents' is not defined",
     "output_type": "error",
     "traceback": [
      "\u001b[0;31m---------------------------------------------------------------------------\u001b[0m",
      "\u001b[0;31mNameError\u001b[0m                                 Traceback (most recent call last)",
      "Cell \u001b[0;32mIn[9], line 1\u001b[0m\n\u001b[0;32m----> 1\u001b[0m \u001b[43mdocuments\u001b[49m[\u001b[38;5;241m0\u001b[39m]\u001b[38;5;241m.\u001b[39mmetadata\n",
      "\u001b[0;31mNameError\u001b[0m: name 'documents' is not defined"
     ]
    }
   ],
   "source": [
    "documents[0].metadata"
   ]
  },
  {
   "cell_type": "code",
   "execution_count": null,
   "metadata": {},
   "outputs": [],
   "source": []
  }
 ],
 "metadata": {
  "kernelspec": {
   "display_name": "gurukul",
   "language": "python",
   "name": "python3"
  },
  "language_info": {
   "codemirror_mode": {
    "name": "ipython",
    "version": 3
   },
   "file_extension": ".py",
   "mimetype": "text/x-python",
   "name": "python",
   "nbconvert_exporter": "python",
   "pygments_lexer": "ipython3",
   "version": "3.10.13"
  }
 },
 "nbformat": 4,
 "nbformat_minor": 2
}
