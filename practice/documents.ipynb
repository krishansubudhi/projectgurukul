{
 "cells": [
  {
   "cell_type": "code",
   "execution_count": 1,
   "metadata": {},
   "outputs": [],
   "source": [
    "import dotenv\n",
    "dotenv.load_dotenv('../.env')\n",
    "\n",
    "from llama_index.core.readers.base import BaseReader\n",
    "from llama_index.core.schema import MetadataMode\n",
    "\n",
    "from projectgurukul.readers import CSVReader,RamayanaCSVReader, MahabharataCSVReader\n",
    "import pandas as pd\n",
    "import re"
   ]
  },
  {
   "cell_type": "markdown",
   "metadata": {},
   "source": [
    "# Gita"
   ]
  },
  {
   "cell_type": "code",
   "execution_count": null,
   "metadata": {},
   "outputs": [],
   "source": [
    "def preprocess(row):\n",
    "    row['chapter'], row['verse'] = row.verse_number.split(', ')\n",
    "    return row\n",
    "\n",
    "\n",
    "reader = CSVReader(text_columns=['verse','verse_in_sanskrit','translation_in_english','meaning_in_english'], metadata_columns=['chapter'], preprocess = preprocess)\n",
    "\n",
    "documents = reader.load_data('../data/gita/data/bhagavad_gita.csv', extra_info={'souce': 'Bhagavad Gita'})"
   ]
  },
  {
   "cell_type": "code",
   "execution_count": null,
   "metadata": {},
   "outputs": [
    {
     "data": {
      "text/plain": [
       "701"
      ]
     },
     "execution_count": 4,
     "metadata": {},
     "output_type": "execute_result"
    }
   ],
   "source": [
    "len(documents)"
   ]
  },
  {
   "cell_type": "code",
   "execution_count": null,
   "metadata": {},
   "outputs": [
    {
     "name": "stdout",
     "output_type": "stream",
     "text": [
      "> chapter: Chapter 1\n",
      "> souce: Bhagavad Gita\n",
      "\n",
      "Verse 1\n",
      "\n",
      "धृतराष्ट्र उवाच |धर्मक्षेत्रे कुरुक्षेत्रे समवेता युयुत्सवः |मामकाः पाण्डवाश्चैव किमकुर्वत सञ्जय ||1||\n",
      "\n",
      "Dhritarashtra said: O Sanjay, after gathering on the holy field of Kurukshetra, and desiring to fight, what did my sons and the sons of Pandu do?\n",
      "\n",
      "The two armies had gathered on the battlefield of Kurukshetra, well prepared to fight a war that was inevitable. Still, in this verse, King Dhritarashtra asked Sanjay, what his sons and his brother Pandu’s sons were doing on the battlefield? It was apparent that they would fight, then why did he ask such a question?The blind King Dhritarashtra’s fondness for his own sons had clouded his spiritual wisdom and deviated him from the path of virtue. He had usurped the kingdom of Hastinapur from the rightful heirs; the Pandavas, sons of his brother Pandu. Feeling guilty of the injustice he had done towards his nephews, his conscience worried him about the outcome of this battle.The words dharma kṣhetre, the land of dharma (virtuous conduct) used by Dhritarashtra depict the dilemma he was experiencing. Kurukshetra is described as kurukṣhetraṁ deva yajanam in the Shatapath Brahman, the Vedic textbook detailing rituals. It means “Kurukshetra is the sacrificial arena of the celestial gods.”Hence, it was regarded as the sacred land that nourished dharma.Dhritarashtra feared that the holy land might influence the minds of his sons. If it aroused the faculty of discrimination, they might turn away from killing their cousins and negotiate a truce. A peaceful settlement meant that the Pandavas would continue being a hindrance for them.He felt great displeasure at these possibilities, instead preferred that this war transpires.He was uncertain of the consequences of the war, yet desired to determine the fate of his sons. Therefore, he asked Sanjay about the activities of the two armies on the battleground.\n"
     ]
    }
   ],
   "source": [
    "documents[0].metadata_template = \"> {key}: {value}\"\n",
    "print(documents[0].get_content(metadata_mode = MetadataMode.ALL))"
   ]
  },
  {
   "cell_type": "code",
   "execution_count": null,
   "metadata": {},
   "outputs": [
    {
     "data": {
      "text/plain": [
       "'chapter: Chapter 1\\nsouce: Bhagavad Gita'"
      ]
     },
     "execution_count": 4,
     "metadata": {},
     "output_type": "execute_result"
    }
   ],
   "source": [
    "documents[1].get_metadata_str()"
   ]
  },
  {
   "cell_type": "code",
   "execution_count": null,
   "metadata": {},
   "outputs": [],
   "source": [
    "wikireader = WikipediaReader()\n",
    "wikidocs = wikireader.load_data(['ayodhya ram temple'])\n"
   ]
  },
  {
   "cell_type": "code",
   "execution_count": null,
   "metadata": {},
   "outputs": [
    {
     "name": "stdout",
     "output_type": "stream",
     "text": [
      "The Ram Mandir is a Hindu temple that is under construction in Ayodhya, Uttar Pradesh, India. It is located at the site of Ram Janmabhoomi, the hypothesized birthplace of Rama, a principal deity of Hinduism. The site is the former location of the Babri Masjid which was built after the demolition an existing non-Islamic structure. The worship of Hindu god Ram and Sita at the disputed site started when their idols were installed in 1949. In 2019, the Supreme Court of India delivered the verdict to give the disputed land to Hindus for a temple of Ram, while Muslims would be given land elsewhere to construct a mosque. The court referenced a report from the Archaeological Survey of India (ASI) as evidence suggesting the presence of a structure beneath the demolished Babri Masjid, that was found to be non-Islamic.The bhumi pujan (transl. ground breaking ceremony) for the commencement of the construction of Ram Mandir was performed on 5 August 2020, by Prime Minister Narendra Modi. The temple, currently under construction, is being supervised by the Shri Ram Janmabhoomi Teerth Kshetra Trust. The inauguration of the temple is scheduled for 22 January 2024.The temple has attracted a number of controversies due to alleged misuse of donation, sidelining of its major activists and politicisation of the temple by the BJP.\n",
      "\n",
      "\n",
      "== History ==\n",
      "\n",
      "\n",
      "=== Ancient and Medieval ===\n",
      "Rama, an incarnation of Vishnu, is a Hindu deity. According to the ancient Indian epic, Ramayana, Rama was born in Ayodhya\n"
     ]
    }
   ],
   "source": [
    "print( wikidocs[0].get_content()[:1500])"
   ]
  },
  {
   "cell_type": "markdown",
   "metadata": {},
   "source": [
    "# Ramayana"
   ]
  },
  {
   "cell_type": "code",
   "execution_count": null,
   "metadata": {},
   "outputs": [
    {
     "data": {
      "text/html": [
       "<div>\n",
       "<style scoped>\n",
       "    .dataframe tbody tr th:only-of-type {\n",
       "        vertical-align: middle;\n",
       "    }\n",
       "\n",
       "    .dataframe tbody tr th {\n",
       "        vertical-align: top;\n",
       "    }\n",
       "\n",
       "    .dataframe thead th {\n",
       "        text-align: right;\n",
       "    }\n",
       "</style>\n",
       "<table border=\"1\" class=\"dataframe\">\n",
       "  <thead>\n",
       "    <tr style=\"text-align: right;\">\n",
       "      <th></th>\n",
       "      <th>content</th>\n",
       "      <th>explanation</th>\n",
       "    </tr>\n",
       "  </thead>\n",
       "  <tbody>\n",
       "    <tr>\n",
       "      <th>5204</th>\n",
       "      <td>एवमेतत्पुरावृत्तमाख्यानंभद्रमस्तुवः ।।6.131.12...</td>\n",
       "      <td>This way Ramayana is the ancient narration. Re...</td>\n",
       "    </tr>\n",
       "    <tr>\n",
       "      <th>5205</th>\n",
       "      <td>देवाश्चसर्वेतुष्यन्तिग्रहणाच्छ्रवणात्तथा ।।6.1...</td>\n",
       "      <td>By grasping and listening to Ramayana, all god...</td>\n",
       "    </tr>\n",
       "    <tr>\n",
       "      <th>5206</th>\n",
       "      <td>भक्त्यारामस्ययेचेमांसंसितामृषिणाकृताम् ।।6.131...</td>\n",
       "      <td>Residence in heaven is assured for those who t...</td>\n",
       "    </tr>\n",
       "    <tr>\n",
       "      <th>5207</th>\n",
       "      <td>कुटुम्बवृद्धिंधनधान्यवृद्धिंस्त्रियश्चमुख्यास्...</td>\n",
       "      <td>Listening to this great auspicious epic will r...</td>\n",
       "    </tr>\n",
       "    <tr>\n",
       "      <th>5208</th>\n",
       "      <td>आयुष्यमारोग्यकरंयशस्यंसौभ्रातृकंबुद्धिकरंशुभं ...</td>\n",
       "      <td>If the narrative of Ramayana is regularly hear...</td>\n",
       "    </tr>\n",
       "  </tbody>\n",
       "</table>\n",
       "</div>"
      ],
      "text/plain": [
       "                                                content  \\\n",
       "5204  एवमेतत्पुरावृत्तमाख्यानंभद्रमस्तुवः ।।6.131.12...   \n",
       "5205  देवाश्चसर्वेतुष्यन्तिग्रहणाच्छ्रवणात्तथा ।।6.1...   \n",
       "5206  भक्त्यारामस्ययेचेमांसंसितामृषिणाकृताम् ।।6.131...   \n",
       "5207  कुटुम्बवृद्धिंधनधान्यवृद्धिंस्त्रियश्चमुख्यास्...   \n",
       "5208  आयुष्यमारोग्यकरंयशस्यंसौभ्रातृकंबुद्धिकरंशुभं ...   \n",
       "\n",
       "                                            explanation  \n",
       "5204  This way Ramayana is the ancient narration. Re...  \n",
       "5205  By grasping and listening to Ramayana, all god...  \n",
       "5206  Residence in heaven is assured for those who t...  \n",
       "5207  Listening to this great auspicious epic will r...  \n",
       "5208  If the narrative of Ramayana is regularly hear...  "
      ]
     },
     "execution_count": 2,
     "metadata": {},
     "output_type": "execute_result"
    }
   ],
   "source": [
    "df = pd.read_csv(\"../data/ramayana/data/yuddhakanda.csv\").dropna(how = 'all')\n",
    "df.tail()"
   ]
  },
  {
   "cell_type": "code",
   "execution_count": null,
   "metadata": {},
   "outputs": [
    {
     "name": "stdout",
     "output_type": "stream",
     "text": [
      "[ 1  2  3  4  5  6  7  8  9 10 11 12 13 14 15 16 17 18 19 20 21 22 23 24\n",
      " 25 26 27 28 29 30 31 32 33 34 35 36 37 38 39 40 41 42 43 44 45 46 47 48\n",
      " 49 50 51 52 53 54 55 56 57 58 59 60 61 62 63 64 65 66 67 68 69 70 71 72\n",
      " 73 74 75 76 77]\n"
     ]
    }
   ],
   "source": [
    "docs = RamayanaCSVReader().load_data(\"../data/ramayana/data/balakanda.csv\")"
   ]
  },
  {
   "cell_type": "code",
   "execution_count": null,
   "metadata": {},
   "outputs": [
    {
     "name": "stdout",
     "output_type": "stream",
     "text": [
      "sarga: 76\n",
      "summary: Rama bends the bow of Visnu--Parasurama returns to Mahendra mountain.\n",
      "\n",
      "Hearing the words of the son of Jamadagni (Parasurama), Rama, the son of Dasaratha, avoiding further conversation out of respect for his father intercepted Parasurama saying:  ।।1.76.1।।\n",
      "\n",
      " \"O Descendant of Bhrigu I have listened to the (marvellous) acts you have performed. O Brahman I commend you for discharging your duty in repaying the debt to your father. ।।1.76.2।।\n",
      "\n",
      "You underrate me O Bhargava as though I am devoid of valour and incompetent to perform the duties of a Kshatriya. Now witness my energy and valour. ।।1.76.3।।\n",
      "\n",
      " Having spoken thus, the enraged Rama, gifted with quick vigour, seized the bow and arrow from Parasurama's hands. ।।1.76.4।।\n",
      "\n",
      "Infuriated Rama bent the bow stretched it, fixed the arrow and addressed Parasurama, the son of Jamadagni: ।।1.76.5।।\n",
      "\n",
      "\"You are a brahmin, O Parasurama. You are also related to Viswamitra. Hence you are worthy of homage. I cannot, therefore, release this against you to take your life.   ।।1.76.6।।\n",
      "\n",
      "I shall destroy your mobility, O Parasurama or the higher worlds earned through your matchless asceteic energy. Tell me which one you choose. ।।1.76.7।।\n",
      "\n",
      "On conquering the hostile cities and destroying the pride and strength of the enemy by its prowess, this celestial arrow of Visnu shall not go in vain\". ।।1.76.8।।\n",
      "\n",
      "The gods with the Grandsire, Brahma in the forefront, accompanied by sages in groups assembled there to see Rama holding that mighty bow. Gandharvas, apsaras, siddhas, charanas, kinnaras, yakshas, rakshsas and nagas also came there to witness that great wonder. ।।1.76.10।।\n",
      "\n",
      "Then when Rama stretched the great bow, the world became motionless. The son of Jamadagni, Parasurama, bereft of prowess gazed at him with astonishment. ।।1.76.11।।\n",
      "\n",
      "His energy subdued by Rama's prowess, the paralysed, Parasurama, son of Jamadagni spoke in gentle words to him whose eyes resembled the lotus petals: ।।1.76.12।।\n",
      "\n",
      "\"When I gave this entire earth to Kasyapa, he said to me, 'you shall not live in my country'.  ।।1.76.13।।\n",
      "\n",
      "O Descendant of Kakustha having gifted this earth to Kasyapa, I promised him that I would not live here, during night time. For the earth belongs to him. ।।1.76.14।।\n",
      "\n",
      "For this, you should not destroy my mobility, O valiant son of the Raghus. I shall go to Mahendra, the best of mountains, with the speed of mind. ।।1.76.15।।\n",
      "\n",
      "Strike with the, principal arrow the unrivalled worlds conquered by my asceticism. Do not delay, O Rama ।।1.76.16।।\n",
      "\n",
      "By the fact that you have stretched this bow, I have come to know that you are Visnu, Lord of the gods, slayer of Madhu, O Imperishable one O Tormentor of enemies Fare well. ।।1.76.17।।\n",
      "\n",
      "All your deeds are incomparable. You are unassailable in combat. All these hosts of gods have assembled here and are looking at you.  ।।1.76.18।।\n",
      "\n",
      "I have been defeated by you, O Descendant of Kakustha lord of the three worlds. Therefore, it is not right for me to feel ashamed.  ।।1.76.19।।\n",
      "\n",
      "You are faithful to vows O Rama This arrow has no equal in prowess. It behoves of you to release it against me. After its release I shall go to the excellent Mahendra  mountain\".  ।।1.76.20।।\n",
      "\n",
      "Thus spoke  Parasurama, son of Jamadagni to Rama, the valiant son of Dasaratha who (then) discharged the principal arrow.  ।।1.76.21।।\n",
      "\n",
      "Having witnessed the destruction of those regions earned by him through asceticism, the son of Jamadagni left for the best of mountains Mahendra. ।।1.76.22।।\n",
      "\n",
      "Thereafter all the quarters including the intermediaries were cleared of darkness. Hosts of sages and gods extolled Rama when he wielded the bow. ।।1.76.23।।\n",
      "\n",
      "Parasurama, the competent son of Jamadagni, having praised Rama, the son of Dasaratha circumbulated him and left for his abode.इत्यार्षे श्रीमद्रामायणे वाल्मीकीय आदिकाव्ये बालकाण्डे षट्सप्ततितमस्सर्ग:।।Thus ends the seventysixth sarga of Balakanda of the holy Ramayana the first epic composed by sage Valmiki. ।।1.76.24।।\n"
     ]
    }
   ],
   "source": [
    "print(docs[-2].get_content(MetadataMode.LLM))"
   ]
  },
  {
   "cell_type": "markdown",
   "metadata": {},
   "source": [
    "# Mahabharata"
   ]
  },
  {
   "cell_type": "code",
   "execution_count": 6,
   "metadata": {},
   "outputs": [],
   "source": [
    "\n",
    "MAHABHARATA_OUT_FILE = \"../data/mahabharata/data/mahabharata_parsed.csv\""
   ]
  },
  {
   "cell_type": "code",
   "execution_count": 7,
   "metadata": {},
   "outputs": [],
   "source": [
    "import re\n",
    "all_lines = [] \n",
    "with open('../data/mahabharata/raw/1-18 books combined.txt', 'r') as reader:\n",
    "    all_lines = reader.readlines()\n",
    "    "
   ]
  },
  {
   "cell_type": "code",
   "execution_count": 8,
   "metadata": {},
   "outputs": [],
   "source": [
    "import csv\n",
    "with open(MAHABHARATA_OUT_FILE, \"w\") as file:\n",
    "    wr = csv.writer(file)\n",
    "    wr.writerow([\"parva\", \"chapter\",  \"chapter title\" , \"content\"])\n",
    "    current_parva = 0\n",
    "    current_chapter = 0\n",
    "    capture_current_chapter_title = False\n",
    "    for line in all_lines:\n",
    "        if line == '\\n' or len(line.strip()) == 0:\n",
    "            continue\n",
    "        if capture_current_chapter_title:\n",
    "            current_chapter_title = line.strip()\n",
    "            capture_current_chapter_title = False\n",
    "            continue\n",
    "        if re.match('^\\w+ Parva$\\n', line):\n",
    "            current_parva = line.strip()\n",
    "            continue\n",
    "        if line.startswith('Chapter') and line != 'Chapter Commentary\\n':\n",
    "            current_chapter = line.strip()\n",
    "            capture_current_chapter_title = True\n",
    "            continue\n",
    "        wr.writerow([current_parva, current_chapter,  current_chapter_title , line.strip()])\n"
   ]
  },
  {
   "cell_type": "code",
   "execution_count": 9,
   "metadata": {},
   "outputs": [
    {
     "name": "stdout",
     "output_type": "stream",
     "text": [
      "{'Adi Parva': 0, 'Sabha Parva': 1, 'Vana Parva': 2, 'Virata Parva': 3, 'Udyoga Parva': 4, 'Bhisma Parva': 5, 'Drona Parva': 6, 'Karna Parva': 7, 'Salya Parva': 8, 'Sauptika Parva': 9, 'Stree Parva': 10, 'Shanti Parva': 11, 'Anushasana Parva': 12, 'Ashvamedha Parva': 13, 'Ashramvasika Parva': 14, 'Mausala Parva': 15, 'Mahaprasthanika Parva': 16}\n"
     ]
    }
   ],
   "source": [
    "\n",
    "with open(MAHABHARATA_OUT_FILE, 'r') as file:\n",
    "    df = pd.read_csv(file).dropna(how=\"all\").fillna(\"\")\n",
    "    print(dict(zip(*[iter(df['parva'].unique()), iter(range(0,df.size))])))\n",
    "    "
   ]
  },
  {
   "cell_type": "code",
   "execution_count": 10,
   "metadata": {},
   "outputs": [
    {
     "data": {
      "text/plain": [
       "Document(id_='6413387f-bf59-417d-8d6c-b04436c8e865', embedding=None, metadata={'parva_id': 0, 'parva': 'Adi Parva', 'chapter_id': 'Chapter Eight', 'chapter_title': 'The Preceptor Drona'}, excluded_embed_metadata_keys=[], excluded_llm_metadata_keys=[], relationships={}, text='Seeing the princes enter adolescence, Maharaja Bhishma began searching for a suitable teacher to tutor them in the science of warfare. One  the heroic princes came out of Hastinapura. to play ball, and they roamed the forest areas absorbed in the ecstasy of young boys. When the ball fell into a well, they all tried their best to retrieve it, but found it impossible.\\n\\nAs they were looking in the well, a brahmana appeared who had just finished his daily performance of agnihotra (fire sacrifice). Seeing the princes unsuccessful in retrieving the ball, the brahmana, whose name was Dronacharya, approached them. He was dressed in white robes and looked thin and effulgent due to his performance of austerity and sacrifice. \"Shame on your kshatriya strength!  Drona chided the boys, \"You are born in the dynasty of Bharata and you cannot recover this ball from the well? Witness the power of my weapons!\\n\\nDrona slipped off his ring and dropped it into the dry well. The ring landed on the ball. Taking a handful of grass, he chanted some Vedic mantras, turning the blades of grass into arrows. He then pierced the ring and the ball simultaneously. Piercing one arrow after another, he made a chain of arrows that came up to the top of the well. He then pulled the ball out of the well as the boys stood watching, struck with wonder. The boys offered their obeisances to the brahmana and inquired from him, \"O great brahmana, no one possesses such skill. Please reveal your identity and how we may render service to you.\\n\\n\"Go to Bhishma,  the brahmana replied, \"and describe my likeness and what you have just seen. He will tell you who I am.  The boys ran to Bhishma and explained to him everything that had happened. Bhishma smiled and exclaimed, \"This is Drona!  He then went out of the city to receive the elevated brahmana. Maharaja Bhishma brought him into the palace, and in private inquired from him, \"Dear brahmana, please let us know the reason for your arrival in Hastinapura.\\n\\n\"In my younger years,  Drona replied, \"I lived in the ashrama of my teacher along with the Panchala prince, Drupada. We made a close friendship, and were always looking after each other. He always told me that he was the favorite of his father, and that one  he would inherit the kingdom. Because we were close friends, he promised me that some  half his kingdom would be mine. After he finished his studies, he left for his own country.\\n\\n\"In time,  Drona continued, \"I married Krpi, the daughter of the sage Gautama, and begot a son named Ashvatthama. Because of poverty I could not even feed my son milk, and therefore, I went to the kingdom of the Panchalas to see my old friend, Drupada. When I entered the royal court, I greeted him joyfully, O tiger among men, It is Drona, your old friend.\\' Drupada was angered and derided me saying, You are certainly senseless, because you, a poor brahmana, are addressing me as your friend. My former friendship with you was for a particular reason. One of impure birth can never be a friend to one who is born of a high caste. Friendships can only exist between persons of equal rank. There cannot be friendship between the rich and the poor, or between a coward and a hero. O simpleton, great kings can never have friendships with poor and luckless fellows. I do not remember ever promising half my kingdom. I will, however, give you food and shelter for one night.\\' Unable to tolerate his abusive words, I quickly left his kingdom with a vow to win half his possessions. I have now desire to train competent students who can conquer the pride of this vain King. I have received all the celestial weapons from Parashurama, the annihilator of the kshatriyas. Because I am a brahmana, he taught me the complete science of warfare.\\n\\nAfter Dronacharya had detailed his purpose, Maharaja Bhishma humbly implored him, \"String your bow, O great brahmana, and take the sons of Pandu and Dhritarastra as your disciples.  When Drona had been appointed the martial preceptor of his brother\\'s children, Maharaja Bhishma gave him a suitable home that was furnished with all opulences.\\n\\nAfter Drona had been properly situated, he soon began to train the young princes. Drona taught the sons of Pandu and the sons of Dhritarastra the use of many weapons, both human and celestial. Although the instruction given to them was the same, still Arjuna, the third son of Pandu, excelled all students. His lightness of hand and skill were beyond compare. Arjuna became very faithful to Drona and always stayed by his side. One , Drona gave to each of his students a narrow mouthed vessel to fill with water. However, he gave to his own son, Ashvatthama, a wide mouthed vessel so by filling it quickly, he could return to his father and receive special instructions. Arjuna came to know of this, and filling his vessel by means of the varuna astra (a celestial mantra that could produce water on the battlefield), he would come to the preceptor at the same time as Ashvatthama. Arjuna\\'s allegiance and his strong appetite to learn won the heart of Drona. It soon became evident to everyone that Arjuna was the preceptor\\'s favorite student.\\n\\nOne  Dronacharya told his cook, \"Never serve Arjuna food in the dark, nor tell him that I have given this order.  However, one night Arjuna was taking food in his tent by candlelight and suddenly a turbulent wind rose blowing out the candle. Arjuna continued to eat, although it was dark, and while he was eating, he thought, \"If I can eat in the dark, why can\\'t I practice archery in the dark?  Thus he began training at night, and hearing the twang of Arjuna\\'s bow, Drona came to him and embraced him lovingly, \"You are my foremost student, and I give you the benediction that there will not be an archer your equal in the world.\\n\\nThereafter, Drona began to teach Arjuna the art of fighting from a horse, from the back of an elephant, on a chariot and on the ground. He instructed him how to fight with the mace, sword, javelin and the dart. He trained him how to use many weapons at one time and how to fight with many men at one time.\\n\\nHearing reports of Drona\\'s teachings, princes flocked to him by the thousands. Amongst them came a prince of the Nishadas, named Ekalavya. By caste he was lower than shudra, and fearing that because he was a Nishada, who in time might excel his high born students, Drona refused to accept him. After bowing at Drona\\'s feet, Ekalavya went back to the forest, made a clay image of Drona and began to worship it. He practiced with great zeal in front of this deity of Drona, and in due course all the science of weaponry became known to him.\\n\\nOne  the Pandavas and the Kurus set out for the forest on a hunting excursion. They brought along a dog who could help them search for certain animals. When the dog was wandering in the forest, it saw Ekalavya, the prince of the Nishadas, releasing arrows in all directions. The prince wore black garments and was filthy due to not bathing, as was common among the lower classes. His hair was matted. Seeing this frightful sight, the dog began to bark. The Nishada prince, wanting to exhibit his prowess with the bow and arrow, shut the dog\\'s mouth with seven arrows. The dog then ran back to the Pandavas. When the princes saw the dog, they were struck with wonder and immediately began searching the forest for the archer who had performed such a feat. They soon came upon the unknown bowman and seeing his grim appearance, questioned him, \"Who are you and who is your father?\\n\\n\"I am Ekalavya,  he replied, \"the son of Hiranyadhanus, the king of the Nishadas. Please know that I am a disciple of Dronacharya.\\n\\nAfter questioning Ekalavya further, the Pandavas went back to Drona and informed him of what had happened. Arjuna thought that the Nishada prince had come to Drona in secret and learned the art of weapons. He humbly questioned Drona, \"You have embraced me and told me that I would have no equal in archery. How then has this Ekalavya surpassed me?\\n\\nAfter reflecting on a proper course of action, Drona took Arjuna to the forest. In the woods they soon came upon Ekalavya. Drona saw his matted hair, ragged clothes and filthy appearance. When Ekalavya saw Drona, he approached him and offered his prostrated obeisances, touching his preceptor\\'s feet. He then stood before his teacher waiting for his command.\\n\\n\"If you are really my disciple,  Drona said, \"then give me my dakshina (payment for tutorship).  Ekalavya was gladdened to hear the words of his preceptor and replied, \"O my teacher, what shall I give you? Command me, for there is nothing I will not sacrifice.\\n\\n\"If you are really intent on making me a gift,  Drona said, \"then please give me your right thumb.  Ekalavya was devoted to obedience, and with an unflinching mind, cut off his right thumb and gave it to his teacher. When the prince tried to shoot again with the use of his right hand, he found that he did not have the same accuracy as before.\\n\\nOne  Drona, the foremost martial teacher, called his disciples together to test their comparative excellence in the use of arms. He had placed an artificial bird on a tree top as the proposed target. He then commanded his students, \"Take up your bows, aiming at the bird in the tree. Release your arrow and cut off the bird\\'s head as I give the order.\\n\\nDrona then called for Yudhisthira and inquired, \"Do you see the bird at the top of the tree?  Yudhisthira replied to his preceptor, \"Yes, I do.  Drona then asked him, \"Do you see anything else?  Yudhisthira replied, \"I see the tree, myself, my brothers and the bird.  Drona was not pleased and ordered, \"Stand aside! You are not fit to strike the target.\\n\\nDrona then repeated the experiment with Duryodhana and the other sons of Dhritarastra, and the result was the same. He ordered them all to stand aside. When everyone had failed, Dronacharya called for Arjuna. He commanded him, \"Fix your arrow to your bow and await my order. When I say so, cut off the bird\\'s head.  He then asked him, \"Do you see the bird in the tree.  Arjuna replied, \"I only see the neck of the bird.  Dronacharya again inquired, \"What else do you see? Do you see the tree, your brothers or me?  Arjuna replied, \"I only see the neck of the bird!  With his hairs standing on end out of ecstasy, Drona ordered, \"Release your arrow!  Instantly Partha released his arrow and severed the head of the false bird. Drona immediately embraced Arjuna to his chest, considering Drupada already defeated in battle.\\n\\nOn another  Drona called for Yudhisthira and Duryodhana, and ordered them, \"My dear Yudhisthira, please follow my instructions. Go among the citizens and find someone who has some faults. When you have found that person, bring him to me.  Drona then requested Duryodhana, \"Go among the citizens and find someone who is superior in quality to you. When you find that person, bring him to me.  Both the students then left, and Drona returned to his quarters.\\n\\nAt the end of the  Duryodhana returned to his teacher and informed him, \"O my teacher, I have searched the kingdom for a person who is superior in quality to me, but I have not found anyone. Having concluded my inspection, I have returned to your presence.  Drona then dismissed Duryodhana.\\n\\nWhen the sun had set on the horizon, Yudhisthira arrived and offered obeisances to his martial teacher. Drona then inquired, \"Have you found someone of inferior quality?  Yudhisthira replied, \"I have searched all , but I could not find anyone. However, toward the end of the , I saw a vaishya man drawing water from a well, and since it was ekadashi (fasting ), I thought to bring him to you. Just as I was about to arrest him, I saw that he fed the water to his animals. Therefore, I have not found anyone with inferior qualities, but I have brought myself for fault finding with others.  Drona then dismissed Yudhisthira and reflected on the qualities of the two princes. He concluded that Yudhisthira was the personification of humility and fit to rule the people, whereas Duryodhana was too proud to be a pious king and would ultimately ruin the Kuru dynasty.\\n\\nOn another , Drona and his pupils went to the Ganges to bathe in the sacred waters. When Drona had entered the river, an alligator seized him by the thigh. Although capable of killing the alligator, he called to his students, \"Please kill this animal and rescue me!  Instantly Arjuna released five arrows that struck the alligator and killed it. This happened so fast that the others stood looking dumbfounded. The alligator released Drona and died within the waters.\\n\\nWhen Drona emerged from the river, he embraced Arjuna and said, \"O best of all warriors, I award you the brahmastra weapon, which is the most powerful of all astras (celestial weapons). It can never be used against an inferior opponent, or it will destroy the whole universe. This weapon has no equal in the three worlds. Keep it with great care and use it only against an enemy who is equal to or greater than you.  Drona then taught the mantras for this weapon to his disciple, and Arjuna received them with great respect. He then pronounced blessings upon Arjuna, \"There will never be a archer greater than yourself. You will never be defeated by any enemy, and your achievements will be recorded in the history of the world.\\n\\nThus Drona continued to instruct the sons of Pandu and the sons of Dhritarastra. When Drona felt he had given sufficient instructions to all the boys, he informed Bhishma that he would soon collect his dakshina (student payment) from all whom he had trained.\\n\\nThus Ends Mahabharata Summation to Chapter Eight of the Adi Parva, entitled, The Preceptor Drona.\\n\\nChapter Commentary\\n\\nAfter Drona tested Yudhisthira, he saw that the prince possessed the qualities of an exalted personality. He was completely free from envy and was the well wisher of all. He saw only the good qualities in others. Yudhisthira considered all others worthy of respect and himself worthy of no respect. This is the most emphasized teaching of Lord Shri Chaitanya Mahaprabhu, trnad api sunicena, taror api sahisnuna, amanina manadena, kirtaniyah sada harih, \"One should chant the holy name of the Lord in a humble state of mind, thinking oneself lower than the straw in the street. One should be more tolerant than a tree, devoid of all sense of false prestige and ready to offer all respect to others. In such a state of mind one can chant the holy name constantly.  (Shikshastaka 3)\\n\\nIn the material world the predominant mentality is to think oneself better than others. However, if one is desiring to become a citizen of the spiritual world, he has to develop the vision to see all others as more worthy of respect than himself. This mentality is pleasing to Lord Krishna. Maharaja Yudhisthira possessed this divine vision and therefore had great love for the citizens. Because of Yudhisthira\\'s humility, Drona considered him to be a fit ruler. On the other hand, Duryodhana possessed the materialistic mentality of thinking oneself better than all others. It is unfortunate that in the Kali-yuga, the Duryodhana mentality has become prominent.\\n\\nHistorians consider the bow and arrow a primitive weapon. However, when seen in the light of the Mahabharata, it more effective than the gross weapons of modern times. It is possible to release an arrow faster than a bullet if the archer is very powerful. The kshatriyas during Drona\\'s time had the strength to release arrows with tremendous velocity. By the power of mantra, Arjuna was able to release hundreds of arrows from his bow at a time, and they were so accurate that each arrow would pierce a warrior or stop an oncoming weapon.\\n\\nIn this chapter we have read how Drona imparted the brahmastra weapon to Arjuna. This mantra weapon was more powerful than the combined atomic weapons of the world. It could be directed to a single person or it could destroy the whole universe. There were many weapons invoked by the power of Vedic mantras; they were called astras. These astras manipulated the material energy in a subtle way and were much more powerful than the atomic weapons of our times. There were astras such as the vayavya astra, which created a hurricane on the battlefield; the varuna astra, which created tidal waves; and the agneya astra, which created intense fire capable of burning large numbers of warriors. There were weapons capable of putting men to sleep and weapons that could bind the enemy soldiers and stop their movement. There were weapons that could release thousands of arrows at a time and not one arrow would miss a target. There were these and many more. This was all possible by the use of Vedic mantras. These mantras were able to manipulate the material energy by the use of sound vibration as opposed to the gross manipulation used to. Any of the great maharathis in the s of yore would be a suitable match for crude tanks, howitzers, submarines, battleships and atomic weapons.\\n\\nAs Kali yuga progressed, the warrior kings gradually diminished in strength to the point where they were unable to draw the strings of powerful bows. The knowledge of different astras became lost, and a warrior was reduced to releasing one arrow at a time and with not much accuracy or force. Finally, a few centuries back, the cross bow was invented, which allowed an archer to mechanically draw back the string. However, this was not very useful because a bowman could not release many arrows quickly. The bow and the arrow became obsolete with the invention of gunpowder. To compensate the loss of strength, the rifle was invented, which, by the use of gun powder, released a bullet with great velocity.', start_char_idx=None, end_char_idx=None, text_template='{metadata_str}\\n\\n{content}', metadata_template='{key}: {value}', metadata_seperator='\\n')"
      ]
     },
     "execution_count": 10,
     "metadata": {},
     "output_type": "execute_result"
    }
   ],
   "source": [
    "documents = MahabharataCSVReader().load_data(MAHABHARATA_OUT_FILE)\n",
    "documents[0]"
   ]
  },
  {
   "cell_type": "code",
   "execution_count": null,
   "metadata": {},
   "outputs": [],
   "source": []
  }
 ],
 "metadata": {
  "kernelspec": {
   "display_name": "gurukul",
   "language": "python",
   "name": "python3"
  },
  "language_info": {
   "codemirror_mode": {
    "name": "ipython",
    "version": 3
   },
   "file_extension": ".py",
   "mimetype": "text/x-python",
   "name": "python",
   "nbconvert_exporter": "python",
   "pygments_lexer": "ipython3",
   "version": "3.11.7"
  }
 },
 "nbformat": 4,
 "nbformat_minor": 2
}
