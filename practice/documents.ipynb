{
 "cells": [
  {
   "cell_type": "code",
   "execution_count": null,
   "metadata": {},
   "outputs": [],
   "source": [
    "import dotenv\n",
    "dotenv.load_dotenv('../.env')\n",
    "\n",
    "from llama_index.core.readers.base import BaseReader\n",
    "from llama_index.core.schema import MetadataMode\n",
    "\n",
    "from projectgurukul.readers import CSVReader,RamayanaCSVReader, MahabharataCSVReader\n",
    "import pandas as pd\n",
    "import re"
   ]
  },
  {
   "cell_type": "markdown",
   "metadata": {},
   "source": [
    "# Gita"
   ]
  },
  {
   "cell_type": "code",
   "execution_count": 14,
   "metadata": {},
   "outputs": [],
   "source": [
    "def preprocess(row):\n",
    "    row['chapter'], row['verse'] = row.verse_number.split(', ')\n",
    "    return row\n",
    "\n",
    "\n",
    "reader = CSVReader(text_columns=['verse','verse_in_sanskrit','translation_in_english','meaning_in_english'], metadata_columns=['chapter'], preprocess = preprocess)\n",
    "\n",
    "documents = reader.load_data('../data/gita/data/bhagavad_gita.csv', extra_info={'souce': 'Bhagavad Gita'})"
   ]
  },
  {
   "cell_type": "code",
   "execution_count": 15,
   "metadata": {},
   "outputs": [
    {
     "data": {
      "text/plain": [
       "701"
      ]
     },
     "execution_count": 15,
     "metadata": {},
     "output_type": "execute_result"
    }
   ],
   "source": [
    "len(documents)"
   ]
  },
  {
   "cell_type": "code",
   "execution_count": 16,
   "metadata": {},
   "outputs": [
    {
     "name": "stdout",
     "output_type": "stream",
     "text": [
      "> chapter: Chapter 1\n",
      "> souce: Bhagavad Gita\n",
      "\n",
      "Verse 1\n",
      "\n",
      "धृतराष्ट्र उवाच |धर्मक्षेत्रे कुरुक्षेत्रे समवेता युयुत्सवः |मामकाः पाण्डवाश्चैव किमकुर्वत सञ्जय ||1||\n",
      "\n",
      "Dhritarashtra said: O Sanjay, after gathering on the holy field of Kurukshetra, and desiring to fight, what did my sons and the sons of Pandu do?\n",
      "\n",
      "The two armies had gathered on the battlefield of Kurukshetra, well prepared to fight a war that was inevitable. Still, in this verse, King Dhritarashtra asked Sanjay, what his sons and his brother Pandu’s sons were doing on the battlefield? It was apparent that they would fight, then why did he ask such a question?The blind King Dhritarashtra’s fondness for his own sons had clouded his spiritual wisdom and deviated him from the path of virtue. He had usurped the kingdom of Hastinapur from the rightful heirs; the Pandavas, sons of his brother Pandu. Feeling guilty of the injustice he had done towards his nephews, his conscience worried him about the outcome of this battle.The words dharma kṣhetre, the land of dharma (virtuous conduct) used by Dhritarashtra depict the dilemma he was experiencing. Kurukshetra is described as kurukṣhetraṁ deva yajanam in the Shatapath Brahman, the Vedic textbook detailing rituals. It means “Kurukshetra is the sacrificial arena of the celestial gods.”Hence, it was regarded as the sacred land that nourished dharma.Dhritarashtra feared that the holy land might influence the minds of his sons. If it aroused the faculty of discrimination, they might turn away from killing their cousins and negotiate a truce. A peaceful settlement meant that the Pandavas would continue being a hindrance for them.He felt great displeasure at these possibilities, instead preferred that this war transpires.He was uncertain of the consequences of the war, yet desired to determine the fate of his sons. Therefore, he asked Sanjay about the activities of the two armies on the battleground.\n"
     ]
    }
   ],
   "source": [
    "documents[0].metadata_template = \"> {key}: {value}\"\n",
    "print(documents[0].get_content(metadata_mode = MetadataMode.ALL))"
   ]
  },
  {
   "cell_type": "code",
   "execution_count": 17,
   "metadata": {},
   "outputs": [
    {
     "data": {
      "text/plain": [
       "'chapter: Chapter 1\\nsouce: Bhagavad Gita'"
      ]
     },
     "execution_count": 17,
     "metadata": {},
     "output_type": "execute_result"
    }
   ],
   "source": [
    "documents[1].get_metadata_str()"
   ]
  },
  {
   "cell_type": "code",
   "execution_count": 18,
   "metadata": {},
   "outputs": [
    {
     "ename": "NameError",
     "evalue": "name 'WikipediaReader' is not defined",
     "output_type": "error",
     "traceback": [
      "\u001b[0;31m---------------------------------------------------------------------------\u001b[0m",
      "\u001b[0;31mNameError\u001b[0m                                 Traceback (most recent call last)",
      "Cell \u001b[0;32mIn[18], line 1\u001b[0m\n\u001b[0;32m----> 1\u001b[0m wikireader \u001b[38;5;241m=\u001b[39m \u001b[43mWikipediaReader\u001b[49m()\n\u001b[1;32m      2\u001b[0m wikidocs \u001b[38;5;241m=\u001b[39m wikireader\u001b[38;5;241m.\u001b[39mload_data([\u001b[38;5;124m'\u001b[39m\u001b[38;5;124mayodhya ram temple\u001b[39m\u001b[38;5;124m'\u001b[39m])\n",
      "\u001b[0;31mNameError\u001b[0m: name 'WikipediaReader' is not defined"
     ]
    }
   ],
   "source": [
    "wikireader = WikipediaReader()\n",
    "wikidocs = wikireader.load_data(['ayodhya ram temple'])\n"
   ]
  },
  {
   "cell_type": "code",
   "execution_count": 19,
   "metadata": {},
   "outputs": [
    {
     "ename": "NameError",
     "evalue": "name 'wikidocs' is not defined",
     "output_type": "error",
     "traceback": [
      "\u001b[0;31m---------------------------------------------------------------------------\u001b[0m",
      "\u001b[0;31mNameError\u001b[0m                                 Traceback (most recent call last)",
      "Cell \u001b[0;32mIn[19], line 1\u001b[0m\n\u001b[0;32m----> 1\u001b[0m \u001b[38;5;28mprint\u001b[39m( \u001b[43mwikidocs\u001b[49m[\u001b[38;5;241m0\u001b[39m]\u001b[38;5;241m.\u001b[39mget_content()[:\u001b[38;5;241m1500\u001b[39m])\n",
      "\u001b[0;31mNameError\u001b[0m: name 'wikidocs' is not defined"
     ]
    }
   ],
   "source": [
    "print( wikidocs[0].get_content()[:1500])"
   ]
  },
  {
   "cell_type": "markdown",
   "metadata": {},
   "source": [
    "# Ramayana"
   ]
  },
  {
   "cell_type": "code",
   "execution_count": 30,
   "metadata": {},
   "outputs": [
    {
     "data": {
      "text/html": [
       "<div>\n",
       "<style scoped>\n",
       "    .dataframe tbody tr th:only-of-type {\n",
       "        vertical-align: middle;\n",
       "    }\n",
       "\n",
       "    .dataframe tbody tr th {\n",
       "        vertical-align: top;\n",
       "    }\n",
       "\n",
       "    .dataframe thead th {\n",
       "        text-align: right;\n",
       "    }\n",
       "</style>\n",
       "<table border=\"1\" class=\"dataframe\">\n",
       "  <thead>\n",
       "    <tr style=\"text-align: right;\">\n",
       "      <th></th>\n",
       "      <th>content</th>\n",
       "      <th>explanation</th>\n",
       "    </tr>\n",
       "  </thead>\n",
       "  <tbody>\n",
       "    <tr>\n",
       "      <th>5204</th>\n",
       "      <td>एवमेतत्पुरावृत्तमाख्यानंभद्रमस्तुवः ।।6.131.12...</td>\n",
       "      <td>This way Ramayana is the ancient narration. Re...</td>\n",
       "    </tr>\n",
       "    <tr>\n",
       "      <th>5205</th>\n",
       "      <td>देवाश्चसर्वेतुष्यन्तिग्रहणाच्छ्रवणात्तथा ।।6.1...</td>\n",
       "      <td>By grasping and listening to Ramayana, all god...</td>\n",
       "    </tr>\n",
       "    <tr>\n",
       "      <th>5206</th>\n",
       "      <td>भक्त्यारामस्ययेचेमांसंसितामृषिणाकृताम् ।।6.131...</td>\n",
       "      <td>Residence in heaven is assured for those who t...</td>\n",
       "    </tr>\n",
       "    <tr>\n",
       "      <th>5207</th>\n",
       "      <td>कुटुम्बवृद्धिंधनधान्यवृद्धिंस्त्रियश्चमुख्यास्...</td>\n",
       "      <td>Listening to this great auspicious epic will r...</td>\n",
       "    </tr>\n",
       "    <tr>\n",
       "      <th>5208</th>\n",
       "      <td>आयुष्यमारोग्यकरंयशस्यंसौभ्रातृकंबुद्धिकरंशुभं ...</td>\n",
       "      <td>If the narrative of Ramayana is regularly hear...</td>\n",
       "    </tr>\n",
       "  </tbody>\n",
       "</table>\n",
       "</div>"
      ],
      "text/plain": [
       "                                                content                                        explanation\n",
       "5204  एवमेतत्पुरावृत्तमाख्यानंभद्रमस्तुवः ।।6.131.12...  This way Ramayana is the ancient narration. Re...\n",
       "5205  देवाश्चसर्वेतुष्यन्तिग्रहणाच्छ्रवणात्तथा ।।6.1...  By grasping and listening to Ramayana, all god...\n",
       "5206  भक्त्यारामस्ययेचेमांसंसितामृषिणाकृताम् ।।6.131...  Residence in heaven is assured for those who t...\n",
       "5207  कुटुम्बवृद्धिंधनधान्यवृद्धिंस्त्रियश्चमुख्यास्...  Listening to this great auspicious epic will r...\n",
       "5208  आयुष्यमारोग्यकरंयशस्यंसौभ्रातृकंबुद्धिकरंशुभं ...  If the narrative of Ramayana is regularly hear..."
      ]
     },
     "execution_count": 30,
     "metadata": {},
     "output_type": "execute_result"
    }
   ],
   "source": [
    "df = pd.read_csv(\"../data/ramayana/data/yuddhakanda.csv\").dropna(how = 'all')\n",
    "df.tail()"
   ]
  },
  {
   "cell_type": "code",
   "execution_count": 31,
   "metadata": {},
   "outputs": [],
   "source": [
    "docs = RamayanaCSVReader().load_data(\"../data/ramayana/data/balakanda.csv\")"
   ]
  },
  {
   "cell_type": "code",
   "execution_count": 36,
   "metadata": {},
   "outputs": [
    {
     "name": "stdout",
     "output_type": "stream",
     "text": [
      "sarga: 1\n",
      "\n",
      "Ascetic Valmiki enquired of Narada, preeminent among the sages ever engaged in the practice of religious austerities or study of the Vedas and best among the eloquent.  ।।1.1.1।।\n",
      "\n",
      "\"Who in this world lives today endowed with excellent qualities, prowess, righteousness, gratitude, truthfulness and firmness in his vows? ।।1.1.2।।\n",
      "\n",
      "Who is that one gifted with good conduct, given to the wellbeing of all living creatures, learned in the lore (knowledge of all things that is known), capable of doing things which others can not do and singularly handsome?   ।।1.1.3।।\n",
      "\n",
      "\n",
      "Who (among men) is selfrestrained? Who has conquered anger? Who is endowed with brilliance and free from envy? Who is that when excited to wrath even the devatas, are afraid of (let alone foes)? ।।1.1.4।।\n",
      "\n",
      " O Maharshi, I intend to hear about such a man whom you are able to place? Indeed great is my curiosity\". ।।1.1.5।।\n",
      "\n",
      "\n",
      "Invited by Valmiki to take his seat Narada, knower of the three worlds heard him and said with delight, \"Listen to me!\". And thus spoke. ।।1.1.6।।\n",
      "\n",
      "\"O sage rare indeed are men endowed with the many qualities you have described. I  ascertained one. Listen carefully. ।।1.1.7।।\n",
      "\n",
      "People have heard his name as Rama, who was born in the race of king Ikshvaku, having steady nature, possessing incomprehensible prowess, selfeffulgent, selfcommanding and subjecting senses under his control. ।।1.1.8।।\n",
      "\n",
      "He (Sri Rama) is a great intellectual, adherent to rules, eloquent, handsome, destroyer of foes (sins), broadshouldered, strongarmed, having conchshaped neck and   prominent cheeks. ।।1.1.9।।\n",
      "\n",
      "\n",
      "Possessing a broad chest, armed with a great bow, with fleshy collar bones, knee-long arms, a noble head, a graceful forehead and great prowess, he is the destroyer of foes (sins). ।।1.1.10।।\n",
      "\n",
      "Mighty and powerful, he has a wellproportioned body, neither tall nor short, shining complexion, welldeveloped chest, large eyes, lustrous body and good qualities. ।।1.1.11।।\n",
      "\n",
      "Pious, firm in his vows, he is ever intent on doing good to his subjects. He is,  illustrious, wise, and pure at heart. He is obedient to elders (or accessible to those who are dependent on him) and ever meditating (on the means of protecting those who take refuge in him). ।।1.1.12।।\n",
      "\n",
      "Auspicious like Brahma, Sri Rama is the sustainer of this world, destroyer of enemies and protector of all living beings and of the moral code. ।।1.1.13।।\n",
      "\n",
      "  He has performed the duties of a king and protected his subjects. knowledgeable in the true nature of the Vedas he is accomplished in military science (he is a great archer). ।।1.1.14।।\n",
      "\n",
      " Sri Rama knows the true meaning of all scriptures and has a retentive memory. He is talented (possessing brightness of conception). He is beloved and welldisposed towards all people (and courteous even towards those who have done him harm). He has an unperturbed mind (even in times of extreme grief) and is circumspect (in doing right things at the right time). ।।1.1.15।।\n",
      "\n",
      "Sri Rama, like sea to rivers, is accessible to men of virtue and has equal disposition towards all. He always has a pleasing appearance. ।।1.1.16।।\n",
      "\n",
      "Sri Rama, bestowed with all virtues, enhanced the joys of Kausalya,  He is like the sea in deportment and like Himavant in fortitude. ।।1.1.17।।\n",
      "\n",
      "\n",
      "Sri Rama is like Visnu in prowess, the Moon in pleasing appearance, the all-consuming fire in anger, the earth in patience, Kubera in charity and the Sun in steadfastness. ।।1.1.18।।\n",
      "\n",
      "With a desire to promote the welfare of the people king Dasaratha decided to install   Sri Rama, his eldest and affectionate son as heir (apparent) who was bestowed with  all excellent qualities and true prowess, beloved of the people he was ever intent in the welfare of the people. ।।1.1.20।।\n",
      "\n",
      "Thereafter, having seen the preparations for installation of Rama, queen Kaikeyi who had been promised earlier with boons by Dasaratha demanded of him the exile of Rama and enthronement of Bharata. ।।1.1.22।।\n",
      "\n",
      "Dasaratha, true to his word and restrained by the bond of duty, sent his beloved  son Rama to the forest. ।।1.1.23।।\n",
      "\n",
      "Mighty Sri Rama inorder to please Kaikeyi and obey the word of command of his father, went to the forest and help the king to keep his promise to Kaikeyi. ।।1.1.24।।\n",
      "\n",
      "Lakshmana  beloved brother to Rama is drawn towards him. Endowed with modesty he is an enhancer of the joy of his mother Sumitra. Displaying his fraternal love, he followed  Rama who was departing to the forest. ।।1.1.25।।\n",
      "\n",
      "Born in the race of Janaka and daughterinlaw of Dasaratha, Sita, beloved spouse of Rama is like  his vital breath always desired the wellbeing of Rama she followed him like Rohini, the Moon. Endowed with all virtues she is the foremost woman. ।।1.1.27।।\n",
      "\n",
      "The citizens and Dasaratha followed Rama for a long distance. Rama of righteous nature having approached Guha, king of nishadas, at Shrungiberapura sent back charioteer Sumantra and Rama along with Sita and Lakshmana crossed river Ganga. ।।1.1.29।।\n",
      "\n",
      "\n",
      "Moving from one forest to another and crossing deep and wide rivers with plenty of waters, reached the Chitrakuta mountain by the command of sage Bharadwaja. They raised a hut made of leaves in the forest located in Chitrakuta mountain. and dwelt there happily resembling devas and gandharvas. ।।1.1.30, 1.1.31।।\n",
      "\n",
      "Moving from one forest to another and crossing deep and wide rivers with plenty of waters, reached the Chitrakuta mountain by the command of sage Bharadwaja. They raised a hut made of leaves in the forest located in Chitrakuta mountain. and dwelt  there happily resembling devas and gandharvas. ।।1.1.31।।\n",
      "\n",
      "When Rama had set out to Chitrakuta, king Dasaratha, stricken by the grief over the separation from his son and mourning over him departed to heavens. ।।1.1.32।।\n",
      "\n",
      "After Dasaratha had passed away, mighty Bharata did not desire to rule the kingdom  against the orders by Vasishta and other brahmins. ।।1.1.33।।\n",
      "\n",
      "The brave Bharata, who had conquered envy and hatred went to the forest in order to worship Rama's feet. ।।1.1.34।।\n",
      "\n",
      "Bharata reached Rama, so pleasing venerable, truthful and chivalrous, worshipped him with reverence and implored.   Bharata addressing Rama said, 'You are knower of righteousness. You alone should  be the king (meaning that when the elder brother is alive, the younger brother is prohibited from ruling the kingdom)'. ।।1.1.35।।\n",
      "\n",
      "Although a source of universal delight, although exceedingly generous and of cheerful countenance, highly renowned and capable Rama refused to accept the kingdom in accordance with the command of his father. ।।1.1.36।।\n",
      "\n",
      "Having handed over his sandals to Bharata as symbol of authority for ruling the kingdom, Rama persuaded him again and again to return to the capital. ।।1.1.37।।\n",
      "\n",
      "Disaaponted in his mission to take Rama back, Bharata worshipped the sandals of Rama and ruled the kingdom from Nandigrama, awaiting his return. ।।1.1.38।।\n",
      "\n",
      "When Bharata departed, Sri Rama, a man of good fortune and steadfast in vows  one who had conquered under control perceiving that the citizens from Ayodhya would arrive there, entered the Dandaka forest with single minded determination (so that there would not be breach of his promise).  ।।1.1.40।।\n",
      "\n",
      "Having entered the dense forest Dandaka, Rama slew the demon Viradha and saw the sages Sarabhanga, Sutikshna and Agastya with his brother. ।।1.1.41।।\n",
      "\n",
      "As directed by sage Agastya, Rama received with extreme delight a bow, a sword and quivers with inexhaustible arrows, given by Indra to Agastya (to be passed on to Rama). ।।1.1.42।।\n",
      "\n",
      "While Rama was dwelling in the forest (in the hermitage of sage Sarabhanga), all the ascetics along with others (sages) inhabiting the forest approached Rama requesting for the destruction of the asuras and rakshasas seizing upon their lives. ।।1.1.43।।\n",
      "\n",
      "Rama promised those ascetics, who resembled flaming fire in lustre living in Dandakaranya inhabited by rakshasas to slay them. ।।1.1.45।।\n",
      "\n",
      "During his stay there a demon called Surpanakha living in Janasthana (resting place for the army of Ravana in Dandakaranya) and capable of assuming any form at will was rendered deformed by Lakshmana. ।।1.1.46।।\n",
      "\n",
      "Thereafter Rama killed in the fight all the rakshasas, Khara, Trisira, and Dushana with their followers in a battle who were instigated by  Surpanakha's words.  ।।1.1.47।।\n",
      "\n",
      "During his stay in that forest Rama killed fourteen thousand rakshasas who were inhabitants of Janasthana.                                                                                ।।1.1.48।।\n",
      "\n",
      "Having heard the slaughter of fellow rakshasa, Ravana became violent with anger and sought the help of a rakshasa named Maricha. ।।1.1.49।।\n",
      "\n",
      "Maricha repeatedly dissuaded him saying, 'O Ravana It  is not proper for you to enter into hostility with the  mighty and powerful Rama'.  ।।1.1.50।।\n",
      "\n",
      "Disregarding his words Ravana incited by fate left for the hermitage of Rama along with Maricha. ।।1.1.51।।\n",
      "\n",
      "He with the help of deceitful Maricha drew the princes (Rama and Lakshmana) far away from their hermitage abducted Sita the wife of Rama and  slaughtered vulture Jatayu, ।।1.1.52।।\n",
      "\n",
      "Having seen and heard from the eagle Jatayu struck down by Ravana that Sita had been abducted Rama bewailed, choked with tears his senses dulled by distress. ।।1.1.53।।\n",
      "\n",
      "Then he performed in the midst of tears the funeral rites of the vulture Jatayu. Wandering in search of Sita, he beheld a rakshasa named Kabandha who was dreadful, in deformed in appearance.  ।।1.1.55।।\n",
      "\n",
      "Mightyarmed Rama, having killed Kabandha, consigned his body to flames. While leaving for heavens he informed him saying, 'O Raghava, there is a female ascetic in Sabara community, performing religious duties and proficient in practising austerities. You may visit her'. ।।1.1.56।।\n",
      "\n",
      "Rama son of Dasaratha, destroyer of enemies and possessing great splendour approached Sabari who duly worshipped him৷৷ ।।1.1.57।।\n",
      "\n",
      "On the bank of Pampa he met a monkey named Hanuman on whose advice he made friendship with Sugriva.  ।।1.1.58।।\n",
      "\n",
      "Mighty  Rama related to Sugriva all that had happened right from the beginning, more importantly Sita's abduction and also to Hanuman.  ।।1.1.59।।\n",
      "\n",
      "Hearing everything that story from Rama, Sugriva was very pleased and made a pact with Rama in the presence of Agni as witness.                   ।।1.1.60।।\n",
      "\n",
      "Thereafter Sugriva, king of monkeys filled with sorrow narrated to Rama out of friendship the entire account of his hostilities (with Vali). ।।1.1.61।।\n",
      "\n",
      "Then Rama vowed to slay Vali. The monkey (Sugriva) described about Vali's prowess to Rama. ।।1.1.62।।\n",
      "\n",
      "Doubtful of the prowess Sugriva of Rama Sugriva inorder to get convinced showed him the huge (dead) body of Dundubhi resembling a big mountain. ।।1.1.64।।\n",
      "\n",
      "The strongarmed Rama, who was endowed with great strength looked at the skeleton and smiled within himself for a while. He kicked off the skeleton with the great toe of his foot completely to a full distance of ten yojanas (eighty miles). ।।1.1.65।।\n",
      "\n",
      "Again inorder to create confidence (in Sugriva), he released a single mighty shaft which penetrated seven palmyra trees, a mountain and the Rasatala.  ।।1.1.66।।\n",
      "\n",
      "Pleased with Rama's action and convinced of his prowess he left thereafter with Rama he left for Kishkindha which was like a cave.  ।।1.1.67।।\n",
      "\n",
      "On entering the city of Kishkindha, Sugriva the best of monkeys of reddish yellow hue roared with a great voice. There upon Vali, the lord of monkeys came out (of the cave). ।।1.1.68।।\n",
      "\n",
      "After convincing his wife Tara, who was dissuading from this, Vali entered into a combat with Sugriva. There, Rama killed Vali with a single shaft. ।।1.1.69।।\n",
      "\n",
      "After he killed Vali in the combat in compliance with the words of Sugriva, Rama installed Sugriva as  king. ।।1.1.70।।\n",
      "\n",
      "The best of monkeys (Sugriva) gathered his monkey forces and despatched them in various directions in search of Janaka's daughter (Sita). ।।1.1.71।।\n",
      "\n",
      "At the suggestion of the vulture, Sampathi mighty Hanuman leapt over the saltocean extending over a hundred yojanas. ।।1.1.72।।\n",
      "\n",
      "Hanuman arrived at the city of Lanka ruled by Ravana and found Sita in the Ashoka garden meditating on Rama. ।।1.1.73।।\n",
      "\n",
      "Hanuman delivered Rama's ring to Sita as a token of recognition, related the whole story and consoled her. He then crushed the arch (of the outer gate of the garden) before leaving. ।।1.1.74।।\n",
      "\n",
      "After killing five commanders, seven sons of the counsellors, stamping out valiant Akshayakumara, the son of Ravana, Hanuman got himself captured (to be taken as captive). ।।1.1.75।।\n",
      "\n",
      "The heroic Hanuman came to know that he could be released from the entanglements of the weapon granted to him through a boon by Brahma. He allowed himself to be restrained by the rakshasas with the ropes for the sake of achieving his other objective of seeing Ravana. Thereafter, he burnt the whole of Lanka except the place where Sita was and returned to deliver the good news to Rama. ।।1.1.77।।\n",
      "\n",
      "Reaching Rama the great Hanuman gifted with boundless intellect circumambulated him and infact informed him that he had seen Sita. ।।1.1.78।।\n",
      "\n",
      "Thereafter, Rama reached the shore of the ocean together with Sugriva and saw the ocean agitated with shafts burning like the Sun. ।।1.1.79।।\n",
      "\n",
      "Samudra, lord of rivers, (afraid of Rama's anger) and having appeared in his own form, and on his advice got a bridge built with the help of Nala.  ।।1.1.80।।\n",
      "\n",
      "Rama entered the city of Lanka by means of that bridge, killed Ravana in the battle and recovered Sita. Thereafter he felt greatly embarassed (for accepting his wife who had stayed in an others. ।।1.1.81।।\n",
      "\n",
      "Rama spoke harsh words about Sita in the assembly. Sita, incapable of enduring such words, entered fire.  ।।1.1.82।।\n",
      "\n",
      "With the of testimony of the firegod, Rama was exceedingly pleased to know that Sita was sinless. All the gods adored him. ।।1.1.83।।\n",
      "\n",
      "All the animate and inanimate beings, gods and sages in the three worlds were very pleased at this noble deed of the great Rama. ।।1.1.84।।\n",
      "\n",
      "After coronating the rakshasa chief Vibhishana in the city of Lanka, Rama free from distress, exceedingly rejoiced after having accomplished his objective.  ।।1.1.85।।\n",
      "\n",
      "Having obtained a boon from the devatas (who had come to see him) Rama, revived all monkeys (fallen in the battle) and set out for Ayodhya accompanied by friends in the  pushpaka (aerial car). ।।1.1.86।।\n",
      "\n",
      "Rama who was a delight of all whose strength lies in truth went to the hermitage of Bharadwaja (as promised) and  despatched Hanuman to Bharata as his messenger. ।।1.1.87।।\n",
      "\n",
      "Again accompanied by Sugriva and recalling earlier incidents and after both of them discussed with each other, Rama departed to Nandigrama riding that pushpaka chariot. ।।1.1.88।।\n",
      "\n",
      "At Nandigrama sinless Rama arrived, met his brothers. They shed their  matted locks. With  Sita  restored  he regained his kingdom. ।।1.1.89।।\n",
      "\n",
      "The entire world rejoiced with happiness with their desire fulfilled they were content.  All people were following the path of righteousness. There was no fear of sufferings or agonies, diseases or famine. ।।1.1.90।।\n",
      "\n",
      "During the period of Rama's rule, no where  would men witness the death of their sons or women widowed. They would ever remain chaste and devoted to their husbands. ।।1.1.91।।\n",
      "\n",
      "There (in the kingdom of Rama) was no fear of fire, water, wind, disease, hunger and also theft. ।।1.1.92।।\n",
      "\n",
      "All the cities and villages were affluent with wealth and food grains. People lived happily as though they lived in Kritayuga. ।।1.1.93।।\n",
      "\n",
      "Highly renowned Rama, having satisfied the gods with the performance of a hundred of aswamedhas and many suvarnakas  bestowing hundreds of thousands of cows and immense wealth on the brahmins, will return to Brahmaloka. ।।1.1.95।।\n",
      "\n",
      "Rama will establish hundredfold royal dynasties and employ the four castes to do their respective duties, in this world. ।।1.1.96।।\n",
      "\n",
      "Rama, reigning the kingdom for eleven thousand years, will attain Brahmaloka. ।।1.1.97।।\n",
      "\n",
      "This story of Rama is sacred and holy. It destroys sins and is equal to the Vedas. Whosoever reads it will be freed from all sins. ।।1.1.98।।\n",
      "\n",
      "This story of Ramayana enhances longevity of those who read it and recite it. They will be worshipped in heavens after their death along with their sons and grandsons, servants and relations. ।।1.1.99।।\n",
      "\n",
      "A brahmin becomes proficient in the eighteen branches of learning a kshatriya gets lordship over landed possessions a vaisya gets the fruits of his business and sudra also attains greatness  by reading Ramayana\". इत्यार्षे श्रीमद्रामायणे वाल्मीकीय आदिकाव्ये बालकाण्डे (श्रीमद्रामायणकथासङ्क्षेपो नाम) प्रथम: सर्ग:।। Thus ends the first sarga of Balakanda of the holy Ramayana in synopsis of the first epic composed by sage Valmiki. ।।1.1.100।।\n"
     ]
    }
   ],
   "source": [
    "print(docs[0].get_content(MetadataMode.LLM))"
   ]
  },
  {
   "cell_type": "markdown",
   "metadata": {},
   "source": [
    "# Mahabharata"
   ]
  },
  {
   "cell_type": "code",
   "execution_count": 22,
   "metadata": {},
   "outputs": [],
   "source": [
    "import csv\n",
    "import re\n",
    "import pandas as pd\n",
    "import random\n",
    "MAHABHARATA_OUT_FILE = \"../data/mahabharata/data/mahabharata_parsed.csv\""
   ]
  },
  {
   "cell_type": "code",
   "execution_count": 23,
   "metadata": {},
   "outputs": [],
   "source": [
    "all_lines = [] \n",
    "with open('../data/mahabharata/raw/1-18 books combined.txt', 'r') as reader:\n",
    "    all_lines = reader.readlines()\n",
    "    "
   ]
  },
  {
   "cell_type": "code",
   "execution_count": 24,
   "metadata": {},
   "outputs": [],
   "source": [
    "\n",
    "with open(MAHABHARATA_OUT_FILE, \"w\") as file:\n",
    "    wr = csv.writer(file)\n",
    "    wr.writerow([\"parva\", \"chapter\",  \"chapter title\" , \"content\"])\n",
    "    current_parva = 0\n",
    "    current_chapter = 0\n",
    "    capture_current_chapter_title = False\n",
    "    for line in all_lines:\n",
    "        if line == '\\n' or len(line.strip()) == 0:\n",
    "            continue\n",
    "        if capture_current_chapter_title:\n",
    "            current_chapter_title = line.strip()\n",
    "            capture_current_chapter_title = False\n",
    "            continue\n",
    "        if re.match('^\\w+ Parva$\\n', line):\n",
    "            current_parva = line.strip()\n",
    "            continue\n",
    "        if line.startswith('Chapter') and line != 'Chapter Commentary\\n':\n",
    "            current_chapter = line.strip()\n",
    "            capture_current_chapter_title = True\n",
    "            continue\n",
    "        wr.writerow([current_parva, current_chapter,  current_chapter_title , line.strip()])\n"
   ]
  },
  {
   "cell_type": "code",
   "execution_count": 25,
   "metadata": {},
   "outputs": [
    {
     "name": "stdout",
     "output_type": "stream",
     "text": [
      "{'Adi Parva': 1, 'Sabha Parva': 2, 'Vana Parva': 3, 'Virata Parva': 4, 'Udyoga Parva': 5, 'Bhisma Parva': 6, 'Drona Parva': 7, 'Karna Parva': 8, 'Salya Parva': 9, 'Sauptika Parva': 10, 'Stree Parva': 11, 'Shanti Parva': 12, 'Anushasana Parva': 13, 'Ashvamedha Parva': 14, 'Ashramvasika Parva': 15, 'Mausala Parva': 16, 'Mahaprasthanika Parva': 17}\n"
     ]
    }
   ],
   "source": [
    "\n",
    "with open(MAHABHARATA_OUT_FILE, 'r') as file:\n",
    "    df = pd.read_csv(file).dropna(how=\"all\").fillna(\"\")\n",
    "    print(dict(zip(*[iter(df['parva'].unique()), iter(range(1,df.size + 1))])))\n",
    "    "
   ]
  },
  {
   "cell_type": "code",
   "execution_count": 26,
   "metadata": {},
   "outputs": [
    {
     "data": {
      "text/html": [
       "<div>\n",
       "<style scoped>\n",
       "    .dataframe tbody tr th:only-of-type {\n",
       "        vertical-align: middle;\n",
       "    }\n",
       "\n",
       "    .dataframe tbody tr th {\n",
       "        vertical-align: top;\n",
       "    }\n",
       "\n",
       "    .dataframe thead th {\n",
       "        text-align: right;\n",
       "    }\n",
       "</style>\n",
       "<table border=\"1\" class=\"dataframe\">\n",
       "  <thead>\n",
       "    <tr style=\"text-align: right;\">\n",
       "      <th></th>\n",
       "      <th>parva</th>\n",
       "      <th>chapter</th>\n",
       "      <th>chapter title</th>\n",
       "      <th>content</th>\n",
       "    </tr>\n",
       "  </thead>\n",
       "  <tbody>\n",
       "    <tr>\n",
       "      <th>0</th>\n",
       "      <td>Adi Parva</td>\n",
       "      <td>Chapter One</td>\n",
       "      <td>Maharaja Shantanu Marries the Celestial Ganga</td>\n",
       "      <td>According to the historical records of this ea...</td>\n",
       "    </tr>\n",
       "    <tr>\n",
       "      <th>1</th>\n",
       "      <td>Adi Parva</td>\n",
       "      <td>Chapter One</td>\n",
       "      <td>Maharaja Shantanu Marries the Celestial Ganga</td>\n",
       "      <td>Once when Maharaja Shantanu, that bull among m...</td>\n",
       "    </tr>\n",
       "    <tr>\n",
       "      <th>2</th>\n",
       "      <td>Adi Parva</td>\n",
       "      <td>Chapter One</td>\n",
       "      <td>Maharaja Shantanu Marries the Celestial Ganga</td>\n",
       "      <td>The beautiful apsara (celestial maiden) then s...</td>\n",
       "    </tr>\n",
       "  </tbody>\n",
       "</table>\n",
       "</div>"
      ],
      "text/plain": [
       "       parva  ...                                            content\n",
       "0  Adi Parva  ...  According to the historical records of this ea...\n",
       "1  Adi Parva  ...  Once when Maharaja Shantanu, that bull among m...\n",
       "2  Adi Parva  ...  The beautiful apsara (celestial maiden) then s...\n",
       "\n",
       "[3 rows x 4 columns]"
      ]
     },
     "execution_count": 26,
     "metadata": {},
     "output_type": "execute_result"
    }
   ],
   "source": [
    "df.head(3)"
   ]
  },
  {
   "cell_type": "code",
   "execution_count": 27,
   "metadata": {},
   "outputs": [
    {
     "data": {
      "text/html": [
       "<div>\n",
       "<style scoped>\n",
       "    .dataframe tbody tr th:only-of-type {\n",
       "        vertical-align: middle;\n",
       "    }\n",
       "\n",
       "    .dataframe tbody tr th {\n",
       "        vertical-align: top;\n",
       "    }\n",
       "\n",
       "    .dataframe thead th {\n",
       "        text-align: right;\n",
       "    }\n",
       "</style>\n",
       "<table border=\"1\" class=\"dataframe\">\n",
       "  <thead>\n",
       "    <tr style=\"text-align: right;\">\n",
       "      <th></th>\n",
       "      <th>parva</th>\n",
       "      <th>chapter</th>\n",
       "      <th>chapter title</th>\n",
       "      <th>content</th>\n",
       "    </tr>\n",
       "  </thead>\n",
       "  <tbody>\n",
       "    <tr>\n",
       "      <th>0</th>\n",
       "      <td>Adi Parva</td>\n",
       "      <td>Chapter Eight</td>\n",
       "      <td>The Preceptor Drona</td>\n",
       "      <td>Seeing the princes enter adolescence, Maharaja...</td>\n",
       "    </tr>\n",
       "    <tr>\n",
       "      <th>1</th>\n",
       "      <td>Adi Parva</td>\n",
       "      <td>Chapter Eighteen</td>\n",
       "      <td>Arjuna Goes on Pilgrimage</td>\n",
       "      <td>After leaving Indraprastha in the dress of a m...</td>\n",
       "    </tr>\n",
       "    <tr>\n",
       "      <th>2</th>\n",
       "      <td>Adi Parva</td>\n",
       "      <td>Chapter Eleven</td>\n",
       "      <td>Tuition for Drona</td>\n",
       "      <td>Drona saw that all his students were now adept...</td>\n",
       "    </tr>\n",
       "  </tbody>\n",
       "</table>\n",
       "</div>"
      ],
      "text/plain": [
       "       parva  ...                                            content\n",
       "0  Adi Parva  ...  Seeing the princes enter adolescence, Maharaja...\n",
       "1  Adi Parva  ...  After leaving Indraprastha in the dress of a m...\n",
       "2  Adi Parva  ...  Drona saw that all his students were now adept...\n",
       "\n",
       "[3 rows x 4 columns]"
      ]
     },
     "execution_count": 27,
     "metadata": {},
     "output_type": "execute_result"
    }
   ],
   "source": [
    "df_grouped = df.groupby(['parva', 'chapter', 'chapter title'],as_index=True).agg(lambda lst: \"\\n\\n\".join(lst)).reset_index()\n",
    "df_grouped.head(3)"
   ]
  },
  {
   "cell_type": "code",
   "execution_count": 28,
   "metadata": {},
   "outputs": [
    {
     "name": "stdout",
     "output_type": "stream",
     "text": [
      "{'Adi Parva': 1, 'Sabha Parva': 2, 'Vana Parva': 3, 'Virata Parva': 4, 'Udyoga Parva': 5, 'Bhisma Parva': 6, 'Drona Parva': 7, 'Karna Parva': 8, 'Salya Parva': 9, 'Sauptika Parva': 10, 'Stree Parva': 11, 'Shanti Parva': 12, 'Anushasana Parva': 13, 'Ashvamedha Parva': 14, 'Ashramvasika Parva': 15, 'Mausala Parva': 16, 'Mahaprasthanika Parva': 17}\n"
     ]
    }
   ],
   "source": [
    "parva_id_map = dict(zip(*[iter(df['parva'].unique()), iter(range(1,df.size + 1))]))\n",
    "print(parva_id_map)"
   ]
  },
  {
   "cell_type": "code",
   "execution_count": 29,
   "metadata": {},
   "outputs": [
    {
     "name": "stdout",
     "output_type": "stream",
     "text": [
      "({'parva_id': 1, 'parva': 'Adi Parva', 'chapter_id': 'Chapter One', 'chapter_title': 'Maharaja Shantanu Marries the Celestial Ganga', 'page_link': 118367}, 'According to the historical records of this earth, there once lived a King named Maharaja Shantanu, the son of Pratipa, who took his birth in the solar dynasty and was considered naradeva, the manifest representative of the Supreme Lord on earth. His fame and rule extended to all parts of the world. The qualities of self-control, liberality, forgiveness, intelligence, modesty, patience and power always resided this exalted emperor. His neck was marked with three lines like a conchshell, and his shoulders were broad. In prowess He resembled a maddened elephant. Above all these qualities, he was a devoted servant of Lord Vishnu, and therefore he was given the title, \"King of kings\".')\n"
     ]
    }
   ],
   "source": [
    "\n",
    "documents = []\n",
    "for i, row in df.iterrows():\n",
    "            parva = row['parva']\n",
    "            parva_id = parva_id_map[parva]\n",
    "            chapter_id = row['chapter']\n",
    "            chapter_title = row['chapter title']\n",
    "            content = row['content']\n",
    "            page_link = 118367 + i\n",
    "\n",
    "            metadata = {\n",
    "                'parva_id' : parva_id,\n",
    "                'parva': parva,\n",
    "                'chapter_id':chapter_id,\n",
    "                'chapter_title':chapter_title,\n",
    "                'page_link':page_link\n",
    "            }\n",
    "\n",
    "            documents.append((metadata, content))\n",
    "print(documents[0])"
   ]
  },
  {
   "cell_type": "code",
   "execution_count": 45,
   "metadata": {},
   "outputs": [
    {
     "name": "stdout",
     "output_type": "stream",
     "text": [
      "{'parva_id': 2, 'parva': 'Sabha Parva', 'chapter_id': 'Chapter Nine', 'chapter_title': 'The Gambling Match', 'page_link': 119076}\n"
     ]
    }
   ],
   "source": [
    "\n",
    "metadata = documents[random.randint(0,len(documents))][0]\n",
    "print(metadata)"
   ]
  },
  {
   "cell_type": "code",
   "execution_count": 48,
   "metadata": {},
   "outputs": [
    {
     "name": "stdout",
     "output_type": "stream",
     "text": [
      "https://en.wikisource.org/wiki/The_Mahabharata/Book_17:_Mahaprasthanika_Parva\n"
     ]
    }
   ],
   "source": [
    "print(f\"https://en.wikisource.org/wiki/The_Mahabharata/Book_{parva_id}:_{parva.replace(' ','_')}\")"
   ]
  },
  {
   "cell_type": "code",
   "execution_count": 10,
   "metadata": {},
   "outputs": [
    {
     "ename": "NameError",
     "evalue": "name 'MahabharataCSVReader' is not defined",
     "output_type": "error",
     "traceback": [
      "\u001b[0;31m---------------------------------------------------------------------------\u001b[0m",
      "\u001b[0;31mNameError\u001b[0m                                 Traceback (most recent call last)",
      "Cell \u001b[0;32mIn[10], line 1\u001b[0m\n\u001b[0;32m----> 1\u001b[0m documents \u001b[38;5;241m=\u001b[39m \u001b[43mMahabharataCSVReader\u001b[49m()\u001b[38;5;241m.\u001b[39mload_data(MAHABHARATA_OUT_FILE)\n\u001b[1;32m      2\u001b[0m documents[\u001b[38;5;241m0\u001b[39m]\n",
      "\u001b[0;31mNameError\u001b[0m: name 'MahabharataCSVReader' is not defined"
     ]
    }
   ],
   "source": [
    "documents = MahabharataCSVReader().load_data(MAHABHARATA_OUT_FILE)\n",
    "documents[0]"
   ]
  },
  {
   "cell_type": "code",
   "execution_count": 9,
   "metadata": {},
   "outputs": [
    {
     "ename": "NameError",
     "evalue": "name 'documents' is not defined",
     "output_type": "error",
     "traceback": [
      "\u001b[0;31m---------------------------------------------------------------------------\u001b[0m",
      "\u001b[0;31mNameError\u001b[0m                                 Traceback (most recent call last)",
      "Cell \u001b[0;32mIn[9], line 1\u001b[0m\n\u001b[0;32m----> 1\u001b[0m \u001b[43mdocuments\u001b[49m[\u001b[38;5;241m0\u001b[39m]\u001b[38;5;241m.\u001b[39mmetadata\n",
      "\u001b[0;31mNameError\u001b[0m: name 'documents' is not defined"
     ]
    }
   ],
   "source": [
    "documents[0].metadata"
   ]
  },
  {
   "cell_type": "code",
   "execution_count": null,
   "metadata": {},
   "outputs": [],
   "source": []
  }
 ],
 "metadata": {
  "kernelspec": {
   "display_name": "projectgurukul",
   "language": "python",
   "name": "python3"
  },
  "language_info": {
   "codemirror_mode": {
    "name": "ipython",
    "version": 3
   },
   "file_extension": ".py",
   "mimetype": "text/x-python",
   "name": "python",
   "nbconvert_exporter": "python",
   "pygments_lexer": "ipython3",
   "version": "3.10.16"
  }
 },
 "nbformat": 4,
 "nbformat_minor": 2
}
