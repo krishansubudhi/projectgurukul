{
 "cells": [
  {
   "cell_type": "code",
   "execution_count": 1,
   "metadata": {},
   "outputs": [],
   "source": [
    "import pymongo\n",
    "from dataclasses import dataclass, asdict\n",
    "from datetime import datetime\n",
    "from uuid import uuid4, UUID\n",
    "from llama_index.vector_stores.mongodb import MongoDBAtlasVectorSearch\n",
    "from llama_index.core import VectorStoreIndex\n",
    "from llama_index.core import StorageContext\n",
    "from llama_index.core import SimpleDirectoryReader\n",
    "from llama_index.core import load_index_from_storage\n",
    "from llama_index.core.readers.base import BaseReader\n",
    "from llama_index.core.schema import Document\n",
    "from llama_index.core.schema import MetadataMode\n",
    "from llama_index.embeddings.openai import OpenAIEmbedding\n",
    "from llama_index.core.indices.loading import load_index_from_storage \n",
    "import dotenv\n",
    "dotenv.load_dotenv('../projectgurukul')\n",
    "\n",
    "import pandas as pd\n",
    "import re\n",
    "from pymongo.mongo_client import MongoClient\n",
    "from pymongo.server_api import ServerApi\n",
    "import openai\n",
    "import os\n"
   ]
  },
  {
   "cell_type": "code",
   "execution_count": 45,
   "metadata": {},
   "outputs": [],
   "source": [
    "class CSVReader(BaseReader):\n",
    "    \"\"\"\n",
    "    CSVReader class for loading data from CSV files into a list of Document objects.\n",
    "\n",
    "    Parameters:\n",
    "    - text_columns (list): List of column names containing text data.\n",
    "    - metadata_columns (tuple, optional): Tuple of column names containing metadata (default is an empty tuple).\n",
    "    - text_template (str, optional): Template for formatting text values (default is \"{value}\").\n",
    "    - text_separator (str, optional): Separator for joining text values (default is \"\\n\\n\").\n",
    "    - preprocess (callable, optional): Function for preprocessing rows before formatting (default is None).\n",
    "    - column_name_mappings (dict, optional): Dictionary for mapping column names (default is None).\n",
    "    - header (str or None, optional): Header parameter for pandas read_csv method (default is 'infer').\n",
    "\n",
    "    Methods:\n",
    "    - load_data(file, extra_info=None): Load data from a CSV file into a list of Document objects.\n",
    "    - format_text(row): Format text values from a row using the specified template and separator.\n",
    "    - extract_metadata(row): Extract metadata values from a row.\n",
    "\n",
    "    \"\"\"\n",
    "\n",
    "    def __init__(self, text_columns, metadata_columns=(), text_template=\"{value}\", text_separator=\"\\n\\n\", preprocess=None, column_name_mappings=None, header=None):\n",
    "        self.text_columns = text_columns\n",
    "        self.metadata_columns = metadata_columns\n",
    "        self.preprocess = preprocess\n",
    "        self.text_template = text_template\n",
    "        self.text_separator = text_separator\n",
    "        self.column_name_mappings = column_name_mappings\n",
    "        self.header = header if header else 'infer'  # pandas default.\n",
    "\n",
    "    def load_data(self, file, extra_info=None):\n",
    "        \"\"\"\n",
    "        Load data from a CSV file into a list of Document objects.\n",
    "\n",
    "        Parameters:\n",
    "        - file (str): Path to the CSV file.\n",
    "        - extra_info (dict, optional): Extra information to be added to the metadata (default is None).\n",
    "\n",
    "        Returns:\n",
    "        - list: List of Document objects.\n",
    "\n",
    "        \"\"\"\n",
    "        df = pd.read_csv(file, header=self.header)\n",
    "        if self.column_name_mappings:\n",
    "            df.rename(mapper=self.column_name_mappings, axis=1, inplace=True)\n",
    "        documents = []\n",
    "\n",
    "        for _, row in df.iterrows():\n",
    "            if self.preprocess:\n",
    "                row = self.preprocess(row)\n",
    "            text = self.format_text(row)\n",
    "            metadata = self.extract_metadata(row)\n",
    "\n",
    "            if extra_info:\n",
    "                metadata.update(extra_info)\n",
    "\n",
    "            documents.append(Document(text=text, extra_info=metadata))\n",
    "\n",
    "        return documents\n",
    "\n",
    "    def format_text(self, row):\n",
    "        \"\"\"\n",
    "        Format text values from a row using the specified template and separator.\n",
    "\n",
    "        Parameters:\n",
    "        - row (pd.Series): Row from the CSV file.\n",
    "\n",
    "        Returns:\n",
    "        - str: Formatted text.\n",
    "\n",
    "        \"\"\"\n",
    "        text_values = [self.text_template.format(\n",
    "            key=col, value=row[col]) for col in self.text_columns]\n",
    "        return self.text_separator.join(text_values)\n",
    "\n",
    "    def extract_metadata(self, row):\n",
    "        \"\"\"\n",
    "        Extract metadata values from a row.\n",
    "\n",
    "        Parameters:\n",
    "        - row (pd.Series): Row from the CSV file.\n",
    "\n",
    "        Returns:\n",
    "        - dict: Metadata values.\n",
    "\n",
    "        \"\"\"\n",
    "        return {col: row[col] for col in self.metadata_columns}\n",
    "\n",
    "\n",
    "class RamayanaCSVReader(CSVReader):\n",
    "    def __init__(self):\n",
    "        pass\n",
    "    def load_data(self, file, extra_info=None):\n",
    "        df = pd.read_csv(file).dropna(how=\"all\").fillna(\"\")\n",
    "        ids = df.content.map(lambda shloka: re.findall(r'.*(\\d+\\.\\d+\\.\\d+).*',shloka))\n",
    "        df[\"shloka_ids\"] = ids.map(lambda ids: \", \".join(ids))\n",
    "        df[\"sarga\"] = ids.map(lambda ids: int(ids[0].split(\".\")[1]))\n",
    "\n",
    "        df[\"shloka_with_explanation\"] = df.apply(\n",
    "            lambda row: f\"{row.content}\\n {row.explanation}\",\n",
    "            axis = 1\n",
    "        )\n",
    "\n",
    "        df[\"explanation_with_id\"] = df.apply(\n",
    "            lambda row: f\"{row.explanation} ।।{row.shloka_ids}।।\",\n",
    "            axis = 1\n",
    "        )\n",
    "        df_grouped = df.groupby('sarga').agg(lambda lst: \"\\n\\n\".join(lst)).reset_index()\n",
    "        documents = []\n",
    "\n",
    "        for _, row in df_grouped.iterrows():\n",
    "            sarga = row['sarga']\n",
    "            shlokas = row['content']\n",
    "            english_expl = row['explanation']\n",
    "            shloka_with_explanation = row['shloka_with_explanation']\n",
    "            explanation_with_id = row['explanation_with_id']\n",
    "\n",
    "            metadata = {\n",
    "                'sarga': sarga\n",
    "            }\n",
    "\n",
    "\n",
    "            if shlokas[0] == \"[\":\n",
    "                metadata['summary'] = shlokas.split(\"]\")[0][1:][:200]\n",
    "\n",
    "            if extra_info:\n",
    "                metadata.update(extra_info)\n",
    "\n",
    "            # documents.append(Document(text=shloka_with_explanation, extra_info=metadata))\n",
    "            documents.append(Document(text=explanation_with_id, extra_info=metadata))\n",
    "\n",
    "        return documents\n",
    "\n",
    "class MahabharataCSVReader(CSVReader):\n",
    "    def __init__(self):\n",
    "        pass\n",
    "    def load_data(self, file, extra_info=None):\n",
    "        df = pd.read_csv(file)\n",
    "        documents = []\n",
    "\n",
    "        df_grouped = df.groupby(['parva', 'chapter', 'chapter title']).agg(lambda lst: \"\\n\\n\".join(lst)).reset_index()\n",
    "        parva_id_map = dict(zip(*[iter(df_grouped['parva'].unique()), iter(range(1, df_grouped.size + 1))]))\n",
    "\n",
    "        for _, row in df_grouped.iterrows():\n",
    "            parva = row['parva']\n",
    "            parva_id = parva_id_map[parva]\n",
    "            chapter_id = row['chapter']\n",
    "            chapter_title = row['chapter title']\n",
    "            content = row['content']\n",
    "\n",
    "            metadata = {\n",
    "                'parva_id' : parva_id,\n",
    "                'parva': parva,\n",
    "                'chapter_id':chapter_id,\n",
    "                'chapter_title':chapter_title\n",
    "            }\n",
    "            for document in documents:\n",
    "                document.metadata['scripture'] = 'mahabharata'\n",
    "                document.excluded_embed_metadata_keys.extend([\"file_path\"])\n",
    "                document.excluded_llm_metadata_keys.extend([\"file_path\"])\n",
    "                document.excluded_embed_metadata_keys.extend([\"parva_id\"])\n",
    "                document.excluded_llm_metadata_keys.extend([\"parva_id\"])\n",
    "            documents.append(Document(doc_id=str(parva_id)+\".\"+ chapter_id, text=content, extra_info=metadata))\n",
    "\n",
    "        return documents"
   ]
  },
  {
   "cell_type": "code",
   "execution_count": 46,
   "metadata": {},
   "outputs": [
    {
     "name": "stdout",
     "output_type": "stream",
     "text": [
      "Pinged your deployment. You successfully connected to MongoDB!\n"
     ]
    }
   ],
   "source": [
    "\n",
    "\n",
    "uri = \"mongodb+srv://xxxxxxxxxxxx@yyyy.mongodb.net/?retryWrites=true&w=majority\"\n",
    "# Create a new client and connect to the server\n",
    "client = MongoClient(uri, server_api=ServerApi('1'))\n",
    "# Send a ping to confirm a successful connection\n",
    "try:\n",
    "    client.admin.command('ping')\n",
    "    print(\"Pinged your deployment. You successfully connected to MongoDB!\")\n",
    "except Exception as e:\n",
    "    print(e)"
   ]
  },
  {
   "cell_type": "code",
   "execution_count": 49,
   "metadata": {},
   "outputs": [
    {
     "data": {
      "text/plain": [
       "DeleteResult({'n': 14, 'electionId': ObjectId('7fffffff0000000000000156'), 'opTime': {'ts': Timestamp(1708533659, 28), 't': 342}, 'ok': 1.0, '$clusterTime': {'clusterTime': Timestamp(1708533659, 28), 'signature': {'hash': b'A\\x95\\xc4\\xbc\\x856i\\xa2v\\x18{\\xe7\\x93~\\x9a\\xf8R\\x045\\xad', 'keyId': 7286506562779086851}}, 'operationTime': Timestamp(1708533659, 28)}, acknowledged=True)"
      ]
     },
     "execution_count": 49,
     "metadata": {},
     "output_type": "execute_result"
    }
   ],
   "source": [
    "#clear db\n",
    "db = client.get_database('test')\n",
    "db.get_collection(\"knowledge\").delete_many({'metadata.parva_id' : 1})"
   ]
  },
  {
   "cell_type": "code",
   "execution_count": 52,
   "metadata": {},
   "outputs": [
    {
     "data": {
      "text/plain": [
       "Document(id_='1.Chapter Eight', embedding=None, metadata={'parva_id': 1, 'parva': 'Adi Parva', 'chapter_id': 'Chapter Eight', 'chapter_title': 'The Preceptor Drona', 'scripture': 'mahabharata'}, excluded_embed_metadata_keys=['file_path', 'parva_id'], excluded_llm_metadata_keys=['file_path', 'parva_id'], relationships={}, text='Seeing the princes enter adolescence, Maharaja Bhishma began searching for a suitable teacher to tutor them in the science of warfare. One  the heroic princes came out of Hastinapura. to play ball, and they roamed the forest areas absorbed in the ecstasy of young boys. When the ball fell into a well, they all tried their best to retrieve it, but found it impossible.\\n\\nAs they were looking in the well, a brahmana appeared who had just finished his daily performance of agnihotra (fire sacrifice). Seeing the princes unsuccessful in retrieving the ball, the brahmana, whose name was Dronacharya, approached them. He was dressed in white robes and looked thin and effulgent due to his performance of austerity and sacrifice. \"Shame on your kshatriya strength!  Drona chided the boys, \"You are born in the dynasty of Bharata and you cannot recover this ball from the well? Witness the power of my weapons!\\n\\nDrona slipped off his ring and dropped it into the dry well. The ring landed on the ball. Taking a handful of grass, he chanted some Vedic mantras, turning the blades of grass into arrows. He then pierced the ring and the ball simultaneously. Piercing one arrow after another, he made a chain of arrows that came up to the top of the well. He then pulled the ball out of the well as the boys stood watching, struck with wonder. The boys offered their obeisances to the brahmana and inquired from him, \"O great brahmana, no one possesses such skill. Please reveal your identity and how we may render service to you.\\n\\n\"Go to Bhishma,  the brahmana replied, \"and describe my likeness and what you have just seen. He will tell you who I am.  The boys ran to Bhishma and explained to him everything that had happened. Bhishma smiled and exclaimed, \"This is Drona!  He then went out of the city to receive the elevated brahmana. Maharaja Bhishma brought him into the palace, and in private inquired from him, \"Dear brahmana, please let us know the reason for your arrival in Hastinapura.\\n\\n\"In my younger years,  Drona replied, \"I lived in the ashrama of my teacher along with the Panchala prince, Drupada. We made a close friendship, and were always looking after each other. He always told me that he was the favorite of his father, and that one  he would inherit the kingdom. Because we were close friends, he promised me that some  half his kingdom would be mine. After he finished his studies, he left for his own country.\\n\\n\"In time,  Drona continued, \"I married Krpi, the daughter of the sage Gautama, and begot a son named Ashvatthama. Because of poverty I could not even feed my son milk, and therefore, I went to the kingdom of the Panchalas to see my old friend, Drupada. When I entered the royal court, I greeted him joyfully, O tiger among men, It is Drona, your old friend.\\' Drupada was angered and derided me saying, You are certainly senseless, because you, a poor brahmana, are addressing me as your friend. My former friendship with you was for a particular reason. One of impure birth can never be a friend to one who is born of a high caste. Friendships can only exist between persons of equal rank. There cannot be friendship between the rich and the poor, or between a coward and a hero. O simpleton, great kings can never have friendships with poor and luckless fellows. I do not remember ever promising half my kingdom. I will, however, give you food and shelter for one night.\\' Unable to tolerate his abusive words, I quickly left his kingdom with a vow to win half his possessions. I have now desire to train competent students who can conquer the pride of this vain King. I have received all the celestial weapons from Parashurama, the annihilator of the kshatriyas. Because I am a brahmana, he taught me the complete science of warfare.\\n\\nAfter Dronacharya had detailed his purpose, Maharaja Bhishma humbly implored him, \"String your bow, O great brahmana, and take the sons of Pandu and Dhritarastra as your disciples.  When Drona had been appointed the martial preceptor of his brother\\'s children, Maharaja Bhishma gave him a suitable home that was furnished with all opulences.\\n\\nAfter Drona had been properly situated, he soon began to train the young princes. Drona taught the sons of Pandu and the sons of Dhritarastra the use of many weapons, both human and celestial. Although the instruction given to them was the same, still Arjuna, the third son of Pandu, excelled all students. His lightness of hand and skill were beyond compare. Arjuna became very faithful to Drona and always stayed by his side. One , Drona gave to each of his students a narrow mouthed vessel to fill with water. However, he gave to his own son, Ashvatthama, a wide mouthed vessel so by filling it quickly, he could return to his father and receive special instructions. Arjuna came to know of this, and filling his vessel by means of the varuna astra (a celestial mantra that could produce water on the battlefield), he would come to the preceptor at the same time as Ashvatthama. Arjuna\\'s allegiance and his strong appetite to learn won the heart of Drona. It soon became evident to everyone that Arjuna was the preceptor\\'s favorite student.\\n\\nOne  Dronacharya told his cook, \"Never serve Arjuna food in the dark, nor tell him that I have given this order.  However, one night Arjuna was taking food in his tent by candlelight and suddenly a turbulent wind rose blowing out the candle. Arjuna continued to eat, although it was dark, and while he was eating, he thought, \"If I can eat in the dark, why can\\'t I practice archery in the dark?  Thus he began training at night, and hearing the twang of Arjuna\\'s bow, Drona came to him and embraced him lovingly, \"You are my foremost student, and I give you the benediction that there will not be an archer your equal in the world.\\n\\nThereafter, Drona began to teach Arjuna the art of fighting from a horse, from the back of an elephant, on a chariot and on the ground. He instructed him how to fight with the mace, sword, javelin and the dart. He trained him how to use many weapons at one time and how to fight with many men at one time.\\n\\nHearing reports of Drona\\'s teachings, princes flocked to him by the thousands. Amongst them came a prince of the Nishadas, named Ekalavya. By caste he was lower than shudra, and fearing that because he was a Nishada, who in time might excel his high born students, Drona refused to accept him. After bowing at Drona\\'s feet, Ekalavya went back to the forest, made a clay image of Drona and began to worship it. He practiced with great zeal in front of this deity of Drona, and in due course all the science of weaponry became known to him.\\n\\nOne  the Pandavas and the Kurus set out for the forest on a hunting excursion. They brought along a dog who could help them search for certain animals. When the dog was wandering in the forest, it saw Ekalavya, the prince of the Nishadas, releasing arrows in all directions. The prince wore black garments and was filthy due to not bathing, as was common among the lower classes. His hair was matted. Seeing this frightful sight, the dog began to bark. The Nishada prince, wanting to exhibit his prowess with the bow and arrow, shut the dog\\'s mouth with seven arrows. The dog then ran back to the Pandavas. When the princes saw the dog, they were struck with wonder and immediately began searching the forest for the archer who had performed such a feat. They soon came upon the unknown bowman and seeing his grim appearance, questioned him, \"Who are you and who is your father?\\n\\n\"I am Ekalavya,  he replied, \"the son of Hiranyadhanus, the king of the Nishadas. Please know that I am a disciple of Dronacharya.\\n\\nAfter questioning Ekalavya further, the Pandavas went back to Drona and informed him of what had happened. Arjuna thought that the Nishada prince had come to Drona in secret and learned the art of weapons. He humbly questioned Drona, \"You have embraced me and told me that I would have no equal in archery. How then has this Ekalavya surpassed me?\\n\\nAfter reflecting on a proper course of action, Drona took Arjuna to the forest. In the woods they soon came upon Ekalavya. Drona saw his matted hair, ragged clothes and filthy appearance. When Ekalavya saw Drona, he approached him and offered his prostrated obeisances, touching his preceptor\\'s feet. He then stood before his teacher waiting for his command.\\n\\n\"If you are really my disciple,  Drona said, \"then give me my dakshina (payment for tutorship).  Ekalavya was gladdened to hear the words of his preceptor and replied, \"O my teacher, what shall I give you? Command me, for there is nothing I will not sacrifice.\\n\\n\"If you are really intent on making me a gift,  Drona said, \"then please give me your right thumb.  Ekalavya was devoted to obedience, and with an unflinching mind, cut off his right thumb and gave it to his teacher. When the prince tried to shoot again with the use of his right hand, he found that he did not have the same accuracy as before.\\n\\nOne  Drona, the foremost martial teacher, called his disciples together to test their comparative excellence in the use of arms. He had placed an artificial bird on a tree top as the proposed target. He then commanded his students, \"Take up your bows, aiming at the bird in the tree. Release your arrow and cut off the bird\\'s head as I give the order.\\n\\nDrona then called for Yudhisthira and inquired, \"Do you see the bird at the top of the tree?  Yudhisthira replied to his preceptor, \"Yes, I do.  Drona then asked him, \"Do you see anything else?  Yudhisthira replied, \"I see the tree, myself, my brothers and the bird.  Drona was not pleased and ordered, \"Stand aside! You are not fit to strike the target.\\n\\nDrona then repeated the experiment with Duryodhana and the other sons of Dhritarastra, and the result was the same. He ordered them all to stand aside. When everyone had failed, Dronacharya called for Arjuna. He commanded him, \"Fix your arrow to your bow and await my order. When I say so, cut off the bird\\'s head.  He then asked him, \"Do you see the bird in the tree.  Arjuna replied, \"I only see the neck of the bird.  Dronacharya again inquired, \"What else do you see? Do you see the tree, your brothers or me?  Arjuna replied, \"I only see the neck of the bird!  With his hairs standing on end out of ecstasy, Drona ordered, \"Release your arrow!  Instantly Partha released his arrow and severed the head of the false bird. Drona immediately embraced Arjuna to his chest, considering Drupada already defeated in battle.\\n\\nOn another  Drona called for Yudhisthira and Duryodhana, and ordered them, \"My dear Yudhisthira, please follow my instructions. Go among the citizens and find someone who has some faults. When you have found that person, bring him to me.  Drona then requested Duryodhana, \"Go among the citizens and find someone who is superior in quality to you. When you find that person, bring him to me.  Both the students then left, and Drona returned to his quarters.\\n\\nAt the end of the  Duryodhana returned to his teacher and informed him, \"O my teacher, I have searched the kingdom for a person who is superior in quality to me, but I have not found anyone. Having concluded my inspection, I have returned to your presence.  Drona then dismissed Duryodhana.\\n\\nWhen the sun had set on the horizon, Yudhisthira arrived and offered obeisances to his martial teacher. Drona then inquired, \"Have you found someone of inferior quality?  Yudhisthira replied, \"I have searched all , but I could not find anyone. However, toward the end of the , I saw a vaishya man drawing water from a well, and since it was ekadashi (fasting ), I thought to bring him to you. Just as I was about to arrest him, I saw that he fed the water to his animals. Therefore, I have not found anyone with inferior qualities, but I have brought myself for fault finding with others.  Drona then dismissed Yudhisthira and reflected on the qualities of the two princes. He concluded that Yudhisthira was the personification of humility and fit to rule the people, whereas Duryodhana was too proud to be a pious king and would ultimately ruin the Kuru dynasty.\\n\\nOn another , Drona and his pupils went to the Ganges to bathe in the sacred waters. When Drona had entered the river, an alligator seized him by the thigh. Although capable of killing the alligator, he called to his students, \"Please kill this animal and rescue me!  Instantly Arjuna released five arrows that struck the alligator and killed it. This happened so fast that the others stood looking dumbfounded. The alligator released Drona and died within the waters.\\n\\nWhen Drona emerged from the river, he embraced Arjuna and said, \"O best of all warriors, I award you the brahmastra weapon, which is the most powerful of all astras (celestial weapons). It can never be used against an inferior opponent, or it will destroy the whole universe. This weapon has no equal in the three worlds. Keep it with great care and use it only against an enemy who is equal to or greater than you.  Drona then taught the mantras for this weapon to his disciple, and Arjuna received them with great respect. He then pronounced blessings upon Arjuna, \"There will never be a archer greater than yourself. You will never be defeated by any enemy, and your achievements will be recorded in the history of the world.\\n\\nThus Drona continued to instruct the sons of Pandu and the sons of Dhritarastra. When Drona felt he had given sufficient instructions to all the boys, he informed Bhishma that he would soon collect his dakshina (student payment) from all whom he had trained.\\n\\nThus Ends Mahabharata Summation to Chapter Eight of the Adi Parva, entitled, The Preceptor Drona.\\n\\nChapter Commentary\\n\\nAfter Drona tested Yudhisthira, he saw that the prince possessed the qualities of an exalted personality. He was completely free from envy and was the well wisher of all. He saw only the good qualities in others. Yudhisthira considered all others worthy of respect and himself worthy of no respect. This is the most emphasized teaching of Lord Shri Chaitanya Mahaprabhu, trnad api sunicena, taror api sahisnuna, amanina manadena, kirtaniyah sada harih, \"One should chant the holy name of the Lord in a humble state of mind, thinking oneself lower than the straw in the street. One should be more tolerant than a tree, devoid of all sense of false prestige and ready to offer all respect to others. In such a state of mind one can chant the holy name constantly.  (Shikshastaka 3)\\n\\nIn the material world the predominant mentality is to think oneself better than others. However, if one is desiring to become a citizen of the spiritual world, he has to develop the vision to see all others as more worthy of respect than himself. This mentality is pleasing to Lord Krishna. Maharaja Yudhisthira possessed this divine vision and therefore had great love for the citizens. Because of Yudhisthira\\'s humility, Drona considered him to be a fit ruler. On the other hand, Duryodhana possessed the materialistic mentality of thinking oneself better than all others. It is unfortunate that in the Kali-yuga, the Duryodhana mentality has become prominent.\\n\\nHistorians consider the bow and arrow a primitive weapon. However, when seen in the light of the Mahabharata, it more effective than the gross weapons of modern times. It is possible to release an arrow faster than a bullet if the archer is very powerful. The kshatriyas during Drona\\'s time had the strength to release arrows with tremendous velocity. By the power of mantra, Arjuna was able to release hundreds of arrows from his bow at a time, and they were so accurate that each arrow would pierce a warrior or stop an oncoming weapon.\\n\\nIn this chapter we have read how Drona imparted the brahmastra weapon to Arjuna. This mantra weapon was more powerful than the combined atomic weapons of the world. It could be directed to a single person or it could destroy the whole universe. There were many weapons invoked by the power of Vedic mantras; they were called astras. These astras manipulated the material energy in a subtle way and were much more powerful than the atomic weapons of our times. There were astras such as the vayavya astra, which created a hurricane on the battlefield; the varuna astra, which created tidal waves; and the agneya astra, which created intense fire capable of burning large numbers of warriors. There were weapons capable of putting men to sleep and weapons that could bind the enemy soldiers and stop their movement. There were weapons that could release thousands of arrows at a time and not one arrow would miss a target. There were these and many more. This was all possible by the use of Vedic mantras. These mantras were able to manipulate the material energy by the use of sound vibration as opposed to the gross manipulation used to. Any of the great maharathis in the s of yore would be a suitable match for crude tanks, howitzers, submarines, battleships and atomic weapons.\\n\\nAs Kali yuga progressed, the warrior kings gradually diminished in strength to the point where they were unable to draw the strings of powerful bows. The knowledge of different astras became lost, and a warrior was reduced to releasing one arrow at a time and with not much accuracy or force. Finally, a few centuries back, the cross bow was invented, which allowed an archer to mechanically draw back the string. However, this was not very useful because a bowman could not release many arrows quickly. The bow and the arrow became obsolete with the invention of gunpowder. To compensate the loss of strength, the rifle was invented, which, by the use of gun powder, released a bullet with great velocity.', start_char_idx=None, end_char_idx=None, text_template='{metadata_str}\\n\\n{content}', metadata_template='{key}: {value}', metadata_seperator='\\n')"
      ]
     },
     "execution_count": 52,
     "metadata": {},
     "output_type": "execute_result"
    }
   ],
   "source": [
    "MAHABHARATA_OUT_FILE = \"../data/mahabharata/data/mahabharata_parsed.csv\"\n",
    "documents = MahabharataCSVReader().load_data(MAHABHARATA_OUT_FILE)\n",
    "documents[0]"
   ]
  },
  {
   "cell_type": "code",
   "execution_count": 53,
   "metadata": {},
   "outputs": [],
   "source": [
    "\n",
    "store = MongoDBAtlasVectorSearch(client, db_name=\"test\", collection_name=\"knowledge\", id_key=\"id_\", index_name=\"vector_index\")\n",
    "storage_context = StorageContext.from_defaults(vector_store=store)"
   ]
  },
  {
   "cell_type": "code",
   "execution_count": 54,
   "metadata": {},
   "outputs": [
    {
     "data": {
      "text/plain": [
       "'None'"
      ]
     },
     "execution_count": 54,
     "metadata": {},
     "output_type": "execute_result"
    }
   ],
   "source": [
    "# create your index\n",
    "index = VectorStoreIndex.from_documents(\n",
    "    documents, storage_context=storage_context\n",
    ")\n",
    "index.summary"
   ]
  },
  {
   "cell_type": "code",
   "execution_count": 41,
   "metadata": {},
   "outputs": [
    {
     "name": "stdout",
     "output_type": "stream",
     "text": [
      "The Pandavas were the sons of Pandu, a king in the Mahabharata epic. They were Yudhishthira, Bhima, Arjuna, Nakula, and Sahadeva.\n"
     ]
    }
   ],
   "source": [
    "query_engine = index.as_query_engine()\n",
    "response = query_engine.query(\"Who was Pandavas?\")\n",
    "print(response)"
   ]
  },
  {
   "cell_type": "code",
   "execution_count": 55,
   "metadata": {},
   "outputs": [
    {
     "name": "stdout",
     "output_type": "stream",
     "text": [
      "The Pandavas were the sons of King Pandu, born to his two wives Kunti and Madri. They were known for their righteousness, valor, and close association with Lord Krishna. The Pandavas played a significant role in the epic Mahabharata, particularly in the Kurukshetra War, where they fought against their cousins, the Kauravas, for their rightful claim to the throne.\n"
     ]
    }
   ],
   "source": [
    "#load a new context \n",
    "new_index = load_index_from_storage(storage_context)\n",
    "query_engine = new_index.as_query_engine()\n",
    "response = query_engine.query(\"Who was Pandavas?\")\n",
    "print(response)"
   ]
  },
  {
   "cell_type": "code",
   "execution_count": 43,
   "metadata": {},
   "outputs": [
    {
     "name": "stdout",
     "output_type": "stream",
     "text": [
      "The Pandavas were a group of five brothers - Yudhishthira, Bhima, Arjuna, Nakula, and Sahadeva. They were central characters in the Indian epic Mahabharata.\n"
     ]
    }
   ],
   "source": [
    "new_index_2 = load_index_from_storage(storage_context)\n",
    "query_engine_2 = new_index_2.as_query_engine()\n",
    "response_2 = query_engine_2.query(\"Who were Pandavas?\")\n",
    "print(response_2)"
   ]
  }
 ],
 "metadata": {
  "kernelspec": {
   "display_name": "Python 3",
   "language": "python",
   "name": "python3"
  },
  "language_info": {
   "codemirror_mode": {
    "name": "ipython",
    "version": 3
   },
   "file_extension": ".py",
   "mimetype": "text/x-python",
   "name": "python",
   "nbconvert_exporter": "python",
   "pygments_lexer": "ipython3",
   "version": "3.10.13"
  }
 },
 "nbformat": 4,
 "nbformat_minor": 2
}
