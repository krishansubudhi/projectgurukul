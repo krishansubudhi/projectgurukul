{
 "cells": [
  {
   "cell_type": "code",
   "execution_count": 7,
   "metadata": {},
   "outputs": [],
   "source": [
    "import pymongo\n",
    "import dotenv\n",
    "dotenv.load_dotenv(\"../.env\")\n",
    "import os\n",
    "from datetime import datetime\n"
   ]
  },
  {
   "cell_type": "code",
   "execution_count": 8,
   "metadata": {},
   "outputs": [],
   "source": [
    "\n",
    "client = pymongo.MongoClient(os.environ['MONGO_DB_CONNECTION_URL'], uuidRepresentation='standard')\n"
   ]
  },
  {
   "cell_type": "code",
   "execution_count": 13,
   "metadata": {},
   "outputs": [
    {
     "name": "stdout",
     "output_type": "stream",
     "text": [
      "1 Does Krishna advocate for blind faith in him, or does he encourage independent judgment and action?\n",
      "2 Was the construction of the Rama Setu bridge a violation of Dharma, considering it harmed marine life?\n",
      "3 Was Vibhishana a traitor for joining Rama's side against his brother Ravana?\n",
      "4 Did Sita have autonomy in her choices, or was she simply a pawn in the larger narrative?\n",
      "5 Was Kaikeyi justified in asking for Rama's exile and Bharata's coronation?\n",
      "6 What is yog and who is a yogi?\n",
      "7 Does ramayan encourage violence through it's wars?\n",
      "8 How do I know what my dharma is ?\n",
      "9 What was the reason for hanuman's unconditional devotion for Rama?\n",
      "10 If lord Krishna and Rama were both humans like us, why do we treat them like God?\n",
      "11 I feel like I need a break from my daily life but I have so much responsibility. What shall I do\n",
      "12 Does the Ramayana promote the idea of war and violence through its depiction of the Vanara army's eagerness to crush Lanka?\n"
     ]
    }
   ],
   "source": [
    "items = client.test.threads.find().sort('post_date',pymongo.DESCENDING)\n",
    "for i, item in enumerate(items):\n",
    "    print(i+1, item[\"question\"][\"content\"])"
   ]
  },
  {
   "cell_type": "code",
   "execution_count": null,
   "metadata": {},
   "outputs": [],
   "source": [
    "from website import forum\n"
   ]
  },
  {
   "cell_type": "code",
   "execution_count": 24,
   "metadata": {},
   "outputs": [
    {
     "name": "stdout",
     "output_type": "stream",
     "text": [
      "Deleted 16 threads.\n"
     ]
    }
   ],
   "source": [
    "delete_result = client.test.threads.delete_many({\"post_date\": {\"$lt\": datetime(2024, 1, 21)}})\n",
    "\n",
    "# Print the number of deleted documents\n",
    "print(f\"Deleted {delete_result.deleted_count} threads.\")"
   ]
  }
 ],
 "metadata": {
  "kernelspec": {
   "display_name": "gurukul",
   "language": "python",
   "name": "python3"
  },
  "language_info": {
   "codemirror_mode": {
    "name": "ipython",
    "version": 3
   },
   "file_extension": ".py",
   "mimetype": "text/x-python",
   "name": "python",
   "nbconvert_exporter": "python",
   "pygments_lexer": "ipython3",
   "version": "3.11.7"
  }
 },
 "nbformat": 4,
 "nbformat_minor": 2
}
