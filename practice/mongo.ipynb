{
 "cells": [
  {
   "cell_type": "code",
   "execution_count": 1,
   "metadata": {},
   "outputs": [],
   "source": [
    "import pymongo\n",
    "import dotenv\n",
    "dotenv.load_dotenv(\"../.env\")\n",
    "import os\n",
    "from datetime import datetime\n"
   ]
  },
  {
   "cell_type": "code",
   "execution_count": 2,
   "metadata": {},
   "outputs": [],
   "source": [
    "\n",
    "client = pymongo.MongoClient(os.environ['MONGO_DB_CONNECTION_URL'], uuidRepresentation='standard')\n"
   ]
  },
  {
   "cell_type": "code",
   "execution_count": 3,
   "metadata": {},
   "outputs": [
    {
     "name": "stdout",
     "output_type": "stream",
     "text": [
      "1 {'role': 'user', 'content': 'What is the story behind the Ram temple in Ayodhya?'}\n",
      "2 {'role': 'user', 'content': 'How long did lord Rama live?'}\n",
      "3 {'role': 'user', 'content': 'Why do hindus worship Rama?'}\n",
      "4 {'role': 'user', 'content': 'How does the Ramayana explore the themes of exile, loyalty, and the triumph of good over evil?'}\n",
      "5 {'role': 'user', 'content': 'Who is ravana?'}\n",
      "6 {'role': 'user', 'content': \"what was hanuman's strength?\"}\n",
      "7 {'role': 'user', 'content': 'How was the setu to Lanka formed. Did rocks float on the water and a bridge was formed ? '}\n",
      "8 {'role': 'user', 'content': \"What's the ultimate goal of human life? \"}\n",
      "9 {'role': 'user', 'content': 'Does Krishna advocate for blind faith in him, or does he encourage independent judgment and action?'}\n",
      "10 {'role': 'user', 'content': 'Was the construction of the Rama Setu bridge a violation of Dharma, considering it harmed marine life?'}\n",
      "11 {'role': 'user', 'content': \"Was Vibhishana a traitor for joining Rama's side against his brother Ravana?\"}\n",
      "12 {'role': 'user', 'content': 'Did Sita have autonomy in her choices, or was she simply a pawn in the larger narrative?'}\n",
      "13 {'role': 'user', 'content': \"Was Kaikeyi justified in asking for Rama's exile and Bharata's coronation?\"}\n",
      "14 {'role': 'user', 'content': 'Does Gita recommend being a vegetarian and why? '}\n",
      "15 {'role': 'user', 'content': 'Where and when was Rama born?'}\n",
      "16 {'role': 'user', 'content': 'What can we learn from jatayu?'}\n",
      "17 {'role': 'user', 'content': 'What is significance of temples in our life?'}\n",
      "18 {'role': 'user', 'content': 'What are some of the major themes or moral lessons that can be derived from the Ramayana?'}\n",
      "19 {'role': 'user', 'content': \"How can the teachings of the Gita and Ramayana be relevant to addressing challenges in today's world, such as stress, materialism, or social conflicts?\"}\n",
      "20 {'role': 'user', 'content': 'Interpret the Bhagavad Gita as a guide to overcoming personal psychological battles.\"'}\n",
      "21 {'role': 'user', 'content': \"If Ravana's father was a brahmin, then how come ravana a rakshasa not brahmin ?\"}\n",
      "22 {'role': 'user', 'content': 'What is yog and who is a yogi?'}\n",
      "23 {'role': 'user', 'content': \"Does ramayan encourage violence through it's wars?\"}\n",
      "24 {'role': 'user', 'content': 'How do I know what my dharma is ?'}\n",
      "25 {'role': 'user', 'content': \"What was the reason for hanuman's unconditional devotion for Rama?\"}\n",
      "26 {'role': 'user', 'content': 'If lord Krishna and Rama were both humans like us, why do we treat them like God?'}\n",
      "27 {'role': 'user', 'content': 'I feel like I need a break from my daily life but I have so much responsibility. What shall I do'}\n",
      "28 {'role': 'user', 'content': \"Does the Ramayana promote the idea of war and violence through its depiction of the Vanara army's eagerness to crush Lanka?\"}\n"
     ]
    }
   ],
   "source": [
    "items = client.test.threads.find().sort('post_date',pymongo.DESCENDING)\n",
    "for i, item in enumerate(items):\n",
    "    print(i+1, item[\"question\"])"
   ]
  },
  {
   "cell_type": "code",
   "execution_count": 4,
   "metadata": {},
   "outputs": [
    {
     "data": {
      "text/plain": [
       "DeleteResult({'n': 1, 'electionId': ObjectId('7fffffff0000000000000153'), 'opTime': {'ts': Timestamp(1706064521, 26), 't': 339}, 'ok': 1.0, '$clusterTime': {'clusterTime': Timestamp(1706064521, 26), 'signature': {'hash': b'k$\\nH\\x12\\xb7\\x96\\xe1\\x97pS\\xd0i\\xbf.?z9\\xc8\\x14', 'keyId': 7286506562779086851}}, 'operationTime': Timestamp(1706064521, 26)}, acknowledged=True)"
      ]
     },
     "execution_count": 4,
     "metadata": {},
     "output_type": "execute_result"
    }
   ],
   "source": [
    "client.test.threads.delete_one({\"question\":{'role': 'user', 'content': 'What is the story behind the Ram temple in Ayodhya?'}})"
   ]
  },
  {
   "cell_type": "code",
   "execution_count": 27,
   "metadata": {},
   "outputs": [],
   "source": [
    "delete_result = client.test.threads.find_one({\"_id\": \"d87e0016-ae1b-42ae-981d-7a797da36036\"})\n",
    "delete_result"
   ]
  },
  {
   "cell_type": "code",
   "execution_count": 24,
   "metadata": {},
   "outputs": [
    {
     "name": "stdout",
     "output_type": "stream",
     "text": [
      "Deleted 16 threads.\n"
     ]
    }
   ],
   "source": [
    "delete_result = client.test.threads.delete_many({\"post_date\": {\"$lt\": datetime(2024, 1, 21)}})\n",
    "\n",
    "# Print the number of deleted documents\n",
    "# print(f\"Deleted {delete_result.deleted_count} threads.\")"
   ]
  }
 ],
 "metadata": {
  "kernelspec": {
   "display_name": "gurukul",
   "language": "python",
   "name": "python3"
  },
  "language_info": {
   "codemirror_mode": {
    "name": "ipython",
    "version": 3
   },
   "file_extension": ".py",
   "mimetype": "text/x-python",
   "name": "python",
   "nbconvert_exporter": "python",
   "pygments_lexer": "ipython3",
   "version": "3.11.7"
  }
 },
 "nbformat": 4,
 "nbformat_minor": 2
}
