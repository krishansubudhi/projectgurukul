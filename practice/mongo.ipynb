{
 "cells": [
  {
   "cell_type": "code",
   "execution_count": 1,
   "metadata": {},
   "outputs": [],
   "source": [
    "import pymongo\n",
    "import dotenv\n",
    "dotenv.load_dotenv(\"../.env\")\n",
    "import os\n",
    "from datetime import datetime\n"
   ]
  },
  {
   "cell_type": "code",
   "execution_count": 2,
   "metadata": {},
   "outputs": [],
   "source": [
    "\n",
    "client = pymongo.MongoClient(os.environ['MONGO_DB_CONNECTION_URL'], uuidRepresentation='standard')\n"
   ]
  },
  {
   "cell_type": "code",
   "execution_count": 5,
   "metadata": {},
   "outputs": [
    {
     "name": "stdout",
     "output_type": "stream",
     "text": [
      "1 46cf510e-c22b-4d82-9f39-10a9d4e0670e {'role': 'user', 'content': 'what are different hindu scriptures and how are they different from one another?'} 2024-02-17 09:00:12.726000\n",
      "2 a7f1ca1c-111c-4141-b8d8-0d14add21341 {'role': 'user', 'content': 'What is more important? Career or relationship or health?'} 2024-02-17 06:18:53.498000\n",
      "3 6f1376ec-7f00-4942-b546-5dadf8fec72c {'role': 'user', 'content': 'What hobbies are recommended and what hobbies should be avoided? '} 2024-02-12 05:58:38.521000\n",
      "4 e89a7807-1442-4865-b297-7f7bc66062d6 {'role': 'user', 'content': 'What is the purpose of our life? Why are we attracted to material happiness ?'} 2024-02-12 05:56:41.161000\n",
      "5 5dd5e33e-1640-4359-8c8d-817187d95104 {'role': 'user', 'content': 'Is it bad to think of your own happiness if it makes your parents unhappy? '} 2024-02-12 05:53:45.672000\n",
      "6 8f94578a-70e4-4abe-8714-b8fd40d518ad {'role': 'user', 'content': 'Did big bang create the universe?'} 2024-02-07 06:39:03.463000\n",
      "7 48640818-e94d-41bd-a522-e92517a2281d {'role': 'user', 'content': 'What shall I do in the morning ? Read a book ,  work on my software  or just watch tv?'} 2024-01-27 02:46:04.339000\n",
      "8 36b08ba2-0d67-49e9-8bdb-72989e808af2 {'role': 'user', 'content': \"Why were asuras always destroyed by Vishnu? Isn't it discrimination and stereotyping  the whole asura clan as bad ?\"} 2024-01-27 02:36:38.541000\n",
      "9 825e9abd-8db0-4ff3-ba51-1324b525cf58 {'role': 'user', 'content': 'How did mata sita spend her vanabas?'} 2024-01-26 00:52:14.928000\n",
      "10 4fc8854e-089c-4c89-9edb-060a3540dab6 {'role': 'user', 'content': 'What are the 10 important and distinct teachings from Bhagavad Gita and Ramayana each that a person should know? How can we apply them in our modern 21st century lifestyle?'} 2024-01-25 14:03:33.623000\n",
      "11 00d578e0-42e8-4325-9e2f-e27bc2e28a34 {'role': 'user', 'content': \"Who was Lord Rama's guru? What skills did Rama have ?\"} 2024-01-25 09:01:20.096000\n",
      "12 93b58e40-6ba8-49ca-af06-2381cf8828f6 {'role': 'user', 'content': 'If ravana was so intelligent why did he make the mistake of abducting Devi Sita? What should we learn from this?'} 2024-01-25 08:55:12.149000\n",
      "13 61dfe8a5-4fcf-478b-9862-1213b64aac78 {'role': 'user', 'content': 'In short tell me who was the king of vanaras?'} 2024-01-25 08:39:19.425000\n",
      "14 c499116e-5c4a-4fa2-9f71-45f97cb5148a {'role': 'user', 'content': 'How to handle worldly duties without getting frustrated by them ? '} 2024-01-24 19:16:16.414000\n",
      "15 b4efad0e-cfa3-4139-8cb7-3c00dd362cce {'role': 'user', 'content': 'Why did lakshmana follow Rama and Sita when he went for vanavas?'} 2024-01-24 17:51:40.727000\n",
      "16 1b4aaef1-02ad-4270-b8c3-5b7eabb2096b {'role': 'user', 'content': \"Why did krishna agree to be arjuna's saarthi?\"} 2024-01-24 15:05:44.442000\n",
      "17 2f00a1e0-2bb3-429c-b0e3-ab8eff4f9b9d {'role': 'user', 'content': \"While by going to vanvas ram respected his father didn't he go against his Kshatriya  Dharma of serving his people as king ?\"} 2024-01-24 05:05:32.985000\n",
      "18 170ac85f-1c68-415b-8a76-36d9f7ad0053 {'role': 'user', 'content': 'If I do not get success in my work immediately but believe in the mission, what shall I do?'} 2024-01-24 02:56:11.229000\n",
      "19 43698dfb-cde6-4163-9200-a18d1ee1ece6 {'role': 'user', 'content': 'Why was Arjuna, the warrior prince having a moral dilema? What questions did he ask and what answers did lord Krishna give?'} 2024-01-24 02:54:18.299000\n",
      "20 0d8a4834-0555-4d83-9da0-444e11bf106a {'role': 'user', 'content': 'How long did lord Rama live?'} 2024-01-23 17:20:09.822000\n",
      "21 6f8ce6ff-e41f-4cef-a5c5-cee238810403 {'role': 'user', 'content': 'Why do hindus worship Rama?'} 2024-01-23 17:16:55.354000\n",
      "22 1ada26e7-10c7-4366-9e3c-874407bbee01 {'role': 'user', 'content': 'How does the Ramayana explore the themes of exile, loyalty, and the triumph of good over evil?'} 2024-01-23 17:15:36.588000\n",
      "23 e4d12972-400a-40c9-b836-207af072856e {'role': 'user', 'content': 'Who is ravana?'} 2024-01-23 16:59:36.086000\n",
      "24 4ecca1e5-110d-4b37-a3c6-2bc76cc4dd35 {'role': 'user', 'content': \"what was hanuman's strength?\"} 2024-01-23 10:26:58.800000\n",
      "25 17db9484-97d2-41a2-84c9-e6a27ff56524 {'role': 'user', 'content': 'How was the setu to Lanka formed. Did rocks float on the water and a bridge was formed ? '} 2024-01-22 17:51:16.353000\n",
      "26 30f9e1b6-eb4d-4712-8a39-ec6a5808bb34 {'role': 'user', 'content': \"What's the ultimate goal of human life? \"} 2024-01-22 16:46:16.063000\n",
      "27 2d5f61da-f345-4f9b-851e-73768a0f8638 {'role': 'user', 'content': 'Does Krishna advocate for blind faith in him, or does he encourage independent judgment and action?'} 2024-01-22 15:16:42.288000\n",
      "28 cbd96eab-3cb7-4421-8165-628ad1c0ee83 {'role': 'user', 'content': 'Was the construction of the Rama Setu bridge a violation of Dharma, considering it harmed marine life?'} 2024-01-22 15:15:33.934000\n",
      "29 e38ef2ce-b14c-4a35-bb00-6c8a53a29273 {'role': 'user', 'content': \"Was Vibhishana a traitor for joining Rama's side against his brother Ravana?\"} 2024-01-22 14:51:22.305000\n",
      "30 b7443110-e4f1-40e5-94e8-045ee4fec8bc {'role': 'user', 'content': 'Did Sita have autonomy in her choices, or was she simply a pawn in the larger narrative?'} 2024-01-22 14:50:24.980000\n",
      "31 ea4cd6ed-a8a2-4e63-855b-a991163ef9de {'role': 'user', 'content': \"Was Kaikeyi justified in asking for Rama's exile and Bharata's coronation?\"} 2024-01-22 14:47:26.241000\n",
      "32 c3fb0478-2394-4f96-a8a6-30228cf44b79 {'role': 'user', 'content': 'Does Gita recommend being a vegetarian and why? '} 2024-01-22 13:02:58.810000\n",
      "33 98750032-d284-4702-a4da-45241076069a {'role': 'user', 'content': 'Where and when was Rama born?'} 2024-01-22 12:55:14.237000\n",
      "34 1f6a1442-24a3-4499-b3d1-db63df568a08 {'role': 'user', 'content': 'What can we learn from jatayu?'} 2024-01-22 12:13:34.669000\n",
      "35 6e34ed24-c94a-43bb-8fbc-25dea8883ed8 {'role': 'user', 'content': 'What is significance of temples in our life?'} 2024-01-22 12:05:13.677000\n",
      "36 5ec6296e-d909-444d-bdd4-b633577213c3 {'role': 'user', 'content': 'What are some of the major themes or moral lessons that can be derived from the Ramayana?'} 2024-01-22 12:00:54.913000\n",
      "37 335f6cce-6ba8-4d92-8e95-89fa789e9664 {'role': 'user', 'content': \"How can the teachings of the Gita and Ramayana be relevant to addressing challenges in today's world, such as stress, materialism, or social conflicts?\"} 2024-01-22 10:52:54.310000\n",
      "38 ef2bbf46-8018-4a53-9326-a0d1e6efd940 {'role': 'user', 'content': 'Interpret the Bhagavad Gita as a guide to overcoming personal psychological battles.\"'} 2024-01-22 10:49:39.284000\n",
      "39 2984f4f3-bf6e-4cdc-8d72-682fa9bca121 {'role': 'user', 'content': \"If Ravana's father was a brahmin, then how come ravana a rakshasa not brahmin ?\"} 2024-01-22 10:46:04.041000\n",
      "40 1d9aedff-5ff3-46cd-8511-58e6b65d14f2 {'role': 'user', 'content': 'What is yog and who is a yogi?'} 2024-01-22 06:08:38.069000\n",
      "41 d9c4276a-3053-4884-90fe-7763b37079d1 {'role': 'user', 'content': \"Does ramayan encourage violence through it's wars?\"} 2024-01-22 00:21:51.441000\n",
      "42 fa2f2e63-c1a8-4a4e-b0cf-71313c14d324 {'role': 'user', 'content': 'How do I know what my dharma is ?'} 2024-01-22 00:17:30.007000\n",
      "43 8cd7893b-881a-4943-bc2f-65237735f21a {'role': 'user', 'content': \"What was the reason for hanuman's unconditional devotion for Rama?\"} 2024-01-21 21:12:31.044000\n",
      "44 25d2f3a4-7774-4170-b889-25071dcff44a {'role': 'user', 'content': 'If lord Krishna and Rama were both humans like us, why do we treat them like God?'} 2024-01-21 19:22:40.287000\n",
      "45 a0a1ed16-b060-48cf-925c-e218b311e93d {'role': 'user', 'content': 'I feel like I need a break from my daily life but I have so much responsibility. What shall I do'} 2024-01-21 18:37:38.407000\n",
      "46 7e742004-6383-483b-a647-4a267d21b9f3 {'role': 'user', 'content': \"Does the Ramayana promote the idea of war and violence through its depiction of the Vanara army's eagerness to crush Lanka?\"} 2024-01-21 16:00:05.162000\n"
     ]
    }
   ],
   "source": [
    "items = client.test.threads.find().sort('post_date',pymongo.DESCENDING)\n",
    "for i, item in enumerate(items):\n",
    "    print(i+1, item['_id'], item[\"question\"], item[\"post_date\"])"
   ]
  },
  {
   "cell_type": "code",
   "execution_count": 6,
   "metadata": {},
   "outputs": [
    {
     "data": {
      "text/plain": [
       "DeleteResult({'n': 1, 'electionId': ObjectId('7fffffff0000000000000153'), 'opTime': {'ts': Timestamp(1706172658, 24), 't': 339}, 'ok': 1.0, '$clusterTime': {'clusterTime': Timestamp(1706172658, 24), 'signature': {'hash': b'slg\\xb1e\\xe9\\xecX\\xaa\\x94\\xa4\\xd1]\\x12K\\xf1\\x1bC\\x12[', 'keyId': 7286506562779086851}}, 'operationTime': Timestamp(1706172658, 24)}, acknowledged=True)"
      ]
     },
     "execution_count": 6,
     "metadata": {},
     "output_type": "execute_result"
    }
   ],
   "source": [
    "client.test.threads.delete_one({\"question\":{'role': 'user', 'content': 'why was sugriva killed?'}})"
   ]
  },
  {
   "cell_type": "code",
   "execution_count": 4,
   "metadata": {},
   "outputs": [
    {
     "data": {
      "text/plain": [
       "DeleteResult({'n': 1, 'electionId': ObjectId('7fffffff0000000000000156'), 'opTime': {'ts': Timestamp(1708150848, 31), 't': 342}, 'ok': 1.0, '$clusterTime': {'clusterTime': Timestamp(1708150848, 32), 'signature': {'hash': b'\\xe4u\\x8bO\\x0fT>!\\x1dmY\\xfft.\\xa3\\xbe\\x95?d\\xc8', 'keyId': 7286506562779086851}}, 'operationTime': Timestamp(1708150848, 31)}, acknowledged=True)"
      ]
     },
     "execution_count": 4,
     "metadata": {},
     "output_type": "execute_result"
    }
   ],
   "source": [
    "from uuid import UUID\n",
    "client.test.threads.delete_one({\"_id\": UUID('3f0ba8eb-9fbb-403a-b563-bc4f51f8636f')})"
   ]
  },
  {
   "cell_type": "code",
   "execution_count": 10,
   "metadata": {},
   "outputs": [
    {
     "data": {
      "text/plain": [
       "<pymongo.cursor.Cursor at 0x107c0e710>"
      ]
     },
     "execution_count": 10,
     "metadata": {},
     "output_type": "execute_result"
    }
   ],
   "source": [
    "client.test.threads.find_one"
   ]
  },
  {
   "cell_type": "code",
   "execution_count": 24,
   "metadata": {},
   "outputs": [
    {
     "name": "stdout",
     "output_type": "stream",
     "text": [
      "Deleted 16 threads.\n"
     ]
    }
   ],
   "source": [
    "# delete_result = client.test.threads.delete_many({\"post_date\": {\"$lt\": datetime(2024, 1, 21)}})\n",
    "\n",
    "# # Print the number of deleted documents\n",
    "# # print(f\"Deleted {delete_result.deleted_count} threads.\")"
   ]
  }
 ],
 "metadata": {
  "kernelspec": {
   "display_name": "gurukul",
   "language": "python",
   "name": "python3"
  },
  "language_info": {
   "codemirror_mode": {
    "name": "ipython",
    "version": 3
   },
   "file_extension": ".py",
   "mimetype": "text/x-python",
   "name": "python",
   "nbconvert_exporter": "python",
   "pygments_lexer": "ipython3",
   "version": "3.11.7"
  }
 },
 "nbformat": 4,
 "nbformat_minor": 2
}
